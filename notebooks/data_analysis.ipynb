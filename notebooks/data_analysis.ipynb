{
  "nbformat": 4,
  "nbformat_minor": 0,
  "metadata": {
    "colab": {
      "provenance": []
    },
    "kernelspec": {
      "name": "python3",
      "display_name": "Python 3"
    },
    "language_info": {
      "name": "python"
    }
  },
  "cells": [
    {
      "cell_type": "code",
      "source": [
        "import os\n",
        "import pandas as pd\n",
        "import numpy as np\n",
        "from collections import Counter\n",
        "import matplotlib.pyplot as plt\n",
        "import seaborn as sns\n",
        "import argparse"
      ],
      "metadata": {
        "id": "ZI9a0jDm4l5X"
      },
      "execution_count": null,
      "outputs": []
    },
    {
      "cell_type": "code",
      "source": [
        "from google.colab import drive\n",
        "drive.mount('/content/drive')"
      ],
      "metadata": {
        "colab": {
          "base_uri": "https://localhost:8080/"
        },
        "id": "AlhbezMSFcYb",
        "outputId": "baedcf64-9528-4a2b-e358-7c14706a0dcf"
      },
      "execution_count": null,
      "outputs": [
        {
          "output_type": "stream",
          "name": "stdout",
          "text": [
            "Drive already mounted at /content/drive; to attempt to forcibly remount, call drive.mount(\"/content/drive\", force_remount=True).\n"
          ]
        }
      ]
    },
    {
      "cell_type": "code",
      "source": [
        "import sys\n",
        "sys.path.append('/content/drive/MyDrive/instaDeep/src/protein_universe_annotate')"
      ],
      "metadata": {
        "id": "EB2HXzAMFZBn"
      },
      "execution_count": null,
      "outputs": []
    },
    {
      "cell_type": "code",
      "source": [
        "from data_processing import read_pfam_dataset"
      ],
      "metadata": {
        "id": "0g5CKTRkFY05"
      },
      "execution_count": null,
      "outputs": []
    },
    {
      "cell_type": "code",
      "source": [
        "from data_exploration import *"
      ],
      "metadata": {
        "id": "I_M9QQmH8CfO"
      },
      "execution_count": null,
      "outputs": []
    },
    {
      "cell_type": "code",
      "source": [
        "data_partitions_dirpath = '/content/drive/MyDrive/instaDeep/data/random_split/'\n",
        "print('Available dataset partitions: ', os.listdir(data_partitions_dirpath))"
      ],
      "metadata": {
        "colab": {
          "base_uri": "https://localhost:8080/"
        },
        "id": "xr2DktomFYkj",
        "outputId": "53a58975-e9f8-40d9-e41b-930b0cbfb89b"
      },
      "execution_count": null,
      "outputs": [
        {
          "output_type": "stream",
          "name": "stdout",
          "text": [
            "Available dataset partitions:  ['dev', 'test', 'train']\n"
          ]
        }
      ]
    },
    {
      "cell_type": "code",
      "source": [
        "# Print the available dataset partitions\n",
        "print('Available dataset partitions: ', os.listdir(data_partitions_dirpath))\n",
        "\n",
        "# Read each dataset partition into a pandas DataFrame\n",
        "dev_df = read_pfam_dataset('dev', data_partitions_dirpath)\n",
        "test_df = read_pfam_dataset('test', data_partitions_dirpath)\n",
        "train_df = read_pfam_dataset('train', data_partitions_dirpath)"
      ],
      "metadata": {
        "colab": {
          "base_uri": "https://localhost:8080/"
        },
        "id": "XRfwjExu8y9n",
        "outputId": "4eee2982-5cc6-453c-d589-e5c6b1a42136"
      },
      "execution_count": null,
      "outputs": [
        {
          "output_type": "stream",
          "name": "stdout",
          "text": [
            "Available dataset partitions:  ['dev', 'test', 'train']\n"
          ]
        }
      ]
    },
    {
      "cell_type": "code",
      "source": [
        "# Assign the dataset type to each sample by adding a new 'split' column\n",
        "dev_df['split'] = 'dev'\n",
        "test_df['split'] = 'test'\n",
        "train_df['split'] = 'train'"
      ],
      "metadata": {
        "id": "8R1KfoJI821i"
      },
      "execution_count": null,
      "outputs": []
    },
    {
      "cell_type": "code",
      "source": [
        "# Convert true labels from PF00001.21 to PF00001\n",
        "dev_df['true_label'] = dev_df.family_accession.apply(lambda s: s.split('.')[0])\n",
        "test_df['true_label'] = test_df.family_accession.apply(lambda s: s.split('.')[0])\n",
        "train_df['true_label'] = train_df.family_accession.apply(lambda s: s.split('.')[0])"
      ],
      "metadata": {
        "id": "E8LIn7bq85_d"
      },
      "execution_count": null,
      "outputs": []
    },
    {
      "cell_type": "code",
      "source": [
        "# Extract length of sequence\n",
        "dev_df['sequence_len'] = dev_df['sequence'].apply(lambda x: len(x))\n",
        "test_df['sequence_len'] = test_df['sequence'].apply(lambda x: len(x))\n",
        "train_df['sequence_len'] = train_df['sequence'].apply(lambda x: len(x))"
      ],
      "metadata": {
        "id": "BBqGHoU0850x"
      },
      "execution_count": null,
      "outputs": []
    },
    {
      "cell_type": "code",
      "source": [
        "# Concatenate the datasets in one DataFrame\n",
        "total_data_df = pd.concat([test_df, dev_df, train_df], ignore_index=True)"
      ],
      "metadata": {
        "id": "sGS8n4X582ka"
      },
      "execution_count": null,
      "outputs": []
    },
    {
      "cell_type": "code",
      "source": [
        "# Basic info\n",
        "print(f\"Number of samples from dev-test-train: {total_data_df.shape[0]}\")\n",
        "print(f\"Number of features: {total_data_df.shape[1]}\")\n",
        "print(f\"Features: {total_data_df.columns.tolist()}\")\n",
        "\n",
        "print(f\"Dev size: {dev_df.shape[0]}\")\n",
        "print(f\"Test size: {test_df.shape[0]}\")\n",
        "print(f\"Train size: {train_df.shape[0]}\")"
      ],
      "metadata": {
        "colab": {
          "base_uri": "https://localhost:8080/"
        },
        "id": "W8rO_sh09DGB",
        "outputId": "5f07cacb-10a4-4652-b2c9-abd7c3aca734"
      },
      "execution_count": null,
      "outputs": [
        {
          "output_type": "stream",
          "name": "stdout",
          "text": [
            "Number of samples from dev-test-train: 1339083\n",
            "Number of features: 8\n",
            "Features: ['family_id', 'sequence_name', 'family_accession', 'aligned_sequence', 'sequence', 'split', 'true_label', 'sequence_len']\n",
            "Dev size: 126171\n",
            "Test size: 126171\n",
            "Train size: 1086741\n"
          ]
        }
      ]
    },
    {
      "cell_type": "code",
      "source": [
        "# Check for missing values in each column\n",
        "print('Missing values in dataset: \\n', total_data_df.isnull().sum())"
      ],
      "metadata": {
        "colab": {
          "base_uri": "https://localhost:8080/"
        },
        "id": "lT7Y0zm79O7T",
        "outputId": "54eb3b3b-cdd6-48dd-de49-cc594bc4d2f1"
      },
      "execution_count": null,
      "outputs": [
        {
          "output_type": "stream",
          "name": "stdout",
          "text": [
            "Missing values in dataset: \n",
            " family_id           0\n",
            "sequence_name       0\n",
            "family_accession    0\n",
            "aligned_sequence    0\n",
            "sequence            0\n",
            "split               0\n",
            "true_label          0\n",
            "sequence_len        0\n",
            "dtype: int64\n"
          ]
        }
      ]
    },
    {
      "cell_type": "code",
      "source": [
        "# checking for duplicates on the sample level\n",
        "print(f'Duplicated entries in dataset: {total_data_df.duplicated().any()}')\n",
        "\n",
        "# Check for duplicates on 'sequence' level in each dataset split\n",
        "train_duplicates = train_df[train_df.duplicated(subset=['sequence'], keep='first')]\n",
        "print(f'Num. duplicates in Train: {train_duplicates.shape[0]}')\n",
        "\n",
        "test_duplicates = test_df[test_df.duplicated(subset=['sequence'], keep='first')]\n",
        "print(f'Num. duplicates in Test: {test_duplicates.shape[0]}')\n",
        "\n",
        "dev_duplicates = dev_df[dev_df.duplicated(subset=['sequence'], keep='first')]\n",
        "print(f'Num. duplicates in Dev: {dev_duplicates.shape[0]}')"
      ],
      "metadata": {
        "colab": {
          "base_uri": "https://localhost:8080/"
        },
        "id": "914DpjIv9WZU",
        "outputId": "6d80306a-818e-48fc-d9aa-6c6158f2a714"
      },
      "execution_count": null,
      "outputs": [
        {
          "output_type": "stream",
          "name": "stdout",
          "text": [
            "Duplicated entries in dataset: False\n",
            "Num. duplicates in Train: 426\n",
            "Num. duplicates in Test: 10\n",
            "Num. duplicates in Dev: 21\n"
          ]
        }
      ]
    },
    {
      "cell_type": "code",
      "source": [
        "# Does the target label like PF00001 have multiple versions?\n",
        "print('The target variable \\'family_accession\\' contains only unique mapping to its version: {}'.\n",
        "        format(is_bijection_mapping(total_data_df, col1='true_label', col2='family_accession')))"
      ],
      "metadata": {
        "id": "BztANW0V3QdS",
        "colab": {
          "base_uri": "https://localhost:8080/"
        },
        "outputId": "b1a83210-2c8d-4379-a13a-bb29204f31d9"
      },
      "execution_count": null,
      "outputs": [
        {
          "output_type": "stream",
          "name": "stdout",
          "text": [
            "The target variable 'family_accession' contains only unique mapping to its version: True\n"
          ]
        }
      ]
    },
    {
      "cell_type": "code",
      "source": [
        "# Does the 'family_id' and 'true_label' have 1:1 mapping?\n",
        "print('The \\'family_id\\' feature contains only unique mapping to true_label feature: {}'.\n",
        "        format(is_bijection_mapping(total_data_df, col1='family_id', col2='true_label')))"
      ],
      "metadata": {
        "colab": {
          "base_uri": "https://localhost:8080/"
        },
        "id": "AKosFE449r2K",
        "outputId": "209e822f-d16c-4124-ccc6-5318fd6cb050"
      },
      "execution_count": null,
      "outputs": [
        {
          "output_type": "stream",
          "name": "stdout",
          "text": [
            "The 'family_id' feature contains only unique mapping to true_label feature: True\n"
          ]
        }
      ]
    },
    {
      "cell_type": "markdown",
      "source": [
        "**Conclusion**: The target variable 'family_accession' contains only unique mapping to its version"
      ],
      "metadata": {
        "id": "DBhNf9H9QYc7"
      }
    },
    {
      "cell_type": "code",
      "source": [
        "num_distinct_labels = total_data_df['true_label'].nunique()\n",
        "print(f\"There are {num_distinct_labels} distinct values in the 'true_label' column.\")"
      ],
      "metadata": {
        "colab": {
          "base_uri": "https://localhost:8080/"
        },
        "id": "eLPzYRYO97Do",
        "outputId": "2e569f05-7cc3-4d1f-a67b-8ea02a883b47"
      },
      "execution_count": null,
      "outputs": [
        {
          "output_type": "stream",
          "name": "stdout",
          "text": [
            "There are 17929 distinct values in the 'true_label' column.\n"
          ]
        }
      ]
    },
    {
      "cell_type": "code",
      "source": [
        "print('Number of unique classes in Train: ', train_df['true_label'].nunique())\n",
        "print('Number of unique classes in Test: ', test_df['true_label'].nunique())\n",
        "print('Number of unique classes in Dev: ', dev_df['true_label'].nunique())"
      ],
      "metadata": {
        "colab": {
          "base_uri": "https://localhost:8080/"
        },
        "id": "B0riJ_QPRsAd",
        "outputId": "3e183819-2dd6-4f87-f96a-3d5cf60f76c5"
      },
      "execution_count": null,
      "outputs": [
        {
          "output_type": "stream",
          "name": "stdout",
          "text": [
            "Number of unique classes in Train:  17929\n",
            "Number of unique classes in Test:  13071\n",
            "Number of unique classes in Dev:  13071\n"
          ]
        }
      ]
    },
    {
      "cell_type": "markdown",
      "source": [
        "\n",
        "\n",
        "---\n",
        "\n",
        "\n",
        "\n",
        "---\n",
        "\n"
      ],
      "metadata": {
        "id": "bxenD0gt-OdG"
      }
    },
    {
      "cell_type": "code",
      "source": [
        "# Are there overlaps between sets in 'true_label'?\n",
        "overlapping_vals = compute_overlap(train_df, test_df, 'true_label')\n",
        "print(f'Number of overlapping labels Train -- Test: {len(overlapping_vals)}')\n",
        "\n",
        "overlapping_vals = compute_overlap(train_df, dev_df, 'true_label')\n",
        "print(f'Number of overlapping labels Train -- Dev: {len(overlapping_vals)}')\n",
        "\n",
        "overlapping_vals = compute_overlap(dev_df, test_df, 'true_label')\n",
        "print(f'Number of overlapping labels Dev -- Test: {len(overlapping_vals)}')"
      ],
      "metadata": {
        "colab": {
          "base_uri": "https://localhost:8080/"
        },
        "id": "fv9Q4Dpc-Viw",
        "outputId": "b1c01b63-bfa7-4dd5-978c-557219feadc8"
      },
      "execution_count": null,
      "outputs": [
        {
          "output_type": "stream",
          "name": "stdout",
          "text": [
            "Number of overlapping labels Train -- Test: 13071\n",
            "Number of overlapping labels Train -- Dev: 13071\n",
            "Number of overlapping labels Dev -- Test: 13071\n"
          ]
        }
      ]
    },
    {
      "cell_type": "code",
      "source": [
        "print('Unique target labels in test dataset: {}'.format(test_df['true_label'].nunique()))\n",
        "print('Unique target labels in dev dataset: {}'.format(dev_df['true_label'].nunique()))"
      ],
      "metadata": {
        "colab": {
          "base_uri": "https://localhost:8080/"
        },
        "id": "tOldmUN4_GIs",
        "outputId": "3c7ddcb4-eaac-4a52-a488-2e667d4ea4d1"
      },
      "execution_count": null,
      "outputs": [
        {
          "output_type": "stream",
          "name": "stdout",
          "text": [
            "Unique target labels in test dataset: 13071\n",
            "Unique target labels in dev dataset: 13071\n"
          ]
        }
      ]
    },
    {
      "cell_type": "markdown",
      "source": [
        "All true labels (to be predicted) from test and dev dataset are included in the training dataset."
      ],
      "metadata": {
        "id": "Bb316R2o_k_4"
      }
    },
    {
      "cell_type": "code",
      "source": [
        "# Are there overlaps between sets in 'sequence'?\n",
        "overlapping_vals = compute_overlap(train_df, test_df, 'sequence')\n",
        "print(f'Number of overlapping sequences Train -- Test: {len(overlapping_vals)}')\n",
        "\n",
        "overlapping_vals = compute_overlap(train_df, dev_df, 'sequence')\n",
        "print(f'Number of overlapping sequences Train -- Dev: {len(overlapping_vals)}')\n",
        "\n",
        "overlapping_vals = compute_overlap(test_df, dev_df, 'sequence')\n",
        "print(f'Number of overlapping sequences Test -- Dev: {len(overlapping_vals)}')"
      ],
      "metadata": {
        "colab": {
          "base_uri": "https://localhost:8080/"
        },
        "id": "ZN-TOubG_uAh",
        "outputId": "13e1507b-d5af-44c3-8173-45c3ea9bbff0"
      },
      "execution_count": null,
      "outputs": [
        {
          "output_type": "stream",
          "name": "stdout",
          "text": [
            "Number of overlapping sequences Train -- Test: 60\n",
            "Number of overlapping sequences Train -- Dev: 67\n",
            "Number of overlapping sequences Test -- Dev: 18\n"
          ]
        }
      ]
    },
    {
      "cell_type": "markdown",
      "source": [
        "**Conclusion**: Overlap less than 0.01% so all good! The number of overlapping sequences (input to ML models) is too low to have any negative impact, so can be ignored at the moment."
      ],
      "metadata": {
        "id": "UPXrP3fbYUma"
      }
    },
    {
      "cell_type": "code",
      "source": [
        "plt.subplot(1, 3, 1)\n",
        "plot_sequence_len_dist(train_df, 'Train')\n",
        "\n",
        "plt.subplot(1, 3, 2)\n",
        "plot_sequence_len_dist(dev_df, 'Dev')\n",
        "\n",
        "plt.subplot(1, 3, 3)\n",
        "plot_sequence_len_dist(test_df, 'Test')\n",
        "\n",
        "plt.subplots_adjust(right=3.0)\n",
        "plt.savefig('sequence_len_dist.png', dpi=300, bbox_inches='tight')\n",
        "plt.show()"
      ],
      "metadata": {
        "colab": {
          "base_uri": "https://localhost:8080/",
          "height": 264
        },
        "id": "XO9eeYOEY_-h",
        "outputId": "8fcd6f16-d67f-4091-8dc9-7128ab9bc7f4"
      },
      "execution_count": null,
      "outputs": [
        {
          "output_type": "display_data",
          "data": {
            "text/plain": [
              "<Figure size 640x480 with 3 Axes>"
            ],
            "image/png": "[encoded data removed]"
          },
          "metadata": {}
        }
      ]
    },
    {
      "cell_type": "code",
      "source": [
        "dev_df['sequence'].apply(len).describe()"
      ],
      "metadata": {
        "colab": {
          "base_uri": "https://localhost:8080/"
        },
        "id": "nelu1UgTG6pd",
        "outputId": "b4bd309c-494b-4a42-91ed-839bba6bf8b4"
      },
      "execution_count": null,
      "outputs": [
        {
          "output_type": "execute_result",
          "data": {
            "text/plain": [
              "count    126171.000000\n",
              "mean        154.222206\n",
              "std         118.278250\n",
              "min           9.000000\n",
              "25%          76.000000\n",
              "50%         118.000000\n",
              "75%         194.000000\n",
              "max        1971.000000\n",
              "Name: sequence, dtype: float64"
            ]
          },
          "metadata": {},
          "execution_count": 68
        }
      ]
    },
    {
      "cell_type": "code",
      "source": [
        "test_df['sequence'].apply(len).describe()"
      ],
      "metadata": {
        "colab": {
          "base_uri": "https://localhost:8080/"
        },
        "id": "jElO8ohSG-rf",
        "outputId": "e74899b3-4212-48b5-b4fb-ac07ca9a5861"
      },
      "execution_count": null,
      "outputs": [
        {
          "output_type": "execute_result",
          "data": {
            "text/plain": [
              "count    126171.000000\n",
              "mean        154.166845\n",
              "std         118.376706\n",
              "min           9.000000\n",
              "25%          76.000000\n",
              "50%         118.000000\n",
              "75%         194.000000\n",
              "max        1937.000000\n",
              "Name: sequence, dtype: float64"
            ]
          },
          "metadata": {},
          "execution_count": 69
        }
      ]
    },
    {
      "cell_type": "code",
      "source": [
        "train_df['sequence'].apply(len).describe()"
      ],
      "metadata": {
        "colab": {
          "base_uri": "https://localhost:8080/"
        },
        "id": "rxkjG5r_HAjN",
        "outputId": "dfe611f5-ec97-4564-a762-9ba2c1a879c2"
      },
      "execution_count": null,
      "outputs": [
        {
          "output_type": "execute_result",
          "data": {
            "text/plain": [
              "count    1.086741e+06\n",
              "mean     1.553800e+02\n",
              "std      1.201232e+02\n",
              "min      4.000000e+00\n",
              "25%      7.600000e+01\n",
              "50%      1.190000e+02\n",
              "75%      1.950000e+02\n",
              "max      2.037000e+03\n",
              "Name: sequence, dtype: float64"
            ]
          },
          "metadata": {},
          "execution_count": 70
        }
      ]
    },
    {
      "cell_type": "markdown",
      "source": [
        "**Conclusion**: Most of the input sequences have length in range \\[50-250\\]."
      ],
      "metadata": {
        "id": "yCro3fyMBocw"
      }
    },
    {
      "cell_type": "code",
      "source": [
        "sns.boxplot(x=dev_df['sequence_len'])"
      ],
      "metadata": {
        "colab": {
          "base_uri": "https://localhost:8080/",
          "height": 468
        },
        "id": "Bzqq0HBgsmPH",
        "outputId": "019272eb-b45d-40b4-fbb4-d62207212fb0"
      },
      "execution_count": null,
      "outputs": [
        {
          "output_type": "execute_result",
          "data": {
            "text/plain": [
              "<Axes: xlabel='sequence_len'>"
            ]
          },
          "metadata": {},
          "execution_count": 41
        },
        {
          "output_type": "display_data",
          "data": {
            "text/plain": [
              "<Figure size 640x480 with 1 Axes>"
            ],
            "image/png": "[encoded data removed]"
          },
          "metadata": {}
        }
      ]
    },
    {
      "cell_type": "code",
      "source": [
        "sns.boxplot(x=test_df['sequence_len'])"
      ],
      "metadata": {
        "colab": {
          "base_uri": "https://localhost:8080/",
          "height": 468
        },
        "id": "RCuKClHIB9Lk",
        "outputId": "beffdf32-5ba4-4798-f55a-fd06fd706c7a"
      },
      "execution_count": null,
      "outputs": [
        {
          "output_type": "execute_result",
          "data": {
            "text/plain": [
              "<Axes: xlabel='sequence_len'>"
            ]
          },
          "metadata": {},
          "execution_count": 42
        },
        {
          "output_type": "display_data",
          "data": {
            "text/plain": [
              "<Figure size 640x480 with 1 Axes>"
            ],
            "image/png": "[encoded data removed]"
          },
          "metadata": {}
        }
      ]
    },
    {
      "cell_type": "code",
      "source": [
        "sns.boxplot(x=train_df['sequence_len'])"
      ],
      "metadata": {
        "colab": {
          "base_uri": "https://localhost:8080/",
          "height": 468
        },
        "id": "fOxgnL5DB-YC",
        "outputId": "3dc982b1-4a67-4f37-da2a-b26138d48977"
      },
      "execution_count": null,
      "outputs": [
        {
          "output_type": "execute_result",
          "data": {
            "text/plain": [
              "<Axes: xlabel='sequence_len'>"
            ]
          },
          "metadata": {},
          "execution_count": 43
        },
        {
          "output_type": "display_data",
          "data": {
            "text/plain": [
              "<Figure size 640x480 with 1 Axes>"
            ],
            "image/png": "[encoded data removed]"
          },
          "metadata": {}
        }
      ]
    },
    {
      "cell_type": "code",
      "source": [
        "dev_outliers = detect_outliers_zscore(dev_df, 'sequence_len')\n",
        "test_outliers = detect_outliers_zscore(test_df, 'sequence_len')\n",
        "train_outliers = detect_outliers_zscore(train_df, 'sequence_len')"
      ],
      "metadata": {
        "id": "CsNbHoIuCDBH"
      },
      "execution_count": null,
      "outputs": []
    },
    {
      "cell_type": "code",
      "source": [
        "print(f'Num. significantly longer sequences in Dev: {(len(dev_outliers) / len(dev_df)) * 100} %')\n",
        "print(f'Num. significantly longer sequences in Test: {(len(test_outliers) / len(test_df)) * 100} %')\n",
        "print(f'Num. significantly longer sequences in Train: {(len(train_outliers) / len(train_df)) * 100} %')"
      ],
      "metadata": {
        "colab": {
          "base_uri": "https://localhost:8080/"
        },
        "id": "j4y-id_iCPrU",
        "outputId": "6de67d7f-5833-4583-a29e-7d81a478925a"
      },
      "execution_count": null,
      "outputs": [
        {
          "output_type": "stream",
          "name": "stdout",
          "text": [
            "Num. significantly longer sequences in Dev: 1.8403595120907341 %\n",
            "Num. significantly longer sequences in Test: 1.8673070673926655 %\n",
            "Num. significantly longer sequences in Train: 1.8375123419471613 %\n"
          ]
        }
      ]
    },
    {
      "cell_type": "markdown",
      "source": [
        "**Conclusion**: Around 2% of all sequences are singificantly longer, yet these are not outliers per se and should be kept in the dataset. (just too long protein sequence, not abnormal)"
      ],
      "metadata": {
        "id": "F_jUtsH_CqlH"
      }
    },
    {
      "cell_type": "code",
      "source": [
        "# Get the frequency of each amino acid in the sequences of a given DataFrame\n",
        "dev_amino_acid_freq = get_amino_acid_freq(dev_df, 'Dev')\n",
        "test_amino_acid_freq = get_amino_acid_freq(test_df, 'Test')\n",
        "train_amino_acid_freq = get_amino_acid_freq(train_df, 'Train')"
      ],
      "metadata": {
        "colab": {
          "base_uri": "https://localhost:8080/"
        },
        "id": "qWQssawrCp50",
        "outputId": "c1006342-0a76-479c-c777-df0247f49239"
      },
      "execution_count": null,
      "outputs": [
        {
          "output_type": "stream",
          "name": "stdout",
          "text": [
            "\t##### Dev\n",
            "Total unique Amino Acids: 22\n",
            "\t##### Test\n",
            "Total unique Amino Acids: 24\n",
            "\t##### Train\n",
            "Total unique Amino Acids: 25\n"
          ]
        }
      ]
    },
    {
      "cell_type": "code",
      "source": [
        "# Are amino acids same across sets?\n",
        "print('Are all test amino acids covered in train: ',\n",
        "        set(train_amino_acid_freq['amino_acid'].values).issuperset(set(test_amino_acid_freq['amino_acid'].values)))\n",
        "print('Are all dev amino acids covered in train: ',\n",
        "        set(train_amino_acid_freq['amino_acid'].values).issuperset(set(dev_amino_acid_freq['amino_acid'].values)))\n",
        "print('Are all dev amino acids covered in test: ',\n",
        "        set(test_amino_acid_freq['amino_acid'].values).issuperset(set(dev_amino_acid_freq['amino_acid'].values)))"
      ],
      "metadata": {
        "colab": {
          "base_uri": "https://localhost:8080/"
        },
        "id": "qX0Da4MuCBb1",
        "outputId": "330f302d-7723-46cd-a799-47f31afdd113"
      },
      "execution_count": null,
      "outputs": [
        {
          "output_type": "stream",
          "name": "stdout",
          "text": [
            "Are all test amino acids covered in train:  True\n",
            "Are all dev amino acids covered in train:  True\n",
            "Are all dev amino acids covered in test:  True\n"
          ]
        }
      ]
    },
    {
      "cell_type": "code",
      "source": [
        "train_amino_acid_freq['amino_acid'].values"
      ],
      "metadata": {
        "colab": {
          "base_uri": "https://localhost:8080/"
        },
        "id": "nk17hzrJDuQb",
        "outputId": "7aa55976-b100-483d-fe9d-931e6f131b0d"
      },
      "execution_count": null,
      "outputs": [
        {
          "output_type": "execute_result",
          "data": {
            "text/plain": [
              "array(['L', 'A', 'V', 'G', 'E', 'S', 'I', 'R', 'D', 'K', 'T', 'P', 'F',\n",
              "       'N', 'Q', 'Y', 'M', 'H', 'C', 'W', 'X', 'U', 'B', 'O', 'Z'],\n",
              "      dtype=object)"
            ]
          },
          "metadata": {},
          "execution_count": 52
        }
      ]
    },
    {
      "cell_type": "code",
      "source": [
        "# Plot the frequency of amino acid codes in a given dataset.\n",
        "\n",
        "plt.subplot(1, 3, 1)\n",
        "plot_code_freq(train_amino_acid_freq, 'Train')\n",
        "\n",
        "plt.subplot(1, 3, 2)\n",
        "plot_code_freq(dev_amino_acid_freq, 'Dev')\n",
        "\n",
        "plt.subplot(1, 3, 3)\n",
        "plot_code_freq(test_amino_acid_freq, 'Test')\n",
        "\n",
        "plt.subplots_adjust(right=3.0)\n",
        "plt.savefig('amino_acid_codes_dist.png', dpi=300, bbox_inches='tight')\n",
        "plt.show()"
      ],
      "metadata": {
        "colab": {
          "base_uri": "https://localhost:8080/",
          "height": 267
        },
        "id": "UuXM91A1C-wX",
        "outputId": "2e999948-610a-41d1-f645-2c8dcb4448c6"
      },
      "execution_count": null,
      "outputs": [
        {
          "output_type": "display_data",
          "data": {
            "text/plain": [
              "<Figure size 640x480 with 3 Axes>"
            ],
            "image/png": "[encoded data removed]"
          },
          "metadata": {}
        }
      ]
    },
    {
      "cell_type": "markdown",
      "source": [
        "Find out protein families with most sequences(No. of observations)\n"
      ],
      "metadata": {
        "id": "zy9HgvioEUNC"
      }
    },
    {
      "cell_type": "code",
      "source": [
        "train_df.groupby('family_id').size().sort_values(ascending=False).head(20)"
      ],
      "metadata": {
        "colab": {
          "base_uri": "https://localhost:8080/"
        },
        "id": "oieCACm0svMu",
        "outputId": "ff57a07d-4aca-4cd7-a766-5de6832a7e3f"
      },
      "execution_count": null,
      "outputs": [
        {
          "output_type": "execute_result",
          "data": {
            "text/plain": [
              "family_id\n",
              "Methyltransf_25    3637\n",
              "LRR_1              1927\n",
              "Acetyltransf_7     1761\n",
              "His_kinase         1537\n",
              "Bac_transf         1528\n",
              "Lum_binding        1504\n",
              "DNA_binding_1      1345\n",
              "Chromate_transp    1265\n",
              "Lipase_GDSL_2      1252\n",
              "DnaJ_CXXCXGXG      1210\n",
              "SRP54_N            1185\n",
              "WD40               1173\n",
              "OTCace_N           1171\n",
              "PEP-utilizers      1147\n",
              "Glycos_trans_3N    1138\n",
              "THF_DHG_CYH        1113\n",
              "Prenyltransf       1104\n",
              "HTH_1              1064\n",
              "Maf                1061\n",
              "DHH                1057\n",
              "dtype: int64"
            ]
          },
          "metadata": {},
          "execution_count": 56
        }
      ]
    },
    {
      "cell_type": "code",
      "source": [
        "dev_df.groupby('family_id').size().sort_values(ascending=False).head(20)"
      ],
      "metadata": {
        "colab": {
          "base_uri": "https://localhost:8080/"
        },
        "id": "MGB-BkmKsvH7",
        "outputId": "e20e3eea-f8aa-4ac4-fefa-1549b9a45753"
      },
      "execution_count": null,
      "outputs": [
        {
          "output_type": "execute_result",
          "data": {
            "text/plain": [
              "family_id\n",
              "Methyltransf_25    454\n",
              "LRR_1              240\n",
              "Acetyltransf_7     219\n",
              "His_kinase         192\n",
              "Bac_transf         190\n",
              "Lum_binding        187\n",
              "DNA_binding_1      168\n",
              "Chromate_transp    157\n",
              "Lipase_GDSL_2      156\n",
              "DnaJ_CXXCXGXG      151\n",
              "SRP54_N            148\n",
              "OTCace_N           146\n",
              "WD40               146\n",
              "PEP-utilizers      143\n",
              "Glycos_trans_3N    142\n",
              "THF_DHG_CYH        138\n",
              "Prenyltransf       138\n",
              "HTH_1              133\n",
              "Maf                132\n",
              "DHH                131\n",
              "dtype: int64"
            ]
          },
          "metadata": {},
          "execution_count": 57
        }
      ]
    },
    {
      "cell_type": "code",
      "source": [
        "test_df.groupby('family_id').size().sort_values(ascending=False).head(20)"
      ],
      "metadata": {
        "colab": {
          "base_uri": "https://localhost:8080/"
        },
        "id": "buL-EGs4svBy",
        "outputId": "6cde0185-e71a-4297-d633-0bec5958b55f"
      },
      "execution_count": null,
      "outputs": [
        {
          "output_type": "execute_result",
          "data": {
            "text/plain": [
              "family_id\n",
              "Methyltransf_25    454\n",
              "LRR_1              240\n",
              "Acetyltransf_7     219\n",
              "His_kinase         192\n",
              "Bac_transf         190\n",
              "Lum_binding        187\n",
              "DNA_binding_1      168\n",
              "Chromate_transp    157\n",
              "Lipase_GDSL_2      156\n",
              "DnaJ_CXXCXGXG      151\n",
              "SRP54_N            148\n",
              "OTCace_N           146\n",
              "WD40               146\n",
              "PEP-utilizers      143\n",
              "Glycos_trans_3N    142\n",
              "THF_DHG_CYH        138\n",
              "Prenyltransf       138\n",
              "HTH_1              133\n",
              "Maf                132\n",
              "DHH                131\n",
              "dtype: int64"
            ]
          },
          "metadata": {},
          "execution_count": 58
        }
      ]
    },
    {
      "cell_type": "markdown",
      "source": [
        "**Conclusion**: Top 20 classes are same across all the sets train, test, dev. Test and Dev sets have almost same frequency for the top 20 classes."
      ],
      "metadata": {
        "id": "natAkRTYtdQw"
      }
    },
    {
      "cell_type": "code",
      "source": [
        "print('Following are the plots of the most frequent family_ids and their counts')\n",
        "plt.figure(figsize=(15,8))\n",
        "\n",
        "plt.subplot(1,3,1)\n",
        "plt.title('Train')\n",
        "train_df.groupby('family_id').size().sort_values(ascending=False).head(20).plot(kind='bar')\n",
        "\n",
        "plt.subplot(1,3,2)\n",
        "plt.title('Dev')\n",
        "dev_df.groupby('family_id').size().sort_values(ascending=False).head(20).plot(kind='bar',color='y')\n",
        "\n",
        "plt.subplot(1,3,3)\n",
        "plt.title('Test')\n",
        "test_df.groupby('family_id').size().sort_values(ascending=False).head(20).plot(kind='bar',color='red')\n",
        "\n",
        "plt.savefig('family_ids_TOP_popular.png', dpi=300, bbox_inches='tight')\n",
        "plt.show()"
      ],
      "metadata": {
        "colab": {
          "base_uri": "https://localhost:8080/",
          "height": 726
        },
        "id": "-muFCUnuEM6w",
        "outputId": "8d3a218a-3c03-427d-b031-31487f796cfa"
      },
      "execution_count": null,
      "outputs": [
        {
          "output_type": "stream",
          "name": "stdout",
          "text": [
            "Following are the plots of the most frequent family_ids and their counts\n"
          ]
        },
        {
          "output_type": "display_data",
          "data": {
            "text/plain": [
              "<Figure size 1500x800 with 3 Axes>"
            ],
            "image/png": "[encoded data removed]"
          },
          "metadata": {}
        }
      ]
    },
    {
      "cell_type": "markdown",
      "source": [
        "Find out the Family ID (true label) distribution - Check for class imbalance"
      ],
      "metadata": {
        "id": "FutDW99fFGwO"
      }
    },
    {
      "cell_type": "code",
      "source": [
        "def plot_family_dist(data_df, split_name, bins=50):\n",
        "\n",
        "    family_sizes = data_df.groupby('true_label').size()\n",
        "\n",
        "    # if threshold_pos:\n",
        "    #     family_sizes_sorted = family_sizes.sort_values(ascending=False)\n",
        "\n",
        "    #     # max_occurrences\n",
        "    #     max_occurrences = family_sizes_sorted[threshold_pos]\n",
        "    #     print(f'The max_occurrences at {threshold_pos}: {max_occurrences}')\n",
        "    #     print(f'Family ID sizes with cound < {max_occurrences} will be displayed!')\n",
        "\n",
        "    #     # Keep entries below the threshold\n",
        "    #     family_sizes = family_sizes[family_sizes < max_occurrences]\n",
        "    \n",
        "    sns.histplot(family_sizes, stat='frequency', bins=bins)\n",
        "    plt.title(f'Distribution of <true_label> occurrences for {split_name}')\n",
        "    plt.xlabel('True label occurence')\n",
        "    plt.grid(True)"
      ],
      "metadata": {
        "id": "oIBik3cs4xD4"
      },
      "execution_count": null,
      "outputs": []
    },
    {
      "cell_type": "code",
      "source": [
        "plt.subplot(1, 3, 1)\n",
        "plot_family_dist(train_df, 'Train')\n",
        "\n",
        "plt.subplot(1, 3, 2)\n",
        "plot_family_dist(dev_df, 'Val')\n",
        "\n",
        "plt.subplot(1, 3, 3)\n",
        "plot_family_dist(test_df, 'Test')\n",
        "\n",
        "plt.subplots_adjust(right=3.0)\n",
        "plt.show()"
      ],
      "metadata": {
        "colab": {
          "base_uri": "https://localhost:8080/",
          "height": 266
        },
        "id": "06TgrwpS5SYb",
        "outputId": "b81cdc5b-5d7a-4d5c-81dd-45e140e1f3c6"
      },
      "execution_count": null,
      "outputs": [
        {
          "output_type": "display_data",
          "data": {
            "text/plain": [
              "<Figure size 640x480 with 3 Axes>"
            ],
            "image/png": "[encoded data removed]"
          },
          "metadata": {}
        }
      ]
    },
    {
      "cell_type": "code",
      "source": [
        "family_sizes = total_data_df.groupby('true_label').size()\n",
        "\n",
        "# skip labels that appear the most\n",
        "family_sizes_sorted = family_sizes.sort_values(ascending=False)[50:]\n",
        "\n",
        "sns.histplot(family_sizes_sorted, stat='frequency', bins=50)\n",
        "plt.xlabel('True label occurence')\n",
        "plt.grid(True)"
      ],
      "metadata": {
        "colab": {
          "base_uri": "https://localhost:8080/",
          "height": 449
        },
        "id": "MvKsaW-WC22I",
        "outputId": "369abc9e-d719-4e02-f0c0-38fa10551377"
      },
      "execution_count": null,
      "outputs": [
        {
          "output_type": "display_data",
          "data": {
            "text/plain": [
              "<Figure size 640x480 with 1 Axes>"
            ],
            "image/png": "[encoded data removed]"
          },
          "metadata": {}
        }
      ]
    },
    {
      "cell_type": "markdown",
      "source": [
        "**Conclusion**: Most of the true_label (target variable) appear < 100 times, meaning there is a 'long-tail' of target labels.  \n",
        "\n",
        "There are some classes which appear even more than 500 times.  \n",
        "\n",
        "There is a class imbalance in a way that some labels dominant in occurrences. Potentially those occuring the most could be downsampled."
      ],
      "metadata": {
        "id": "yirDC_wACOBu"
      }
    },
    {
      "cell_type": "markdown",
      "source": [
        "\n",
        "\n",
        "---\n",
        "\n",
        "\n",
        "\n",
        "---\n",
        "\n"
      ],
      "metadata": {
        "id": "IvFECdmbD_S6"
      }
    },
    {
      "cell_type": "code",
      "source": [
        "dev_df['family_id'].value_counts()"
      ],
      "metadata": {
        "colab": {
          "base_uri": "https://localhost:8080/"
        },
        "id": "eLH3jSWUCquE",
        "outputId": "fc7141f0-83d9-42a3-cddd-354ddb918c5e"
      },
      "execution_count": null,
      "outputs": [
        {
          "output_type": "execute_result",
          "data": {
            "text/plain": [
              "Methyltransf_25    454\n",
              "LRR_1              240\n",
              "Acetyltransf_7     219\n",
              "His_kinase         192\n",
              "Bac_transf         190\n",
              "                  ... \n",
              "TBD                  1\n",
              "ICAT                 1\n",
              "WW_FCH_linker        1\n",
              "Herpes_UL25          1\n",
              "Vasculin             1\n",
              "Name: family_id, Length: 13071, dtype: int64"
            ]
          },
          "metadata": {},
          "execution_count": 66
        }
      ]
    },
    {
      "cell_type": "code",
      "source": [
        "# Check for class imbalance\n",
        "print(dev_df['family_id'].value_counts(normalize=True))"
      ],
      "metadata": {
        "colab": {
          "base_uri": "https://localhost:8080/"
        },
        "id": "5ZaE_epiCqk2",
        "outputId": "3eed3ea1-aa05-4ab8-92a5-366f2c069d3c"
      },
      "execution_count": null,
      "outputs": [
        {
          "output_type": "stream",
          "name": "stdout",
          "text": [
            "Methyltransf_25    0.003598\n",
            "LRR_1              0.001902\n",
            "Acetyltransf_7     0.001736\n",
            "His_kinase         0.001522\n",
            "Bac_transf         0.001506\n",
            "                     ...   \n",
            "TBD                0.000008\n",
            "ICAT               0.000008\n",
            "WW_FCH_linker      0.000008\n",
            "Herpes_UL25        0.000008\n",
            "Vasculin           0.000008\n",
            "Name: family_id, Length: 13071, dtype: float64\n"
          ]
        }
      ]
    },
    {
      "cell_type": "code",
      "source": [],
      "metadata": {
        "id": "o8gajnERGoUN"
      },
      "execution_count": null,
      "outputs": []
    },
    {
      "cell_type": "markdown",
      "source": [
        "## Filtering Dataset\n",
        "\n",
        "Mostly due to limits in computation power, the dataset is reduced in size.  \n",
        "\n",
        "Only consider sequences with lengths between 50 and 250 to accelerate experimentation. In real-life settings, it is important to leverage all the available data, but that would necessitate more computational resources.  "
      ],
      "metadata": {
        "id": "yTJlqoi6lriu"
      }
    },
    {
      "cell_type": "markdown",
      "source": [
        "### Keep only the true labels that are present in all 3 partitions"
      ],
      "metadata": {
        "id": "Rn6nmNfRl8Ls"
      }
    },
    {
      "cell_type": "code",
      "source": [
        "train_true_labels = set(train_df.true_label.unique())\n",
        "dev_true_labels = set(dev_df.true_label.unique())"
      ],
      "metadata": {
        "id": "GsDpXxhLMwLO"
      },
      "execution_count": null,
      "outputs": []
    },
    {
      "cell_type": "code",
      "source": [
        "train_labels_extra = train_true_labels - dev_true_labels"
      ],
      "metadata": {
        "id": "Eg7eEux3l7xQ"
      },
      "execution_count": null,
      "outputs": []
    },
    {
      "cell_type": "code",
      "source": [
        "train_df[train_df.true_label.isin(train_labels_extra)].groupby('true_label').size().sort_values(ascending=False)"
      ],
      "metadata": {
        "colab": {
          "base_uri": "https://localhost:8080/"
        },
        "id": "QNMH9M-Xkvi1",
        "outputId": "6b87db1c-3b54-4813-ae03-3387c58a501f"
      },
      "execution_count": null,
      "outputs": [
        {
          "output_type": "execute_result",
          "data": {
            "text/plain": [
              "true_label\n",
              "PF00015    9\n",
              "PF11822    9\n",
              "PF04805    9\n",
              "PF04837    9\n",
              "PF17250    9\n",
              "          ..\n",
              "PF03569    1\n",
              "PF10624    1\n",
              "PF10653    1\n",
              "PF10654    1\n",
              "PF10379    1\n",
              "Length: 4858, dtype: int64"
            ]
          },
          "metadata": {},
          "execution_count": 11
        }
      ]
    },
    {
      "cell_type": "markdown",
      "source": [
        "Families exclusive to the training have at most 9 examples in this dataset. Total number of samples with classes present only in training set is 4858. Therefore, they can be ignored for the rest of this work."
      ],
      "metadata": {
        "id": "5h6TsdJZlaY4"
      }
    },
    {
      "cell_type": "code",
      "source": [
        "train_df = train_df[~train_df.true_label.isin(train_labels_extra)]"
      ],
      "metadata": {
        "id": "rX8m2OhTlZpQ"
      },
      "execution_count": null,
      "outputs": []
    },
    {
      "cell_type": "code",
      "source": [
        "len(train_df.true_label.unique())"
      ],
      "metadata": {
        "colab": {
          "base_uri": "https://localhost:8080/"
        },
        "id": "A75cWRvYkvgy",
        "outputId": "14ec8a7a-cfae-47e9-b2ff-5f4ffed5e8f2"
      },
      "execution_count": null,
      "outputs": [
        {
          "output_type": "execute_result",
          "data": {
            "text/plain": [
              "13071"
            ]
          },
          "metadata": {},
          "execution_count": 13
        }
      ]
    },
    {
      "cell_type": "code",
      "source": [
        "train_df.shape"
      ],
      "metadata": {
        "colab": {
          "base_uri": "https://localhost:8080/"
        },
        "id": "Wqn5S54Rkvd3",
        "outputId": "380f0ed2-13e6-4c65-90df-4d5e85009ba5"
      },
      "execution_count": null,
      "outputs": [
        {
          "output_type": "execute_result",
          "data": {
            "text/plain": [
              "(1064950, 7)"
            ]
          },
          "metadata": {},
          "execution_count": 14
        }
      ]
    },
    {
      "cell_type": "markdown",
      "source": [
        "4858 samples were removed from the training dataset, since their target label is not present in dev/test sets."
      ],
      "metadata": {
        "id": "mrfvehjElu1N"
      }
    },
    {
      "cell_type": "markdown",
      "source": [
        "### Only consider sequences with length in range [50 : 250]"
      ],
      "metadata": {
        "id": "dz_sq9hWmU69"
      }
    },
    {
      "cell_type": "markdown",
      "source": [
        "Only consider sequences with lengths between 50 and 250 to accelerate experimentation. "
      ],
      "metadata": {
        "id": "xJMea-Vmmss_"
      }
    },
    {
      "cell_type": "code",
      "source": [
        "MIN_SEQ_LEN, MAX_SEQ_LEN = 50, 250"
      ],
      "metadata": {
        "id": "Odf0r_9Om9fr"
      },
      "execution_count": null,
      "outputs": []
    },
    {
      "cell_type": "code",
      "source": [
        "train_df = train_df[train_df.seq_length.between(MIN_SEQ_LEN, MAX_SEQ_LEN, inclusive='both')]\n",
        "dev_df = dev_df[dev_df.seq_length.between(MIN_SEQ_LEN, MAX_SEQ_LEN, inclusive='both')]\n",
        "test_df = test_df[test_df.seq_length.between(MIN_SEQ_LEN, MAX_SEQ_LEN, inclusive='both')]"
      ],
      "metadata": {
        "id": "iQEAGNDQmyJr"
      },
      "execution_count": null,
      "outputs": []
    },
    {
      "cell_type": "code",
      "source": [
        "partition_names = ['Train', 'Dev', 'Test']"
      ],
      "metadata": {
        "id": "y3JKDIJMnaOC"
      },
      "execution_count": null,
      "outputs": []
    },
    {
      "cell_type": "code",
      "source": [
        "def partitions_info(frames, names):\n",
        "  return pd.DataFrame([\n",
        "    {\n",
        "      'partition': name,\n",
        "      'num_of_samples': frame.shape[0],\n",
        "      'num_of_true_class': frame['true_label'].unique().size,\n",
        "      'max_samples_per_class': frame.groupby('true_label').size().max(),\n",
        "      'min_samples_per_class': frame.groupby('true_label').size().min(),\n",
        "      'min_seq_length': frame['seq_length'].min(),\n",
        "      'max_seq_length': frame['seq_length'].max(),\n",
        "      'avg_seq_length': frame['seq_length'].mean()\n",
        "    } for name, frame in zip(names, frames)\n",
        "  ])"
      ],
      "metadata": {
        "id": "L9AXdh5Znbzp"
      },
      "execution_count": null,
      "outputs": []
    },
    {
      "cell_type": "code",
      "source": [
        "partitions_info([train_df, dev_df, test_df], partition_names)"
      ],
      "metadata": {
        "colab": {
          "base_uri": "https://localhost:8080/",
          "height": 143
        },
        "id": "sno0zxKgneWE",
        "outputId": "ec6e6c0e-33f1-4c42-ad9d-6b76c2d73060"
      },
      "execution_count": null,
      "outputs": [
        {
          "output_type": "execute_result",
          "data": {
            "text/plain": [
              "  partition  num_of_samples  num_of_true_class  max_samples_per_class  \\\n",
              "0     Train          804155              10275                   3637   \n",
              "1       Dev           95325               9975                    454   \n",
              "2      Test           95361               9968                    454   \n",
              "\n",
              "   min_samples_per_class  min_seq_length  max_seq_length  avg_seq_length  \n",
              "0                      1              50             250      122.271796  \n",
              "1                      1              50             250      122.088308  \n",
              "2                      1              50             250      122.111251  "
            ],
            "text/html": [
              "\n",
              "  <div id=\"df-2df310fe-1dd0-43d0-abcc-abebb3a9ba7f\">\n",
              "    <div class=\"colab-df-container\">\n",
              "      <div>\n",
              "<style scoped>\n",
              "    .dataframe tbody tr th:only-of-type {\n",
              "        vertical-align: middle;\n",
              "    }\n",
              "\n",
              "    .dataframe tbody tr th {\n",
              "        vertical-align: top;\n",
              "    }\n",
              "\n",
              "    .dataframe thead th {\n",
              "        text-align: right;\n",
              "    }\n",
              "</style>\n",
              "<table border=\"1\" class=\"dataframe\">\n",
              "  <thead>\n",
              "    <tr style=\"text-align: right;\">\n",
              "      <th></th>\n",
              "      <th>partition</th>\n",
              "      <th>num_of_samples</th>\n",
              "      <th>num_of_true_class</th>\n",
              "      <th>max_samples_per_class</th>\n",
              "      <th>min_samples_per_class</th>\n",
              "      <th>min_seq_length</th>\n",
              "      <th>max_seq_length</th>\n",
              "      <th>avg_seq_length</th>\n",
              "    </tr>\n",
              "  </thead>\n",
              "  <tbody>\n",
              "    <tr>\n",
              "      <th>0</th>\n",
              "      <td>Train</td>\n",
              "      <td>804155</td>\n",
              "      <td>10275</td>\n",
              "      <td>3637</td>\n",
              "      <td>1</td>\n",
              "      <td>50</td>\n",
              "      <td>250</td>\n",
              "      <td>122.271796</td>\n",
              "    </tr>\n",
              "    <tr>\n",
              "      <th>1</th>\n",
              "      <td>Dev</td>\n",
              "      <td>95325</td>\n",
              "      <td>9975</td>\n",
              "      <td>454</td>\n",
              "      <td>1</td>\n",
              "      <td>50</td>\n",
              "      <td>250</td>\n",
              "      <td>122.088308</td>\n",
              "    </tr>\n",
              "    <tr>\n",
              "      <th>2</th>\n",
              "      <td>Test</td>\n",
              "      <td>95361</td>\n",
              "      <td>9968</td>\n",
              "      <td>454</td>\n",
              "      <td>1</td>\n",
              "      <td>50</td>\n",
              "      <td>250</td>\n",
              "      <td>122.111251</td>\n",
              "    </tr>\n",
              "  </tbody>\n",
              "</table>\n",
              "</div>\n",
              "      <button class=\"colab-df-convert\" onclick=\"convertToInteractive('df-2df310fe-1dd0-43d0-abcc-abebb3a9ba7f')\"\n",
              "              title=\"Convert this dataframe to an interactive table.\"\n",
              "              style=\"display:none;\">\n",
              "        \n",
              "  <svg xmlns=\"http://www.w3.org/2000/svg\" height=\"24px\"viewBox=\"0 0 24 24\"\n",
              "       width=\"24px\">\n",
              "    <path d=\"M0 0h24v24H0V0z\" fill=\"none\"/>\n",
              "    <path d=\"M18.56 5.44l.94 2.06.94-2.06 2.06-.94-2.06-.94-.94-2.06-.94 2.06-2.06.94zm-11 1L8.5 8.5l.94-2.06 2.06-.94-2.06-.94L8.5 2.5l-.94 2.06-2.06.94zm10 10l.94 2.06.94-2.06 2.06-.94-2.06-.94-.94-2.06-.94 2.06-2.06.94z\"/><path d=\"M17.41 7.96l-1.37-1.37c-.4-.4-.92-.59-1.43-.59-.52 0-1.04.2-1.43.59L10.3 9.45l-7.72 7.72c-.78.78-.78 2.05 0 2.83L4 21.41c.39.39.9.59 1.41.59.51 0 1.02-.2 1.41-.59l7.78-7.78 2.81-2.81c.8-.78.8-2.07 0-2.86zM5.41 20L4 18.59l7.72-7.72 1.47 1.35L5.41 20z\"/>\n",
              "  </svg>\n",
              "      </button>\n",
              "      \n",
              "  <style>\n",
              "    .colab-df-container {\n",
              "      display:flex;\n",
              "      flex-wrap:wrap;\n",
              "      gap: 12px;\n",
              "    }\n",
              "\n",
              "    .colab-df-convert {\n",
              "      background-color: #E8F0FE;\n",
              "      border: none;\n",
              "      border-radius: 50%;\n",
              "      cursor: pointer;\n",
              "      display: none;\n",
              "      fill: #1967D2;\n",
              "      height: 32px;\n",
              "      padding: 0 0 0 0;\n",
              "      width: 32px;\n",
              "    }\n",
              "\n",
              "    .colab-df-convert:hover {\n",
              "      background-color: #E2EBFA;\n",
              "      box-shadow: 0px 1px 2px rgba(60, 64, 67, 0.3), 0px 1px 3px 1px rgba(60, 64, 67, 0.15);\n",
              "      fill: #174EA6;\n",
              "    }\n",
              "\n",
              "    [theme=dark] .colab-df-convert {\n",
              "      background-color: #3B4455;\n",
              "      fill: #D2E3FC;\n",
              "    }\n",
              "\n",
              "    [theme=dark] .colab-df-convert:hover {\n",
              "      background-color: #434B5C;\n",
              "      box-shadow: 0px 1px 3px 1px rgba(0, 0, 0, 0.15);\n",
              "      filter: drop-shadow(0px 1px 2px rgba(0, 0, 0, 0.3));\n",
              "      fill: #FFFFFF;\n",
              "    }\n",
              "  </style>\n",
              "\n",
              "      <script>\n",
              "        const buttonEl =\n",
              "          document.querySelector('#df-2df310fe-1dd0-43d0-abcc-abebb3a9ba7f button.colab-df-convert');\n",
              "        buttonEl.style.display =\n",
              "          google.colab.kernel.accessAllowed ? 'block' : 'none';\n",
              "\n",
              "        async function convertToInteractive(key) {\n",
              "          const element = document.querySelector('#df-2df310fe-1dd0-43d0-abcc-abebb3a9ba7f');\n",
              "          const dataTable =\n",
              "            await google.colab.kernel.invokeFunction('convertToInteractive',\n",
              "                                                     [key], {});\n",
              "          if (!dataTable) return;\n",
              "\n",
              "          const docLinkHtml = 'Like what you see? Visit the ' +\n",
              "            '<a target=\"_blank\" href=https://colab.research.google.com/notebooks/data_table.ipynb>data table notebook</a>'\n",
              "            + ' to learn more about interactive tables.';\n",
              "          element.innerHTML = '';\n",
              "          dataTable['output_type'] = 'display_data';\n",
              "          await google.colab.output.renderOutput(dataTable, element);\n",
              "          const docLink = document.createElement('div');\n",
              "          docLink.innerHTML = docLinkHtml;\n",
              "          element.appendChild(docLink);\n",
              "        }\n",
              "      </script>\n",
              "    </div>\n",
              "  </div>\n",
              "  "
            ]
          },
          "metadata": {},
          "execution_count": 19
        }
      ]
    },
    {
      "cell_type": "markdown",
      "source": [
        "### Consider only 5% of target labels (most frequent ones)"
      ],
      "metadata": {
        "id": "tyoh37Bkmpv4"
      }
    },
    {
      "cell_type": "code",
      "source": [
        "# Take 10% of the total number of classes availabel in the Pfam dataset\n",
        "num_target_classes = int(0.05 * 17929)\n",
        "\n",
        "num_target_classes"
      ],
      "metadata": {
        "colab": {
          "base_uri": "https://localhost:8080/"
        },
        "id": "39TLN51apf3q",
        "outputId": "13128a77-9b39-400d-a986-9a637bf7a2b4"
      },
      "execution_count": null,
      "outputs": [
        {
          "output_type": "execute_result",
          "data": {
            "text/plain": [
              "896"
            ]
          },
          "metadata": {},
          "execution_count": 20
        }
      ]
    },
    {
      "cell_type": "code",
      "source": [
        "most_freq_classes = set(\n",
        "    (train_df.groupby('true_label').size()\n",
        "                                   .sort_values(ascending=False)\n",
        "                                   .head(num_target_classes)\n",
        "                                   .keys())\n",
        ")"
      ],
      "metadata": {
        "id": "onCPlp9eofTo"
      },
      "execution_count": null,
      "outputs": []
    },
    {
      "cell_type": "code",
      "source": [
        "train_df = train_df[train_df.true_label.isin(most_freq_classes)]\n",
        "dev_df = dev_df[dev_df.true_label.isin(most_freq_classes)]\n",
        "test_df = test_df[test_df.true_label.isin(most_freq_classes)]"
      ],
      "metadata": {
        "id": "w1U1t-abofNH"
      },
      "execution_count": null,
      "outputs": []
    },
    {
      "cell_type": "code",
      "source": [
        "partitions_info([train_df, dev_df, test_df], partition_names)"
      ],
      "metadata": {
        "colab": {
          "base_uri": "https://localhost:8080/",
          "height": 143
        },
        "id": "UTJcjbI5p5wa",
        "outputId": "0db19135-4021-470e-dec7-67b54848b72e"
      },
      "execution_count": null,
      "outputs": [
        {
          "output_type": "execute_result",
          "data": {
            "text/plain": [
              "  partition  num_of_samples  num_of_true_class  max_samples_per_class  \\\n",
              "0     Train          360946                896                   3637   \n",
              "1       Dev           44621                896                    454   \n",
              "2      Test           44639                896                    454   \n",
              "\n",
              "   min_samples_per_class  min_seq_length  max_seq_length  avg_seq_length  \n",
              "0                    192              50             250      118.592524  \n",
              "1                     22              50             250      118.555456  \n",
              "2                     23              50             250      118.574229  "
            ],
            "text/html": [
              "\n",
              "  <div id=\"df-717098f4-b029-45a0-a9c7-355bac69735c\">\n",
              "    <div class=\"colab-df-container\">\n",
              "      <div>\n",
              "<style scoped>\n",
              "    .dataframe tbody tr th:only-of-type {\n",
              "        vertical-align: middle;\n",
              "    }\n",
              "\n",
              "    .dataframe tbody tr th {\n",
              "        vertical-align: top;\n",
              "    }\n",
              "\n",
              "    .dataframe thead th {\n",
              "        text-align: right;\n",
              "    }\n",
              "</style>\n",
              "<table border=\"1\" class=\"dataframe\">\n",
              "  <thead>\n",
              "    <tr style=\"text-align: right;\">\n",
              "      <th></th>\n",
              "      <th>partition</th>\n",
              "      <th>num_of_samples</th>\n",
              "      <th>num_of_true_class</th>\n",
              "      <th>max_samples_per_class</th>\n",
              "      <th>min_samples_per_class</th>\n",
              "      <th>min_seq_length</th>\n",
              "      <th>max_seq_length</th>\n",
              "      <th>avg_seq_length</th>\n",
              "    </tr>\n",
              "  </thead>\n",
              "  <tbody>\n",
              "    <tr>\n",
              "      <th>0</th>\n",
              "      <td>Train</td>\n",
              "      <td>360946</td>\n",
              "      <td>896</td>\n",
              "      <td>3637</td>\n",
              "      <td>192</td>\n",
              "      <td>50</td>\n",
              "      <td>250</td>\n",
              "      <td>118.592524</td>\n",
              "    </tr>\n",
              "    <tr>\n",
              "      <th>1</th>\n",
              "      <td>Dev</td>\n",
              "      <td>44621</td>\n",
              "      <td>896</td>\n",
              "      <td>454</td>\n",
              "      <td>22</td>\n",
              "      <td>50</td>\n",
              "      <td>250</td>\n",
              "      <td>118.555456</td>\n",
              "    </tr>\n",
              "    <tr>\n",
              "      <th>2</th>\n",
              "      <td>Test</td>\n",
              "      <td>44639</td>\n",
              "      <td>896</td>\n",
              "      <td>454</td>\n",
              "      <td>23</td>\n",
              "      <td>50</td>\n",
              "      <td>250</td>\n",
              "      <td>118.574229</td>\n",
              "    </tr>\n",
              "  </tbody>\n",
              "</table>\n",
              "</div>\n",
              "      <button class=\"colab-df-convert\" onclick=\"convertToInteractive('df-717098f4-b029-45a0-a9c7-355bac69735c')\"\n",
              "              title=\"Convert this dataframe to an interactive table.\"\n",
              "              style=\"display:none;\">\n",
              "        \n",
              "  <svg xmlns=\"http://www.w3.org/2000/svg\" height=\"24px\"viewBox=\"0 0 24 24\"\n",
              "       width=\"24px\">\n",
              "    <path d=\"M0 0h24v24H0V0z\" fill=\"none\"/>\n",
              "    <path d=\"M18.56 5.44l.94 2.06.94-2.06 2.06-.94-2.06-.94-.94-2.06-.94 2.06-2.06.94zm-11 1L8.5 8.5l.94-2.06 2.06-.94-2.06-.94L8.5 2.5l-.94 2.06-2.06.94zm10 10l.94 2.06.94-2.06 2.06-.94-2.06-.94-.94-2.06-.94 2.06-2.06.94z\"/><path d=\"M17.41 7.96l-1.37-1.37c-.4-.4-.92-.59-1.43-.59-.52 0-1.04.2-1.43.59L10.3 9.45l-7.72 7.72c-.78.78-.78 2.05 0 2.83L4 21.41c.39.39.9.59 1.41.59.51 0 1.02-.2 1.41-.59l7.78-7.78 2.81-2.81c.8-.78.8-2.07 0-2.86zM5.41 20L4 18.59l7.72-7.72 1.47 1.35L5.41 20z\"/>\n",
              "  </svg>\n",
              "      </button>\n",
              "      \n",
              "  <style>\n",
              "    .colab-df-container {\n",
              "      display:flex;\n",
              "      flex-wrap:wrap;\n",
              "      gap: 12px;\n",
              "    }\n",
              "\n",
              "    .colab-df-convert {\n",
              "      background-color: #E8F0FE;\n",
              "      border: none;\n",
              "      border-radius: 50%;\n",
              "      cursor: pointer;\n",
              "      display: none;\n",
              "      fill: #1967D2;\n",
              "      height: 32px;\n",
              "      padding: 0 0 0 0;\n",
              "      width: 32px;\n",
              "    }\n",
              "\n",
              "    .colab-df-convert:hover {\n",
              "      background-color: #E2EBFA;\n",
              "      box-shadow: 0px 1px 2px rgba(60, 64, 67, 0.3), 0px 1px 3px 1px rgba(60, 64, 67, 0.15);\n",
              "      fill: #174EA6;\n",
              "    }\n",
              "\n",
              "    [theme=dark] .colab-df-convert {\n",
              "      background-color: #3B4455;\n",
              "      fill: #D2E3FC;\n",
              "    }\n",
              "\n",
              "    [theme=dark] .colab-df-convert:hover {\n",
              "      background-color: #434B5C;\n",
              "      box-shadow: 0px 1px 3px 1px rgba(0, 0, 0, 0.15);\n",
              "      filter: drop-shadow(0px 1px 2px rgba(0, 0, 0, 0.3));\n",
              "      fill: #FFFFFF;\n",
              "    }\n",
              "  </style>\n",
              "\n",
              "      <script>\n",
              "        const buttonEl =\n",
              "          document.querySelector('#df-717098f4-b029-45a0-a9c7-355bac69735c button.colab-df-convert');\n",
              "        buttonEl.style.display =\n",
              "          google.colab.kernel.accessAllowed ? 'block' : 'none';\n",
              "\n",
              "        async function convertToInteractive(key) {\n",
              "          const element = document.querySelector('#df-717098f4-b029-45a0-a9c7-355bac69735c');\n",
              "          const dataTable =\n",
              "            await google.colab.kernel.invokeFunction('convertToInteractive',\n",
              "                                                     [key], {});\n",
              "          if (!dataTable) return;\n",
              "\n",
              "          const docLinkHtml = 'Like what you see? Visit the ' +\n",
              "            '<a target=\"_blank\" href=https://colab.research.google.com/notebooks/data_table.ipynb>data table notebook</a>'\n",
              "            + ' to learn more about interactive tables.';\n",
              "          element.innerHTML = '';\n",
              "          dataTable['output_type'] = 'display_data';\n",
              "          await google.colab.output.renderOutput(dataTable, element);\n",
              "          const docLink = document.createElement('div');\n",
              "          docLink.innerHTML = docLinkHtml;\n",
              "          element.appendChild(docLink);\n",
              "        }\n",
              "      </script>\n",
              "    </div>\n",
              "  </div>\n",
              "  "
            ]
          },
          "metadata": {},
          "execution_count": 23
        }
      ]
    },
    {
      "cell_type": "markdown",
      "source": [
        "### Add the encoded 'true_label' to datasets"
      ],
      "metadata": {
        "id": "Zb9eh-jgqYhS"
      }
    },
    {
      "cell_type": "code",
      "source": [
        "from sklearn import preprocessing"
      ],
      "metadata": {
        "id": "YK0ysRcWqXqT"
      },
      "execution_count": null,
      "outputs": []
    },
    {
      "cell_type": "code",
      "source": [
        "# Get labels \n",
        "train_labels = train_df[\"true_label\"].tolist()\n",
        "test_labels = test_df[\"true_label\"].tolist()\n",
        "dev_labels = dev_df[\"true_label\"].tolist()"
      ],
      "metadata": {
        "id": "HCVipKFJqoJ6"
      },
      "execution_count": null,
      "outputs": []
    },
    {
      "cell_type": "code",
      "source": [
        "le = preprocessing.LabelEncoder()"
      ],
      "metadata": {
        "id": "t4GFJqbE6Dgs"
      },
      "execution_count": null,
      "outputs": []
    },
    {
      "cell_type": "code",
      "source": [
        "le.fit(train_labels)"
      ],
      "metadata": {
        "colab": {
          "base_uri": "https://localhost:8080/",
          "height": 75
        },
        "id": "YVWFSsUE3o_T",
        "outputId": "1e9bff78-4319-4de3-9348-606158123553"
      },
      "execution_count": null,
      "outputs": [
        {
          "output_type": "execute_result",
          "data": {
            "text/plain": [
              "LabelEncoder()"
            ],
            "text/html": [
              "<style>#sk-container-id-1 {color: black;background-color: white;}#sk-container-id-1 pre{padding: 0;}#sk-container-id-1 div.sk-toggleable {background-color: white;}#sk-container-id-1 label.sk-toggleable__label {cursor: pointer;display: block;width: 100%;margin-bottom: 0;padding: 0.3em;box-sizing: border-box;text-align: center;}#sk-container-id-1 label.sk-toggleable__label-arrow:before {content: \"▸\";float: left;margin-right: 0.25em;color: #696969;}#sk-container-id-1 label.sk-toggleable__label-arrow:hover:before {color: black;}#sk-container-id-1 div.sk-estimator:hover label.sk-toggleable__label-arrow:before {color: black;}#sk-container-id-1 div.sk-toggleable__content {max-height: 0;max-width: 0;overflow: hidden;text-align: left;background-color: #f0f8ff;}#sk-container-id-1 div.sk-toggleable__content pre {margin: 0.2em;color: black;border-radius: 0.25em;background-color: #f0f8ff;}#sk-container-id-1 input.sk-toggleable__control:checked~div.sk-toggleable__content {max-height: 200px;max-width: 100%;overflow: auto;}#sk-container-id-1 input.sk-toggleable__control:checked~label.sk-toggleable__label-arrow:before {content: \"▾\";}#sk-container-id-1 div.sk-estimator input.sk-toggleable__control:checked~label.sk-toggleable__label {background-color: #d4ebff;}#sk-container-id-1 div.sk-label input.sk-toggleable__control:checked~label.sk-toggleable__label {background-color: #d4ebff;}#sk-container-id-1 input.sk-hidden--visually {border: 0;clip: rect(1px 1px 1px 1px);clip: rect(1px, 1px, 1px, 1px);height: 1px;margin: -1px;overflow: hidden;padding: 0;position: absolute;width: 1px;}#sk-container-id-1 div.sk-estimator {font-family: monospace;background-color: #f0f8ff;border: 1px dotted black;border-radius: 0.25em;box-sizing: border-box;margin-bottom: 0.5em;}#sk-container-id-1 div.sk-estimator:hover {background-color: #d4ebff;}#sk-container-id-1 div.sk-parallel-item::after {content: \"\";width: 100%;border-bottom: 1px solid gray;flex-grow: 1;}#sk-container-id-1 div.sk-label:hover label.sk-toggleable__label {background-color: #d4ebff;}#sk-container-id-1 div.sk-serial::before {content: \"\";position: absolute;border-left: 1px solid gray;box-sizing: border-box;top: 0;bottom: 0;left: 50%;z-index: 0;}#sk-container-id-1 div.sk-serial {display: flex;flex-direction: column;align-items: center;background-color: white;padding-right: 0.2em;padding-left: 0.2em;position: relative;}#sk-container-id-1 div.sk-item {position: relative;z-index: 1;}#sk-container-id-1 div.sk-parallel {display: flex;align-items: stretch;justify-content: center;background-color: white;position: relative;}#sk-container-id-1 div.sk-item::before, #sk-container-id-1 div.sk-parallel-item::before {content: \"\";position: absolute;border-left: 1px solid gray;box-sizing: border-box;top: 0;bottom: 0;left: 50%;z-index: -1;}#sk-container-id-1 div.sk-parallel-item {display: flex;flex-direction: column;z-index: 1;position: relative;background-color: white;}#sk-container-id-1 div.sk-parallel-item:first-child::after {align-self: flex-end;width: 50%;}#sk-container-id-1 div.sk-parallel-item:last-child::after {align-self: flex-start;width: 50%;}#sk-container-id-1 div.sk-parallel-item:only-child::after {width: 0;}#sk-container-id-1 div.sk-dashed-wrapped {border: 1px dashed gray;margin: 0 0.4em 0.5em 0.4em;box-sizing: border-box;padding-bottom: 0.4em;background-color: white;}#sk-container-id-1 div.sk-label label {font-family: monospace;font-weight: bold;display: inline-block;line-height: 1.2em;}#sk-container-id-1 div.sk-label-container {text-align: center;}#sk-container-id-1 div.sk-container {/* jupyter's `normalize.less` sets `[hidden] { display: none; }` but bootstrap.min.css set `[hidden] { display: none !important; }` so we also need the `!important` here to be able to override the default hidden behavior on the sphinx rendered scikit-learn.org. See: https://github.com/scikit-learn/scikit-learn/issues/21755 */display: inline-block !important;position: relative;}#sk-container-id-1 div.sk-text-repr-fallback {display: none;}</style><div id=\"sk-container-id-1\" class=\"sk-top-container\"><div class=\"sk-text-repr-fallback\"><pre>LabelEncoder()</pre><b>In a Jupyter environment, please rerun this cell to show the HTML representation or trust the notebook. <br />On GitHub, the HTML representation is unable to render, please try loading this page with nbviewer.org.</b></div><div class=\"sk-container\" hidden><div class=\"sk-item\"><div class=\"sk-estimator sk-toggleable\"><input class=\"sk-toggleable__control sk-hidden--visually\" id=\"sk-estimator-id-1\" type=\"checkbox\" checked><label for=\"sk-estimator-id-1\" class=\"sk-toggleable__label sk-toggleable__label-arrow\">LabelEncoder</label><div class=\"sk-toggleable__content\"><pre>LabelEncoder()</pre></div></div></div></div></div>"
            ]
          },
          "metadata": {},
          "execution_count": 28
        }
      ]
    },
    {
      "cell_type": "code",
      "source": [
        "train_labels = le.transform(train_labels)\n",
        "dev_labels = le.transform(dev_labels)\n",
        "test_labels = le.transform(test_labels)"
      ],
      "metadata": {
        "id": "vdnR1w0b4KBc"
      },
      "execution_count": null,
      "outputs": []
    },
    {
      "cell_type": "code",
      "source": [
        "num_classes = len(list(le.classes_))\n",
        "num_classes"
      ],
      "metadata": {
        "colab": {
          "base_uri": "https://localhost:8080/"
        },
        "id": "J2FpQnVr4ru6",
        "outputId": "3da0666b-4130-467f-a079-24c6aeba1aec"
      },
      "execution_count": null,
      "outputs": [
        {
          "output_type": "execute_result",
          "data": {
            "text/plain": [
              "896"
            ]
          },
          "metadata": {},
          "execution_count": 30
        }
      ]
    },
    {
      "cell_type": "code",
      "source": [
        "le.inverse_transform([0])"
      ],
      "metadata": {
        "colab": {
          "base_uri": "https://localhost:8080/"
        },
        "id": "M9cRLful5CzS",
        "outputId": "0fd61829-fd0d-41e5-ee92-817e714e8a13"
      },
      "execution_count": null,
      "outputs": [
        {
          "output_type": "execute_result",
          "data": {
            "text/plain": [
              "array(['PF00003'], dtype='<U7')"
            ]
          },
          "metadata": {},
          "execution_count": 31
        }
      ]
    },
    {
      "cell_type": "code",
      "source": [
        "le_name_mapping = dict(zip(le.classes_, le.transform(le.classes_)))\n",
        "print(len(le_name_mapping))"
      ],
      "metadata": {
        "colab": {
          "base_uri": "https://localhost:8080/"
        },
        "id": "5zI2mmdi5ZzE",
        "outputId": "af95a16e-ca86-4e4e-993a-692eec65766c"
      },
      "execution_count": null,
      "outputs": [
        {
          "output_type": "stream",
          "name": "stdout",
          "text": [
            "896\n"
          ]
        }
      ]
    },
    {
      "cell_type": "code",
      "source": [
        "le_name_mapping['PF00003']"
      ],
      "metadata": {
        "colab": {
          "base_uri": "https://localhost:8080/"
        },
        "id": "Vw2UwpRA5eQ6",
        "outputId": "cac80fa7-e543-46bd-94fe-4e3593cf148a"
      },
      "execution_count": null,
      "outputs": [
        {
          "output_type": "execute_result",
          "data": {
            "text/plain": [
              "0"
            ]
          },
          "metadata": {},
          "execution_count": 33
        }
      ]
    },
    {
      "cell_type": "code",
      "source": [
        "train_df[\"true_label_encoded\"] = train_labels\n",
        "test_df[\"true_label_encoded\"] = test_labels\n",
        "dev_df[\"true_label_encoded\"] = dev_labels"
      ],
      "metadata": {
        "id": "uIG7bhF-qoFV"
      },
      "execution_count": null,
      "outputs": []
    },
    {
      "cell_type": "markdown",
      "source": [
        "\n",
        "\n",
        "---\n",
        "\n",
        "\n",
        "\n",
        "---\n",
        "\n"
      ],
      "metadata": {
        "id": "akTgWrFgqxvv"
      }
    },
    {
      "cell_type": "code",
      "source": [
        "train_df.to_csv('/content/drive/MyDrive/instaDeep/data/train_filtered.csv', index=False)\n",
        "dev_df.to_csv('/content/drive/MyDrive/instaDeep/data/dev_filtered.csv', index=False)\n",
        "test_df.to_csv('/content/drive/MyDrive/instaDeep/data/test_filtered.csv', index=False)"
      ],
      "metadata": {
        "id": "HgwJFK02ofHK"
      },
      "execution_count": null,
      "outputs": []
    },
    {
      "cell_type": "code",
      "source": [],
      "metadata": {
        "id": "HrAS4rxymFEc"
      },
      "execution_count": null,
      "outputs": []
    },
    {
      "cell_type": "code",
      "source": [],
      "metadata": {
        "id": "E7HsmFN8mFCj"
      },
      "execution_count": null,
      "outputs": []
    }
  ]
}