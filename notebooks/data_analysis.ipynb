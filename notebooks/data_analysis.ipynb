{
 "cells": [
  {
   "cell_type": "markdown",
   "metadata": {
    "id": "j1DATnbjZ7DC"
   },
   "source": [
    "# Dataset Analysis\n",
    "\n",
    "The Pfam dataset was introduced in the publication - \"Using deep learning to annotate the protein universe\". [Link to publication](https://www.nature.com/articles/s41587-021-01179-w)\n",
    "\n",
    "Data Source: [Kaggle Datasets](https://www.kaggle.com/datasets/googleai/pfam-seed-random-split)"
   ]
  },
  {
   "cell_type": "code",
   "execution_count": 1,
   "metadata": {
    "id": "ZI9a0jDm4l5X"
   },
   "outputs": [],
   "source": [
    "import os\n",
    "import pandas as pd\n",
    "import numpy as np\n",
    "from collections import Counter\n",
    "import matplotlib.pyplot as plt\n",
    "import seaborn as sns"
   ]
  },
  {
   "cell_type": "code",
   "execution_count": 2,
   "metadata": {
    "id": "IRifUm2QHayI"
   },
   "outputs": [],
   "source": [
    "# Set the style of plots\n",
    "sns.set_theme(style=\"whitegrid\")"
   ]
  },
  {
   "cell_type": "code",
   "execution_count": 3,
   "metadata": {
    "colab": {
     "base_uri": "https://localhost:8080/"
    },
    "id": "AlhbezMSFcYb",
    "outputId": "5d38f9cb-0388-4278-dc92-26d3a100ac9b"
   },
   "outputs": [
    {
     "name": "stdout",
     "output_type": "stream",
     "text": [
      "Mounted at /content/drive\n"
     ]
    }
   ],
   "source": [
    "# Colab - connect Google Drive \n",
    "from google.colab import drive\n",
    "drive.mount('/content/drive')"
   ]
  },
  {
   "cell_type": "code",
   "execution_count": 4,
   "metadata": {
    "id": "EB2HXzAMFZBn"
   },
   "outputs": [],
   "source": [
    "import sys\n",
    "sys.path.append('/content/drive/MyDrive/colabProteinProject/src/protein_universe_annotate')"
   ]
  },
  {
   "cell_type": "code",
   "execution_count": 5,
   "metadata": {
    "id": "1YSImY1iS0mY"
   },
   "outputs": [],
   "source": [
    "from data_processing import read_pfam_dataset\n",
    "from data_exploration import is_bijection_mapping, compute_overlap,\\\n",
    "    detect_outliers_zscore, plot_sequence_len_dist, get_amino_acid_freq, plot_code_freq,\\\n",
    "    plot_class_percentage_distribution_line, plot_class_distribution_line, plot_class_distribution_hist,\\\n",
    "    get_partitions_info"
   ]
  },
  {
   "cell_type": "code",
   "execution_count": 6,
   "metadata": {
    "colab": {
     "base_uri": "https://localhost:8080/"
    },
    "id": "xr2DktomFYkj",
    "outputId": "6c817791-606c-42a1-fcf2-a843b67a8f5b"
   },
   "outputs": [
    {
     "name": "stdout",
     "output_type": "stream",
     "text": [
      "Available dataset partitions:  ['dev', 'test', 'train']\n"
     ]
    }
   ],
   "source": [
    "# Data folder containing all the data partitions\n",
    "data_partitions_dirpath = '/content/drive/MyDrive/colabProteinProject/data/random_split'\n",
    "print('Available dataset partitions: ', os.listdir(data_partitions_dirpath))"
   ]
  },
  {
   "cell_type": "code",
   "execution_count": 7,
   "metadata": {
    "id": "mTN3jsdLTW7G"
   },
   "outputs": [],
   "source": [
    "# Read each dataset partition into a pandas DataFrame\n",
    "partition_names = ['train', 'dev', 'test']\n",
    "partition_frames = [read_pfam_dataset(dir_name, data_partitions_dirpath) for dir_name in partition_names]"
   ]
  },
  {
   "cell_type": "code",
   "execution_count": 8,
   "metadata": {
    "colab": {
     "base_uri": "https://localhost:8080/",
     "height": 337
    },
    "id": "hxXmsTWaWHVf",
    "outputId": "13d4003a-d5f3-4826-f68a-5dd22206eb64"
   },
   "outputs": [
    {
     "data": {
      "text/html": [
       "\n",
       "  <div id=\"df-4e42255b-7c65-4b60-b4f8-542e4ebf327b\">\n",
       "    <div class=\"colab-df-container\">\n",
       "      <div>\n",
       "<style scoped>\n",
       "    .dataframe tbody tr th:only-of-type {\n",
       "        vertical-align: middle;\n",
       "    }\n",
       "\n",
       "    .dataframe tbody tr th {\n",
       "        vertical-align: top;\n",
       "    }\n",
       "\n",
       "    .dataframe thead th {\n",
       "        text-align: right;\n",
       "    }\n",
       "</style>\n",
       "<table border=\"1\" class=\"dataframe\">\n",
       "  <thead>\n",
       "    <tr style=\"text-align: right;\">\n",
       "      <th></th>\n",
       "      <th>family_id</th>\n",
       "      <th>sequence_name</th>\n",
       "      <th>family_accession</th>\n",
       "      <th>aligned_sequence</th>\n",
       "      <th>sequence</th>\n",
       "    </tr>\n",
       "  </thead>\n",
       "  <tbody>\n",
       "    <tr>\n",
       "      <th>0</th>\n",
       "      <td>MORN_2</td>\n",
       "      <td>Q8EI47_SHEON/428-449</td>\n",
       "      <td>PF07661.13</td>\n",
       "      <td>LHGEFRNQTSSGQLLELI.NFNH</td>\n",
       "      <td>LHGEFRNQTSSGQLLELINFNH</td>\n",
       "    </tr>\n",
       "    <tr>\n",
       "      <th>1</th>\n",
       "      <td>Plexin_cytopl</td>\n",
       "      <td>H2TB23_TAKRU/1240-1793</td>\n",
       "      <td>PF08337.12</td>\n",
       "      <td>.MPFLDYKTYTDCNFFLPSKDGAND......AMITRKLQIPE.......</td>\n",
       "      <td>MPFLDYKTYTDCNFFLPSKDGANDAMITRKLQIPEARRAIVAQALN...</td>\n",
       "    </tr>\n",
       "    <tr>\n",
       "      <th>2</th>\n",
       "      <td>RT_RNaseH</td>\n",
       "      <td>H3H8E9_PHYRM/405-501</td>\n",
       "      <td>PF17917.1</td>\n",
       "      <td>DYSRRFHVFADAS.GH.QIGGVIVQ........................</td>\n",
       "      <td>DYSRRFHVFADASGHQIGGVIVQGRRILACFSRSMTDTQKKYSTME...</td>\n",
       "    </tr>\n",
       "    <tr>\n",
       "      <th>3</th>\n",
       "      <td>Transposase_20</td>\n",
       "      <td>Q981X5_RHILO/224-313</td>\n",
       "      <td>PF02371.16</td>\n",
       "      <td>VEAYQAMRGASFLVAVIFAAEI.GDV.RR.FDTPPQLMAFLGLVPG...</td>\n",
       "      <td>VEAYQAMRGASFLVAVIFAAEIGDVRRFDTPPQLMAFLGLVPGERS...</td>\n",
       "    </tr>\n",
       "    <tr>\n",
       "      <th>4</th>\n",
       "      <td>Mycobact_memb</td>\n",
       "      <td>MMPS4_MYCLE/16-154</td>\n",
       "      <td>PF05423.13</td>\n",
       "      <td>LSRIWIPLVILVVLVVGGFVVYRVHSYFASEKRESYADSNLGSSKP...</td>\n",
       "      <td>LSRIWIPLVILVVLVVGGFVVYRVHSYFASEKRESYADSNLGSSKP...</td>\n",
       "    </tr>\n",
       "  </tbody>\n",
       "</table>\n",
       "</div>\n",
       "      <button class=\"colab-df-convert\" onclick=\"convertToInteractive('df-4e42255b-7c65-4b60-b4f8-542e4ebf327b')\"\n",
       "              title=\"Convert this dataframe to an interactive table.\"\n",
       "              style=\"display:none;\">\n",
       "        \n",
       "  <svg xmlns=\"http://www.w3.org/2000/svg\" height=\"24px\"viewBox=\"0 0 24 24\"\n",
       "       width=\"24px\">\n",
       "    <path d=\"M0 0h24v24H0V0z\" fill=\"none\"/>\n",
       "    <path d=\"M18.56 5.44l.94 2.06.94-2.06 2.06-.94-2.06-.94-.94-2.06-.94 2.06-2.06.94zm-11 1L8.5 8.5l.94-2.06 2.06-.94-2.06-.94L8.5 2.5l-.94 2.06-2.06.94zm10 10l.94 2.06.94-2.06 2.06-.94-2.06-.94-.94-2.06-.94 2.06-2.06.94z\"/><path d=\"M17.41 7.96l-1.37-1.37c-.4-.4-.92-.59-1.43-.59-.52 0-1.04.2-1.43.59L10.3 9.45l-7.72 7.72c-.78.78-.78 2.05 0 2.83L4 21.41c.39.39.9.59 1.41.59.51 0 1.02-.2 1.41-.59l7.78-7.78 2.81-2.81c.8-.78.8-2.07 0-2.86zM5.41 20L4 18.59l7.72-7.72 1.47 1.35L5.41 20z\"/>\n",
       "  </svg>\n",
       "      </button>\n",
       "      \n",
       "  <style>\n",
       "    .colab-df-container {\n",
       "      display:flex;\n",
       "      flex-wrap:wrap;\n",
       "      gap: 12px;\n",
       "    }\n",
       "\n",
       "    .colab-df-convert {\n",
       "      background-color: #E8F0FE;\n",
       "      border: none;\n",
       "      border-radius: 50%;\n",
       "      cursor: pointer;\n",
       "      display: none;\n",
       "      fill: #1967D2;\n",
       "      height: 32px;\n",
       "      padding: 0 0 0 0;\n",
       "      width: 32px;\n",
       "    }\n",
       "\n",
       "    .colab-df-convert:hover {\n",
       "      background-color: #E2EBFA;\n",
       "      box-shadow: 0px 1px 2px rgba(60, 64, 67, 0.3), 0px 1px 3px 1px rgba(60, 64, 67, 0.15);\n",
       "      fill: #174EA6;\n",
       "    }\n",
       "\n",
       "    [theme=dark] .colab-df-convert {\n",
       "      background-color: #3B4455;\n",
       "      fill: #D2E3FC;\n",
       "    }\n",
       "\n",
       "    [theme=dark] .colab-df-convert:hover {\n",
       "      background-color: #434B5C;\n",
       "      box-shadow: 0px 1px 3px 1px rgba(0, 0, 0, 0.15);\n",
       "      filter: drop-shadow(0px 1px 2px rgba(0, 0, 0, 0.3));\n",
       "      fill: #FFFFFF;\n",
       "    }\n",
       "  </style>\n",
       "\n",
       "      <script>\n",
       "        const buttonEl =\n",
       "          document.querySelector('#df-4e42255b-7c65-4b60-b4f8-542e4ebf327b button.colab-df-convert');\n",
       "        buttonEl.style.display =\n",
       "          google.colab.kernel.accessAllowed ? 'block' : 'none';\n",
       "\n",
       "        async function convertToInteractive(key) {\n",
       "          const element = document.querySelector('#df-4e42255b-7c65-4b60-b4f8-542e4ebf327b');\n",
       "          const dataTable =\n",
       "            await google.colab.kernel.invokeFunction('convertToInteractive',\n",
       "                                                     [key], {});\n",
       "          if (!dataTable) return;\n",
       "\n",
       "          const docLinkHtml = 'Like what you see? Visit the ' +\n",
       "            '<a target=\"_blank\" href=https://colab.research.google.com/notebooks/data_table.ipynb>data table notebook</a>'\n",
       "            + ' to learn more about interactive tables.';\n",
       "          element.innerHTML = '';\n",
       "          dataTable['output_type'] = 'display_data';\n",
       "          await google.colab.output.renderOutput(dataTable, element);\n",
       "          const docLink = document.createElement('div');\n",
       "          docLink.innerHTML = docLinkHtml;\n",
       "          element.appendChild(docLink);\n",
       "        }\n",
       "      </script>\n",
       "    </div>\n",
       "  </div>\n",
       "  "
      ],
      "text/plain": [
       "        family_id           sequence_name family_accession  \\\n",
       "0          MORN_2    Q8EI47_SHEON/428-449       PF07661.13   \n",
       "1   Plexin_cytopl  H2TB23_TAKRU/1240-1793       PF08337.12   \n",
       "2       RT_RNaseH    H3H8E9_PHYRM/405-501        PF17917.1   \n",
       "3  Transposase_20    Q981X5_RHILO/224-313       PF02371.16   \n",
       "4   Mycobact_memb      MMPS4_MYCLE/16-154       PF05423.13   \n",
       "\n",
       "                                    aligned_sequence  \\\n",
       "0                            LHGEFRNQTSSGQLLELI.NFNH   \n",
       "1  .MPFLDYKTYTDCNFFLPSKDGAND......AMITRKLQIPE.......   \n",
       "2  DYSRRFHVFADAS.GH.QIGGVIVQ........................   \n",
       "3  VEAYQAMRGASFLVAVIFAAEI.GDV.RR.FDTPPQLMAFLGLVPG...   \n",
       "4  LSRIWIPLVILVVLVVGGFVVYRVHSYFASEKRESYADSNLGSSKP...   \n",
       "\n",
       "                                            sequence  \n",
       "0                             LHGEFRNQTSSGQLLELINFNH  \n",
       "1  MPFLDYKTYTDCNFFLPSKDGANDAMITRKLQIPEARRAIVAQALN...  \n",
       "2  DYSRRFHVFADASGHQIGGVIVQGRRILACFSRSMTDTQKKYSTME...  \n",
       "3  VEAYQAMRGASFLVAVIFAAEIGDVRRFDTPPQLMAFLGLVPGERS...  \n",
       "4  LSRIWIPLVILVVLVVGGFVVYRVHSYFASEKRESYADSNLGSSKP...  "
      ]
     },
     "execution_count": 8,
     "metadata": {},
     "output_type": "execute_result"
    }
   ],
   "source": [
    "# Take a look into what the data is looking like in the data frame\n",
    "partition_frames[0].head()"
   ]
  },
  {
   "cell_type": "code",
   "execution_count": 9,
   "metadata": {
    "id": "a98kV3NXUh7A"
   },
   "outputs": [],
   "source": [
    "# Assign the dataset type to each sample by adding a new 'split' column\n",
    "for split_name, data_df in zip(partition_names, partition_frames):\n",
    "    data_df['split_name'] = split_name"
   ]
  },
  {
   "cell_type": "code",
   "execution_count": 10,
   "metadata": {
    "id": "99MVPYlXVKG7"
   },
   "outputs": [],
   "source": [
    "# Convert true labels from PF00001.21 to PF00001\n",
    "for data_df in partition_frames:\n",
    "    data_df['true_label'] = data_df.family_accession.apply(lambda s: s.split('.')[0])"
   ]
  },
  {
   "cell_type": "code",
   "execution_count": 11,
   "metadata": {
    "id": "U-u-q2b3Vo7J"
   },
   "outputs": [],
   "source": [
    "# Extract length of sequence\n",
    "for data_df in partition_frames:\n",
    "    data_df['sequence_len'] = data_df['sequence'].apply(lambda x: len(x))"
   ]
  },
  {
   "cell_type": "code",
   "execution_count": 12,
   "metadata": {
    "id": "S00Xo2BIT59s"
   },
   "outputs": [],
   "source": [
    "# Named references train, dev, and test sets for the respective partitions\n",
    "train_df, dev_df, test_df = partition_frames"
   ]
  },
  {
   "cell_type": "code",
   "execution_count": 13,
   "metadata": {
    "id": "sGS8n4X582ka"
   },
   "outputs": [],
   "source": [
    "# Concatenate the datasets in one DataFrame\n",
    "total_data_df = pd.concat([test_df, dev_df, train_df], ignore_index=True)"
   ]
  },
  {
   "cell_type": "code",
   "execution_count": 14,
   "metadata": {
    "colab": {
     "base_uri": "https://localhost:8080/",
     "height": 143
    },
    "id": "GYDJQ_2iWCzz",
    "outputId": "b842e685-d48f-4e9f-ba7e-0bba3751a676"
   },
   "outputs": [
    {
     "data": {
      "text/html": [
       "\n",
       "  <div id=\"df-651ae7bc-ec7c-45f0-9c89-ce8bb290ac4f\">\n",
       "    <div class=\"colab-df-container\">\n",
       "      <div>\n",
       "<style scoped>\n",
       "    .dataframe tbody tr th:only-of-type {\n",
       "        vertical-align: middle;\n",
       "    }\n",
       "\n",
       "    .dataframe tbody tr th {\n",
       "        vertical-align: top;\n",
       "    }\n",
       "\n",
       "    .dataframe thead th {\n",
       "        text-align: right;\n",
       "    }\n",
       "</style>\n",
       "<table border=\"1\" class=\"dataframe\">\n",
       "  <thead>\n",
       "    <tr style=\"text-align: right;\">\n",
       "      <th></th>\n",
       "      <th>partition</th>\n",
       "      <th>num_of_samples</th>\n",
       "      <th>num_of_true_class</th>\n",
       "      <th>max_samples_per_class</th>\n",
       "      <th>min_samples_per_class</th>\n",
       "      <th>min_seq_length</th>\n",
       "      <th>max_seq_length</th>\n",
       "      <th>avg_seq_length</th>\n",
       "    </tr>\n",
       "  </thead>\n",
       "  <tbody>\n",
       "    <tr>\n",
       "      <th>0</th>\n",
       "      <td>train</td>\n",
       "      <td>1086741</td>\n",
       "      <td>17929</td>\n",
       "      <td>3637</td>\n",
       "      <td>1</td>\n",
       "      <td>4</td>\n",
       "      <td>2037</td>\n",
       "      <td>155.379971</td>\n",
       "    </tr>\n",
       "    <tr>\n",
       "      <th>1</th>\n",
       "      <td>dev</td>\n",
       "      <td>126171</td>\n",
       "      <td>13071</td>\n",
       "      <td>454</td>\n",
       "      <td>1</td>\n",
       "      <td>9</td>\n",
       "      <td>1971</td>\n",
       "      <td>154.222206</td>\n",
       "    </tr>\n",
       "    <tr>\n",
       "      <th>2</th>\n",
       "      <td>test</td>\n",
       "      <td>126171</td>\n",
       "      <td>13071</td>\n",
       "      <td>454</td>\n",
       "      <td>1</td>\n",
       "      <td>9</td>\n",
       "      <td>1937</td>\n",
       "      <td>154.166845</td>\n",
       "    </tr>\n",
       "  </tbody>\n",
       "</table>\n",
       "</div>\n",
       "      <button class=\"colab-df-convert\" onclick=\"convertToInteractive('df-651ae7bc-ec7c-45f0-9c89-ce8bb290ac4f')\"\n",
       "              title=\"Convert this dataframe to an interactive table.\"\n",
       "              style=\"display:none;\">\n",
       "        \n",
       "  <svg xmlns=\"http://www.w3.org/2000/svg\" height=\"24px\"viewBox=\"0 0 24 24\"\n",
       "       width=\"24px\">\n",
       "    <path d=\"M0 0h24v24H0V0z\" fill=\"none\"/>\n",
       "    <path d=\"M18.56 5.44l.94 2.06.94-2.06 2.06-.94-2.06-.94-.94-2.06-.94 2.06-2.06.94zm-11 1L8.5 8.5l.94-2.06 2.06-.94-2.06-.94L8.5 2.5l-.94 2.06-2.06.94zm10 10l.94 2.06.94-2.06 2.06-.94-2.06-.94-.94-2.06-.94 2.06-2.06.94z\"/><path d=\"M17.41 7.96l-1.37-1.37c-.4-.4-.92-.59-1.43-.59-.52 0-1.04.2-1.43.59L10.3 9.45l-7.72 7.72c-.78.78-.78 2.05 0 2.83L4 21.41c.39.39.9.59 1.41.59.51 0 1.02-.2 1.41-.59l7.78-7.78 2.81-2.81c.8-.78.8-2.07 0-2.86zM5.41 20L4 18.59l7.72-7.72 1.47 1.35L5.41 20z\"/>\n",
       "  </svg>\n",
       "      </button>\n",
       "      \n",
       "  <style>\n",
       "    .colab-df-container {\n",
       "      display:flex;\n",
       "      flex-wrap:wrap;\n",
       "      gap: 12px;\n",
       "    }\n",
       "\n",
       "    .colab-df-convert {\n",
       "      background-color: #E8F0FE;\n",
       "      border: none;\n",
       "      border-radius: 50%;\n",
       "      cursor: pointer;\n",
       "      display: none;\n",
       "      fill: #1967D2;\n",
       "      height: 32px;\n",
       "      padding: 0 0 0 0;\n",
       "      width: 32px;\n",
       "    }\n",
       "\n",
       "    .colab-df-convert:hover {\n",
       "      background-color: #E2EBFA;\n",
       "      box-shadow: 0px 1px 2px rgba(60, 64, 67, 0.3), 0px 1px 3px 1px rgba(60, 64, 67, 0.15);\n",
       "      fill: #174EA6;\n",
       "    }\n",
       "\n",
       "    [theme=dark] .colab-df-convert {\n",
       "      background-color: #3B4455;\n",
       "      fill: #D2E3FC;\n",
       "    }\n",
       "\n",
       "    [theme=dark] .colab-df-convert:hover {\n",
       "      background-color: #434B5C;\n",
       "      box-shadow: 0px 1px 3px 1px rgba(0, 0, 0, 0.15);\n",
       "      filter: drop-shadow(0px 1px 2px rgba(0, 0, 0, 0.3));\n",
       "      fill: #FFFFFF;\n",
       "    }\n",
       "  </style>\n",
       "\n",
       "      <script>\n",
       "        const buttonEl =\n",
       "          document.querySelector('#df-651ae7bc-ec7c-45f0-9c89-ce8bb290ac4f button.colab-df-convert');\n",
       "        buttonEl.style.display =\n",
       "          google.colab.kernel.accessAllowed ? 'block' : 'none';\n",
       "\n",
       "        async function convertToInteractive(key) {\n",
       "          const element = document.querySelector('#df-651ae7bc-ec7c-45f0-9c89-ce8bb290ac4f');\n",
       "          const dataTable =\n",
       "            await google.colab.kernel.invokeFunction('convertToInteractive',\n",
       "                                                     [key], {});\n",
       "          if (!dataTable) return;\n",
       "\n",
       "          const docLinkHtml = 'Like what you see? Visit the ' +\n",
       "            '<a target=\"_blank\" href=https://colab.research.google.com/notebooks/data_table.ipynb>data table notebook</a>'\n",
       "            + ' to learn more about interactive tables.';\n",
       "          element.innerHTML = '';\n",
       "          dataTable['output_type'] = 'display_data';\n",
       "          await google.colab.output.renderOutput(dataTable, element);\n",
       "          const docLink = document.createElement('div');\n",
       "          docLink.innerHTML = docLinkHtml;\n",
       "          element.appendChild(docLink);\n",
       "        }\n",
       "      </script>\n",
       "    </div>\n",
       "  </div>\n",
       "  "
      ],
      "text/plain": [
       "  partition  num_of_samples  num_of_true_class  max_samples_per_class  \\\n",
       "0     train         1086741              17929                   3637   \n",
       "1       dev          126171              13071                    454   \n",
       "2      test          126171              13071                    454   \n",
       "\n",
       "   min_samples_per_class  min_seq_length  max_seq_length  avg_seq_length  \n",
       "0                      1               4            2037      155.379971  \n",
       "1                      1               9            1971      154.222206  \n",
       "2                      1               9            1937      154.166845  "
      ]
     },
     "execution_count": 14,
     "metadata": {},
     "output_type": "execute_result"
    }
   ],
   "source": [
    "# Collect basic statistics about the partitions in a data sets to compare them\n",
    "get_partitions_info(partition_frames, partition_names)"
   ]
  },
  {
   "cell_type": "code",
   "execution_count": 15,
   "metadata": {
    "colab": {
     "base_uri": "https://localhost:8080/"
    },
    "id": "W8rO_sh09DGB",
    "outputId": "c10477f0-4d5b-44d5-e377-0a9f7e424cb6"
   },
   "outputs": [
    {
     "name": "stdout",
     "output_type": "stream",
     "text": [
      "Number of samples from dev-test-train: 1339083\n",
      "Number of features: 8\n",
      "Features: ['family_id', 'sequence_name', 'family_accession', 'aligned_sequence', 'sequence', 'split_name', 'true_label', 'sequence_len']\n"
     ]
    }
   ],
   "source": [
    "# Basic info\n",
    "print(f\"Number of samples from dev-test-train: {total_data_df.shape[0]}\")\n",
    "print(f\"Number of features: {total_data_df.shape[1]}\")\n",
    "print(f\"Features: {total_data_df.columns.tolist()}\")"
   ]
  },
  {
   "cell_type": "markdown",
   "metadata": {
    "id": "yvGQwHvSX78k"
   },
   "source": [
    "**Observations**:\n",
    "\n",
    "- The provided dataset is split into a train-dev-test sets with an approximate ration 80% - 10% - 10%.\n",
    "- 4858 target classes are only represented in the training partition."
   ]
  },
  {
   "cell_type": "code",
   "execution_count": 16,
   "metadata": {
    "colab": {
     "base_uri": "https://localhost:8080/"
    },
    "id": "lT7Y0zm79O7T",
    "outputId": "a9edecb1-6009-4224-cf35-b81849f5a3bd"
   },
   "outputs": [
    {
     "name": "stdout",
     "output_type": "stream",
     "text": [
      "Missing values in dataset: \n",
      " family_id           0\n",
      "sequence_name       0\n",
      "family_accession    0\n",
      "aligned_sequence    0\n",
      "sequence            0\n",
      "split_name          0\n",
      "true_label          0\n",
      "sequence_len        0\n",
      "dtype: int64\n"
     ]
    }
   ],
   "source": [
    "# Check for missing values in each column\n",
    "print('Missing values in dataset: \\n', total_data_df.isnull().sum())"
   ]
  },
  {
   "cell_type": "code",
   "execution_count": 17,
   "metadata": {
    "colab": {
     "base_uri": "https://localhost:8080/"
    },
    "id": "W0w5aI2nY3_1",
    "outputId": "ca194959-f942-4ddf-b517-79e414cc8609"
   },
   "outputs": [
    {
     "name": "stdout",
     "output_type": "stream",
     "text": [
      "Duplicated entries in dataset: False\n"
     ]
    }
   ],
   "source": [
    "# Checking for duplicates on the sample level\n",
    "print(f'Duplicated entries in dataset: {total_data_df.duplicated().any()}')"
   ]
  },
  {
   "cell_type": "code",
   "execution_count": 18,
   "metadata": {
    "colab": {
     "base_uri": "https://localhost:8080/"
    },
    "id": "LUn0qVeMY9p2",
    "outputId": "10cac666-19c3-4e40-ff48-d4a066db1ea6"
   },
   "outputs": [
    {
     "name": "stdout",
     "output_type": "stream",
     "text": [
      "Num. duplicates in #train: 426\n",
      "Num. duplicates in #dev: 21\n",
      "Num. duplicates in #test: 10\n"
     ]
    }
   ],
   "source": [
    "# Check for duplicates on 'sequence' level in each dataset split\n",
    "for split_name, data_df in zip(partition_names, partition_frames):\n",
    "    seq_duplicates = data_df[data_df.duplicated(subset=['sequence'], keep='first')]\n",
    "    print(f'Num. duplicates in #{split_name}: {seq_duplicates.shape[0]}')"
   ]
  },
  {
   "cell_type": "code",
   "execution_count": 19,
   "metadata": {
    "colab": {
     "base_uri": "https://localhost:8080/"
    },
    "id": "BztANW0V3QdS",
    "outputId": "77edf84f-5a39-4d4e-bf44-91fa31390aa0"
   },
   "outputs": [
    {
     "name": "stdout",
     "output_type": "stream",
     "text": [
      "The target variable 'family_accession' contains only unique mapping to its version: True\n"
     ]
    }
   ],
   "source": [
    "# Does the target label like PF00001 have multiple versions (e.g. PF00001.12, PF00001.27)?\n",
    "print('The target variable \\'family_accession\\' contains only unique mapping to its version: {}'.\n",
    "        format(is_bijection_mapping(total_data_df, col1='true_label', col2='family_accession')))"
   ]
  },
  {
   "cell_type": "code",
   "execution_count": 20,
   "metadata": {
    "colab": {
     "base_uri": "https://localhost:8080/"
    },
    "id": "AKosFE449r2K",
    "outputId": "7679ddf7-67e9-41c0-a403-7724831cff65"
   },
   "outputs": [
    {
     "name": "stdout",
     "output_type": "stream",
     "text": [
      "The 'family_id' feature contains only unique mapping to true_label feature: True\n"
     ]
    }
   ],
   "source": [
    "# Does the 'family_id' and 'true_label' have 1:1 mapping?\n",
    "print('The \\'family_id\\' feature contains only unique mapping to true_label feature: {}'.\n",
    "        format(is_bijection_mapping(total_data_df, col1='family_id', col2='true_label')))"
   ]
  },
  {
   "cell_type": "markdown",
   "metadata": {
    "id": "DBhNf9H9QYc7"
   },
   "source": [
    "**Observations**: \n",
    "- Family_id has a unique mapping to family_accession. Both variables could be target class to predict. To be consistent with the original publication, family_accession (without version) is used as a target class to predict. \n",
    "- The target variable 'family_accession' contains only unique mapping to its version."
   ]
  },
  {
   "cell_type": "code",
   "execution_count": 21,
   "metadata": {
    "colab": {
     "base_uri": "https://localhost:8080/"
    },
    "id": "eLPzYRYO97Do",
    "outputId": "009127ab-15fc-439b-dd68-df2fd089d4b5"
   },
   "outputs": [
    {
     "name": "stdout",
     "output_type": "stream",
     "text": [
      "There are 17929 distinct values in the 'true_label' column.\n"
     ]
    }
   ],
   "source": [
    "num_distinct_labels = total_data_df['true_label'].nunique()\n",
    "print(f\"There are {num_distinct_labels} distinct values in the 'true_label' column.\")"
   ]
  },
  {
   "cell_type": "code",
   "execution_count": 22,
   "metadata": {
    "colab": {
     "base_uri": "https://localhost:8080/"
    },
    "id": "B0riJ_QPRsAd",
    "outputId": "6b594ce9-776c-4040-bd7f-eeb54f5ec3af"
   },
   "outputs": [
    {
     "name": "stdout",
     "output_type": "stream",
     "text": [
      "Number of unique classes in Train:  17929\n",
      "Number of unique classes in Test:  13071\n",
      "Number of unique classes in Dev:  13071\n"
     ]
    }
   ],
   "source": [
    "print('Number of unique classes in Train: ', train_df['true_label'].nunique())\n",
    "print('Number of unique classes in Test: ', test_df['true_label'].nunique())\n",
    "print('Number of unique classes in Dev: ', dev_df['true_label'].nunique())"
   ]
  },
  {
   "cell_type": "code",
   "execution_count": 23,
   "metadata": {
    "colab": {
     "base_uri": "https://localhost:8080/"
    },
    "id": "fv9Q4Dpc-Viw",
    "outputId": "83c546ee-6088-440b-9dc5-9f894fc0baaf"
   },
   "outputs": [
    {
     "name": "stdout",
     "output_type": "stream",
     "text": [
      "Number of overlapping labels Train -- Test: 13071\n",
      "Number of overlapping labels Train -- Dev: 13071\n",
      "Number of overlapping labels Dev -- Test: 13071\n"
     ]
    }
   ],
   "source": [
    "# Are there overlaps between sets in 'true_label'?\n",
    "overlapping_vals = compute_overlap(train_df, test_df, 'true_label')\n",
    "print(f'Number of overlapping labels Train -- Test: {len(overlapping_vals)}')\n",
    "\n",
    "overlapping_vals = compute_overlap(train_df, dev_df, 'true_label')\n",
    "print(f'Number of overlapping labels Train -- Dev: {len(overlapping_vals)}')\n",
    "\n",
    "overlapping_vals = compute_overlap(dev_df, test_df, 'true_label')\n",
    "print(f'Number of overlapping labels Dev -- Test: {len(overlapping_vals)}')"
   ]
  },
  {
   "cell_type": "markdown",
   "metadata": {
    "id": "Bb316R2o_k_4"
   },
   "source": [
    "**Observations**:\n",
    "- All true labels (to be predicted) from test and dev dataset are included in the training dataset."
   ]
  },
  {
   "cell_type": "code",
   "execution_count": 24,
   "metadata": {
    "colab": {
     "base_uri": "https://localhost:8080/"
    },
    "id": "ZN-TOubG_uAh",
    "outputId": "b70bb45e-e288-4558-ad5a-ca3dcb95d7bd"
   },
   "outputs": [
    {
     "name": "stdout",
     "output_type": "stream",
     "text": [
      "Number of overlapping sequences Train -- Test: 60\n",
      "Number of overlapping sequences Train -- Dev: 67\n",
      "Number of overlapping sequences Test -- Dev: 18\n"
     ]
    }
   ],
   "source": [
    "# Are there overlaps between sets in 'sequence'?\n",
    "overlapping_vals = compute_overlap(train_df, test_df, 'sequence')\n",
    "print(f'Number of overlapping sequences Train -- Test: {len(overlapping_vals)}')\n",
    "\n",
    "overlapping_vals = compute_overlap(train_df, dev_df, 'sequence')\n",
    "print(f'Number of overlapping sequences Train -- Dev: {len(overlapping_vals)}')\n",
    "\n",
    "overlapping_vals = compute_overlap(test_df, dev_df, 'sequence')\n",
    "print(f'Number of overlapping sequences Test -- Dev: {len(overlapping_vals)}')"
   ]
  },
  {
   "cell_type": "markdown",
   "metadata": {
    "id": "UPXrP3fbYUma"
   },
   "source": [
    "**Observations**: \n",
    "- Overlap less than 0.01% so all good! The number of overlapping sequences (input to ML models) is too low to have any negative impact, so can be ignored at the moment. Alternatively, overlapping sequences between sets could be removed."
   ]
  },
  {
   "cell_type": "markdown",
   "metadata": {
    "id": "ETdD0Rj3baog"
   },
   "source": [
    "### Domain sequence length"
   ]
  },
  {
   "cell_type": "code",
   "execution_count": 25,
   "metadata": {
    "colab": {
     "base_uri": "https://localhost:8080/",
     "height": 338
    },
    "id": "XO9eeYOEY_-h",
    "outputId": "e58fd8a2-5721-4647-85e7-095e1eba8fce"
   },
   "outputs": [
    {
     "data": {
      "image/png": "[encoded data removed]",
      "text/plain": [
       "<Figure size 640x480 with 3 Axes>"
      ]
     },
     "metadata": {},
     "output_type": "display_data"
    }
   ],
   "source": [
    "plt.subplot(1, 3, 1)\n",
    "plot_sequence_len_dist(train_df, 'Train')\n",
    "\n",
    "plt.subplot(1, 3, 2)\n",
    "plot_sequence_len_dist(dev_df, 'Dev')\n",
    "\n",
    "plt.subplot(1, 3, 3)\n",
    "plot_sequence_len_dist(test_df, 'Test')\n",
    "\n",
    "plt.subplots_adjust(right=3.0)\n",
    "plt.savefig('sequence_len_dist.png', dpi=300, bbox_inches='tight')\n",
    "plt.show()"
   ]
  },
  {
   "cell_type": "code",
   "execution_count": 26,
   "metadata": {
    "colab": {
     "base_uri": "https://localhost:8080/",
     "height": 595
    },
    "id": "YeH9ZzYHbjnh",
    "outputId": "f1fae8b5-8b05-42e5-a0bd-464c3682315d"
   },
   "outputs": [
    {
     "data": {
      "image/png": "[encoded data removed]",
      "text/plain": [
       "<Figure size 1200x600 with 1 Axes>"
      ]
     },
     "metadata": {},
     "output_type": "display_data"
    }
   ],
   "source": [
    "# Plot a stacked histogram for the three partitions \n",
    "# Notice the average sequence length being highlighted in the visualization\n",
    "\n",
    "plt.figure(figsize=(12, 6))\n",
    "\n",
    "plt.hist(\n",
    "    [data_df.sequence_len for data_df in partition_frames], \n",
    "    stacked=True, \n",
    "    bins=100\n",
    ")\n",
    "\n",
    "plt.legend([\n",
    "    f'{name} set' for name in ('Training', 'Validation', 'Test')\n",
    "])\n",
    "\n",
    "plt.xlabel('Sequence length')\n",
    "\n",
    "plt.xticks(\n",
    "    ticks=list(range(0, 2001, 250)) + [154],\n",
    "    labels=list(range(0, 2001, 250)) + [154],\n",
    "    rotation=45\n",
    ")\n",
    "\n",
    "plt.title('Sequence length histogram per each split')\n",
    "plt.xticks()[1][-1].set_fontweight('bold')\n",
    "plt.show()"
   ]
  },
  {
   "cell_type": "code",
   "execution_count": 27,
   "metadata": {
    "colab": {
     "base_uri": "https://localhost:8080/"
    },
    "id": "nelu1UgTG6pd",
    "outputId": "b3bb9f1a-2f1c-42c7-a148-d9dfe4aea90a"
   },
   "outputs": [
    {
     "data": {
      "text/plain": [
       "count    126171.000000\n",
       "mean        154.222206\n",
       "std         118.278250\n",
       "min           9.000000\n",
       "25%          76.000000\n",
       "50%         118.000000\n",
       "75%         194.000000\n",
       "max        1971.000000\n",
       "Name: sequence_len, dtype: float64"
      ]
     },
     "execution_count": 27,
     "metadata": {},
     "output_type": "execute_result"
    }
   ],
   "source": [
    "dev_df.sequence_len.describe()"
   ]
  },
  {
   "cell_type": "code",
   "execution_count": 28,
   "metadata": {
    "colab": {
     "base_uri": "https://localhost:8080/"
    },
    "id": "jElO8ohSG-rf",
    "outputId": "f479526d-f67b-4515-ef46-02fa84e786fa"
   },
   "outputs": [
    {
     "data": {
      "text/plain": [
       "count    126171.000000\n",
       "mean        154.166845\n",
       "std         118.376706\n",
       "min           9.000000\n",
       "25%          76.000000\n",
       "50%         118.000000\n",
       "75%         194.000000\n",
       "max        1937.000000\n",
       "Name: sequence_len, dtype: float64"
      ]
     },
     "execution_count": 28,
     "metadata": {},
     "output_type": "execute_result"
    }
   ],
   "source": [
    "test_df.sequence_len.describe()"
   ]
  },
  {
   "cell_type": "code",
   "execution_count": 29,
   "metadata": {
    "colab": {
     "base_uri": "https://localhost:8080/"
    },
    "id": "rxkjG5r_HAjN",
    "outputId": "21297d0d-0446-448f-d678-98907228bb00"
   },
   "outputs": [
    {
     "data": {
      "text/plain": [
       "count    1.086741e+06\n",
       "mean     1.553800e+02\n",
       "std      1.201232e+02\n",
       "min      4.000000e+00\n",
       "25%      7.600000e+01\n",
       "50%      1.190000e+02\n",
       "75%      1.950000e+02\n",
       "max      2.037000e+03\n",
       "Name: sequence_len, dtype: float64"
      ]
     },
     "execution_count": 29,
     "metadata": {},
     "output_type": "execute_result"
    }
   ],
   "source": [
    "train_df.sequence_len.describe()"
   ]
  },
  {
   "cell_type": "markdown",
   "metadata": {
    "id": "yCro3fyMBocw"
   },
   "source": [
    "**Observations**: \n",
    "- Most of the input sequences have length in range \\[15-300\\] amino-acids per sequence.\n"
   ]
  },
  {
   "cell_type": "markdown",
   "metadata": {
    "id": "utfk1m-ndOZJ"
   },
   "source": [
    "Zoom into the rare sequence lengths starting by sequences longer than 500 residues (amino acids)."
   ]
  },
  {
   "cell_type": "code",
   "execution_count": 30,
   "metadata": {
    "colab": {
     "base_uri": "https://localhost:8080/",
     "height": 573
    },
    "id": "k7FvuQUqdNf8",
    "outputId": "1afff153-3fef-431e-efc8-9fa082d0c0a9"
   },
   "outputs": [
    {
     "data": {
      "image/png": "[encoded data removed]",
      "text/plain": [
       "<Figure size 1200x600 with 1 Axes>"
      ]
     },
     "metadata": {},
     "output_type": "display_data"
    }
   ],
   "source": [
    "plt.figure(figsize=(12, 6))\n",
    "\n",
    "plt.hist(\n",
    "    [data_df[data_df.sequence_len >= 500].sequence_len for data_df in partition_frames], \n",
    "    stacked=True, \n",
    "    bins=50\n",
    ")\n",
    "\n",
    "plt.legend([\n",
    "    f'{name} set' for name in ('Training', 'Validation', 'Test')\n",
    "])\n",
    "\n",
    "plt.title('Sequences with length over 500 amino acids')\n",
    "plt.xlabel('Sequence length')\n",
    "plt.show()"
   ]
  },
  {
   "cell_type": "markdown",
   "metadata": {
    "id": "MON5RTYJeS5t"
   },
   "source": [
    "**Observations**:\n",
    "\n",
    "- Long sequences of 800+ amino-acids are way under-represented in the Pfam dataset. "
   ]
  },
  {
   "cell_type": "markdown",
   "metadata": {
    "id": "RzsaavxzegAZ"
   },
   "source": [
    "#### Check the sequences shorter than 50 residues in length."
   ]
  },
  {
   "cell_type": "code",
   "execution_count": 31,
   "metadata": {
    "colab": {
     "base_uri": "https://localhost:8080/",
     "height": 573
    },
    "id": "48oXwssPeiLV",
    "outputId": "85b5be30-d7f0-4dbc-dde4-987c310207ef"
   },
   "outputs": [
    {
     "data": {
      "image/png": "[encoded data removed]",
      "text/plain": [
       "<Figure size 1200x600 with 1 Axes>"
      ]
     },
     "metadata": {},
     "output_type": "display_data"
    }
   ],
   "source": [
    "plt.figure(figsize=(12, 6))\n",
    "\n",
    "plt.hist(\n",
    "    [data_df[data_df.sequence_len <= 50].sequence_len for data_df in partition_frames], \n",
    "    stacked=True, \n",
    "    bins=50\n",
    ")\n",
    "\n",
    "plt.legend([\n",
    "    f'{name} set' for name in ('Training', 'Validation', 'Test')\n",
    "])\n",
    "\n",
    "plt.title('Sequences with length less 50 amino acids')\n",
    "plt.xlabel('Sequence length')\n",
    "plt.show()"
   ]
  },
  {
   "cell_type": "markdown",
   "metadata": {
    "id": "36VPH_28e8Fn"
   },
   "source": [
    "**Observations**:\n",
    "- Short sequences of less than 15 amino-acids are also under-represented in this dataset."
   ]
  },
  {
   "cell_type": "code",
   "execution_count": null,
   "metadata": {
    "colab": {
     "base_uri": "https://localhost:8080/",
     "height": 476
    },
    "id": "Bzqq0HBgsmPH",
    "outputId": "3056604e-8d00-4070-db48-e579665e59e5"
   },
   "outputs": [
    {
     "data": {
      "text/plain": [
       "<Axes: xlabel='sequence_len'>"
      ]
     },
     "execution_count": 35,
     "metadata": {},
     "output_type": "execute_result"
    },
    {
     "data": {
      "image/png": "[encoded data removed]",
      "text/plain": [
       "<Figure size 640x480 with 1 Axes>"
      ]
     },
     "metadata": {},
     "output_type": "display_data"
    }
   ],
   "source": [
    "sns.boxplot(x=dev_df['sequence_len'])"
   ]
  },
  {
   "cell_type": "code",
   "execution_count": null,
   "metadata": {
    "colab": {
     "base_uri": "https://localhost:8080/",
     "height": 476
    },
    "id": "RCuKClHIB9Lk",
    "outputId": "10c37eea-feb6-4342-ca15-6dac34977f2e"
   },
   "outputs": [
    {
     "data": {
      "text/plain": [
       "<Axes: xlabel='sequence_len'>"
      ]
     },
     "execution_count": 36,
     "metadata": {},
     "output_type": "execute_result"
    },
    {
     "data": {
      "image/png": "[encoded data removed]",
      "text/plain": [
       "<Figure size 640x480 with 1 Axes>"
      ]
     },
     "metadata": {},
     "output_type": "display_data"
    }
   ],
   "source": [
    "sns.boxplot(x=test_df['sequence_len'])"
   ]
  },
  {
   "cell_type": "code",
   "execution_count": null,
   "metadata": {
    "colab": {
     "base_uri": "https://localhost:8080/",
     "height": 476
    },
    "id": "fOxgnL5DB-YC",
    "outputId": "0a44637d-616f-4af3-cc8a-5e457e7fad92"
   },
   "outputs": [
    {
     "data": {
      "text/plain": [
       "<Axes: xlabel='sequence_len'>"
      ]
     },
     "execution_count": 37,
     "metadata": {},
     "output_type": "execute_result"
    },
    {
     "data": {
      "image/png": "[encoded data removed]",
      "text/plain": [
       "<Figure size 640x480 with 1 Axes>"
      ]
     },
     "metadata": {},
     "output_type": "display_data"
    }
   ],
   "source": [
    "sns.boxplot(x=train_df['sequence_len'])"
   ]
  },
  {
   "cell_type": "code",
   "execution_count": null,
   "metadata": {
    "id": "CsNbHoIuCDBH"
   },
   "outputs": [],
   "source": [
    "dev_outliers = detect_outliers_zscore(dev_df, 'sequence_len')\n",
    "test_outliers = detect_outliers_zscore(test_df, 'sequence_len')\n",
    "train_outliers = detect_outliers_zscore(train_df, 'sequence_len')"
   ]
  },
  {
   "cell_type": "code",
   "execution_count": null,
   "metadata": {
    "colab": {
     "base_uri": "https://localhost:8080/"
    },
    "id": "j4y-id_iCPrU",
    "outputId": "d55aea69-b174-4564-bd41-56948fc8437a"
   },
   "outputs": [
    {
     "name": "stdout",
     "output_type": "stream",
     "text": [
      "Num. significantly longer sequences in Dev: 1.8403595120907341 %\n",
      "Num. significantly longer sequences in Test: 1.8673070673926655 %\n",
      "Num. significantly longer sequences in Train: 1.8375123419471613 %\n"
     ]
    }
   ],
   "source": [
    "print(f'Num. significantly longer sequences in Dev: {(len(dev_outliers) / len(dev_df)) * 100} %')\n",
    "print(f'Num. significantly longer sequences in Test: {(len(test_outliers) / len(test_df)) * 100} %')\n",
    "print(f'Num. significantly longer sequences in Train: {(len(train_outliers) / len(train_df)) * 100} %')"
   ]
  },
  {
   "cell_type": "markdown",
   "metadata": {
    "id": "F_jUtsH_CqlH"
   },
   "source": [
    "**Observations**: \n",
    "- Around 2% of all sequences are singificantly longer."
   ]
  },
  {
   "cell_type": "markdown",
   "metadata": {
    "id": "_ldKJuAsLOdN"
   },
   "source": [
    "### Amino Acids - components of input sequence"
   ]
  },
  {
   "cell_type": "code",
   "execution_count": 32,
   "metadata": {
    "colab": {
     "base_uri": "https://localhost:8080/"
    },
    "id": "qWQssawrCp50",
    "outputId": "20456ee0-d08e-4533-80a4-5c7cef52cec0"
   },
   "outputs": [
    {
     "name": "stdout",
     "output_type": "stream",
     "text": [
      "\t##### Dev\n",
      "Total unique Amino Acids: 22\n",
      "\t##### Test\n",
      "Total unique Amino Acids: 24\n",
      "\t##### Train\n",
      "Total unique Amino Acids: 25\n"
     ]
    }
   ],
   "source": [
    "# Get the frequency of each amino acid in the sequences of a given DataFrame\n",
    "dev_amino_acid_freq = get_amino_acid_freq(dev_df, 'Dev')\n",
    "test_amino_acid_freq = get_amino_acid_freq(test_df, 'Test')\n",
    "train_amino_acid_freq = get_amino_acid_freq(train_df, 'Train')"
   ]
  },
  {
   "cell_type": "code",
   "execution_count": 33,
   "metadata": {
    "colab": {
     "base_uri": "https://localhost:8080/"
    },
    "id": "qX0Da4MuCBb1",
    "outputId": "3f2152cd-df62-4ac0-efc4-95154c226808"
   },
   "outputs": [
    {
     "name": "stdout",
     "output_type": "stream",
     "text": [
      "Are all test amino acids covered in train:  True\n",
      "Are all dev amino acids covered in train:  True\n",
      "Are all dev amino acids covered in test:  True\n"
     ]
    }
   ],
   "source": [
    "# Are amino acids same across sets?\n",
    "print('Are all test amino acids covered in train: ',\n",
    "        set(train_amino_acid_freq['amino_acid'].values).issuperset(set(test_amino_acid_freq['amino_acid'].values)))\n",
    "print('Are all dev amino acids covered in train: ',\n",
    "        set(train_amino_acid_freq['amino_acid'].values).issuperset(set(dev_amino_acid_freq['amino_acid'].values)))\n",
    "print('Are all dev amino acids covered in test: ',\n",
    "        set(test_amino_acid_freq['amino_acid'].values).issuperset(set(dev_amino_acid_freq['amino_acid'].values)))"
   ]
  },
  {
   "cell_type": "code",
   "execution_count": 34,
   "metadata": {
    "colab": {
     "base_uri": "https://localhost:8080/"
    },
    "id": "nk17hzrJDuQb",
    "outputId": "3af18b99-274d-4b34-e35f-c20c92311136"
   },
   "outputs": [
    {
     "data": {
      "text/plain": [
       "array(['L', 'A', 'V', 'G', 'E', 'S', 'I', 'R', 'D', 'K', 'T', 'P', 'F',\n",
       "       'N', 'Q', 'Y', 'M', 'H', 'C', 'W', 'X', 'U', 'B', 'O', 'Z'],\n",
       "      dtype=object)"
      ]
     },
     "execution_count": 34,
     "metadata": {},
     "output_type": "execute_result"
    }
   ],
   "source": [
    "train_amino_acid_freq['amino_acid'].values"
   ]
  },
  {
   "cell_type": "code",
   "execution_count": 35,
   "metadata": {
    "colab": {
     "base_uri": "https://localhost:8080/",
     "height": 343
    },
    "id": "UuXM91A1C-wX",
    "outputId": "9acc2b18-2f13-4ee7-a1f1-250ce671580f"
   },
   "outputs": [
    {
     "data": {
      "image/png": "[encoded data removed]",
      "text/plain": [
       "<Figure size 640x480 with 3 Axes>"
      ]
     },
     "metadata": {},
     "output_type": "display_data"
    }
   ],
   "source": [
    "# Plot the frequency of amino acid codes in a given dataset.\n",
    "\n",
    "plt.subplot(1, 3, 1)\n",
    "plot_code_freq(train_amino_acid_freq, 'Train')\n",
    "\n",
    "plt.subplot(1, 3, 2)\n",
    "plot_code_freq(dev_amino_acid_freq, 'Dev')\n",
    "\n",
    "plt.subplot(1, 3, 3)\n",
    "plot_code_freq(test_amino_acid_freq, 'Test')\n",
    "\n",
    "plt.subplots_adjust(right=3.0)\n",
    "plt.savefig('amino_acid_codes_dist.png', dpi=300, bbox_inches='tight')\n",
    "plt.show()"
   ]
  },
  {
   "cell_type": "code",
   "execution_count": 36,
   "metadata": {
    "id": "xUOcdASoI3KB"
   },
   "outputs": [],
   "source": [
    "# How many sequences have rare amino acids like 'X', 'U', 'B', 'O', 'Z'\n",
    "\n",
    "# Extract the sequences from the DataFrame\n",
    "total_sequences = total_data_df['sequence']\n",
    "\n",
    "# Count the occurrence of amino acids\n",
    "amino_acids_counter = Counter()\n",
    "for seq in total_sequences:\n",
    "    amino_acids_counter.update(seq)"
   ]
  },
  {
   "cell_type": "code",
   "execution_count": 37,
   "metadata": {
    "colab": {
     "base_uri": "https://localhost:8080/"
    },
    "id": "ElU8cJb_Jqq1",
    "outputId": "59a86b1e-930f-4253-f1bc-0699c44fecda"
   },
   "outputs": [
    {
     "name": "stdout",
     "output_type": "stream",
     "text": [
      "X: 1849\n",
      "U: 143\n",
      "B: 35\n",
      "O: 18\n",
      "Z: 12\n"
     ]
    }
   ],
   "source": [
    "for rare_amino_acid in ['X', 'U', 'B', 'O', 'Z']:\n",
    "    print(f'{rare_amino_acid}: {amino_acids_counter[rare_amino_acid]}')"
   ]
  },
  {
   "cell_type": "code",
   "execution_count": 38,
   "metadata": {
    "id": "PLr9ErCqJtfo"
   },
   "outputs": [],
   "source": [
    "# Number of sequences containing the rare amino acids\n",
    "count_seq_rare_amino_acids = {}\n",
    "\n",
    "for seq in total_sequences:\n",
    "    for rare_amino_acid in ['X', 'U', 'B', 'O', 'Z']:\n",
    "        if rare_amino_acid in seq:\n",
    "            count_seq_rare_amino_acids[rare_amino_acid] = 1 + count_seq_rare_amino_acids.get(rare_amino_acid, 0)"
   ]
  },
  {
   "cell_type": "code",
   "execution_count": 39,
   "metadata": {
    "colab": {
     "base_uri": "https://localhost:8080/"
    },
    "id": "l9n9LlIWKr00",
    "outputId": "3e75e5e1-cead-45ca-cce2-bf4d22a7557c"
   },
   "outputs": [
    {
     "data": {
      "text/plain": [
       "{'X': 842, 'U': 111, 'B': 21, 'Z': 4, 'O': 18}"
      ]
     },
     "execution_count": 39,
     "metadata": {},
     "output_type": "execute_result"
    }
   ],
   "source": [
    "count_seq_rare_amino_acids"
   ]
  },
  {
   "cell_type": "markdown",
   "metadata": {
    "id": "eDLrFU_1I3l_"
   },
   "source": [
    "### Class Imbalance\n",
    "\n",
    "\n",
    "\n",
    "The number of samples per family in the training set ranges from 1 (i.e. a class with one training example) to 3637. This is a hint towards of the class imbalance that might (or might not) impact the classification model."
   ]
  },
  {
   "cell_type": "code",
   "execution_count": null,
   "metadata": {
    "colab": {
     "base_uri": "https://localhost:8080/",
     "height": 143
    },
    "id": "jh3OCnaiR_E8",
    "outputId": "2616d5ca-d032-4b60-8e32-4967f280aaf0"
   },
   "outputs": [
    {
     "data": {
      "text/html": [
       "\n",
       "  <div id=\"df-c572d2d3-7b3b-4470-88e7-b4a4626c3857\">\n",
       "    <div class=\"colab-df-container\">\n",
       "      <div>\n",
       "<style scoped>\n",
       "    .dataframe tbody tr th:only-of-type {\n",
       "        vertical-align: middle;\n",
       "    }\n",
       "\n",
       "    .dataframe tbody tr th {\n",
       "        vertical-align: top;\n",
       "    }\n",
       "\n",
       "    .dataframe thead th {\n",
       "        text-align: right;\n",
       "    }\n",
       "</style>\n",
       "<table border=\"1\" class=\"dataframe\">\n",
       "  <thead>\n",
       "    <tr style=\"text-align: right;\">\n",
       "      <th></th>\n",
       "      <th>partition</th>\n",
       "      <th>num_of_samples</th>\n",
       "      <th>num_of_true_class</th>\n",
       "      <th>max_samples_per_class</th>\n",
       "      <th>min_samples_per_class</th>\n",
       "      <th>min_seq_length</th>\n",
       "      <th>max_seq_length</th>\n",
       "      <th>avg_seq_length</th>\n",
       "    </tr>\n",
       "  </thead>\n",
       "  <tbody>\n",
       "    <tr>\n",
       "      <th>0</th>\n",
       "      <td>train</td>\n",
       "      <td>1086741</td>\n",
       "      <td>17929</td>\n",
       "      <td>3637</td>\n",
       "      <td>1</td>\n",
       "      <td>4</td>\n",
       "      <td>2037</td>\n",
       "      <td>155.379971</td>\n",
       "    </tr>\n",
       "    <tr>\n",
       "      <th>1</th>\n",
       "      <td>dev</td>\n",
       "      <td>126171</td>\n",
       "      <td>13071</td>\n",
       "      <td>454</td>\n",
       "      <td>1</td>\n",
       "      <td>9</td>\n",
       "      <td>1971</td>\n",
       "      <td>154.222206</td>\n",
       "    </tr>\n",
       "    <tr>\n",
       "      <th>2</th>\n",
       "      <td>test</td>\n",
       "      <td>126171</td>\n",
       "      <td>13071</td>\n",
       "      <td>454</td>\n",
       "      <td>1</td>\n",
       "      <td>9</td>\n",
       "      <td>1937</td>\n",
       "      <td>154.166845</td>\n",
       "    </tr>\n",
       "  </tbody>\n",
       "</table>\n",
       "</div>\n",
       "      <button class=\"colab-df-convert\" onclick=\"convertToInteractive('df-c572d2d3-7b3b-4470-88e7-b4a4626c3857')\"\n",
       "              title=\"Convert this dataframe to an interactive table.\"\n",
       "              style=\"display:none;\">\n",
       "        \n",
       "  <svg xmlns=\"http://www.w3.org/2000/svg\" height=\"24px\"viewBox=\"0 0 24 24\"\n",
       "       width=\"24px\">\n",
       "    <path d=\"M0 0h24v24H0V0z\" fill=\"none\"/>\n",
       "    <path d=\"M18.56 5.44l.94 2.06.94-2.06 2.06-.94-2.06-.94-.94-2.06-.94 2.06-2.06.94zm-11 1L8.5 8.5l.94-2.06 2.06-.94-2.06-.94L8.5 2.5l-.94 2.06-2.06.94zm10 10l.94 2.06.94-2.06 2.06-.94-2.06-.94-.94-2.06-.94 2.06-2.06.94z\"/><path d=\"M17.41 7.96l-1.37-1.37c-.4-.4-.92-.59-1.43-.59-.52 0-1.04.2-1.43.59L10.3 9.45l-7.72 7.72c-.78.78-.78 2.05 0 2.83L4 21.41c.39.39.9.59 1.41.59.51 0 1.02-.2 1.41-.59l7.78-7.78 2.81-2.81c.8-.78.8-2.07 0-2.86zM5.41 20L4 18.59l7.72-7.72 1.47 1.35L5.41 20z\"/>\n",
       "  </svg>\n",
       "      </button>\n",
       "      \n",
       "  <style>\n",
       "    .colab-df-container {\n",
       "      display:flex;\n",
       "      flex-wrap:wrap;\n",
       "      gap: 12px;\n",
       "    }\n",
       "\n",
       "    .colab-df-convert {\n",
       "      background-color: #E8F0FE;\n",
       "      border: none;\n",
       "      border-radius: 50%;\n",
       "      cursor: pointer;\n",
       "      display: none;\n",
       "      fill: #1967D2;\n",
       "      height: 32px;\n",
       "      padding: 0 0 0 0;\n",
       "      width: 32px;\n",
       "    }\n",
       "\n",
       "    .colab-df-convert:hover {\n",
       "      background-color: #E2EBFA;\n",
       "      box-shadow: 0px 1px 2px rgba(60, 64, 67, 0.3), 0px 1px 3px 1px rgba(60, 64, 67, 0.15);\n",
       "      fill: #174EA6;\n",
       "    }\n",
       "\n",
       "    [theme=dark] .colab-df-convert {\n",
       "      background-color: #3B4455;\n",
       "      fill: #D2E3FC;\n",
       "    }\n",
       "\n",
       "    [theme=dark] .colab-df-convert:hover {\n",
       "      background-color: #434B5C;\n",
       "      box-shadow: 0px 1px 3px 1px rgba(0, 0, 0, 0.15);\n",
       "      filter: drop-shadow(0px 1px 2px rgba(0, 0, 0, 0.3));\n",
       "      fill: #FFFFFF;\n",
       "    }\n",
       "  </style>\n",
       "\n",
       "      <script>\n",
       "        const buttonEl =\n",
       "          document.querySelector('#df-c572d2d3-7b3b-4470-88e7-b4a4626c3857 button.colab-df-convert');\n",
       "        buttonEl.style.display =\n",
       "          google.colab.kernel.accessAllowed ? 'block' : 'none';\n",
       "\n",
       "        async function convertToInteractive(key) {\n",
       "          const element = document.querySelector('#df-c572d2d3-7b3b-4470-88e7-b4a4626c3857');\n",
       "          const dataTable =\n",
       "            await google.colab.kernel.invokeFunction('convertToInteractive',\n",
       "                                                     [key], {});\n",
       "          if (!dataTable) return;\n",
       "\n",
       "          const docLinkHtml = 'Like what you see? Visit the ' +\n",
       "            '<a target=\"_blank\" href=https://colab.research.google.com/notebooks/data_table.ipynb>data table notebook</a>'\n",
       "            + ' to learn more about interactive tables.';\n",
       "          element.innerHTML = '';\n",
       "          dataTable['output_type'] = 'display_data';\n",
       "          await google.colab.output.renderOutput(dataTable, element);\n",
       "          const docLink = document.createElement('div');\n",
       "          docLink.innerHTML = docLinkHtml;\n",
       "          element.appendChild(docLink);\n",
       "        }\n",
       "      </script>\n",
       "    </div>\n",
       "  </div>\n",
       "  "
      ],
      "text/plain": [
       "  partition  num_of_samples  num_of_true_class  max_samples_per_class  \\\n",
       "0     train         1086741              17929                   3637   \n",
       "1       dev          126171              13071                    454   \n",
       "2      test          126171              13071                    454   \n",
       "\n",
       "   min_samples_per_class  min_seq_length  max_seq_length  avg_seq_length  \n",
       "0                      1               4            2037      155.379971  \n",
       "1                      1               9            1971      154.222206  \n",
       "2                      1               9            1937      154.166845  "
      ]
     },
     "execution_count": 32,
     "metadata": {},
     "output_type": "execute_result"
    }
   ],
   "source": [
    "get_partitions_info(partition_frames, partition_names)"
   ]
  },
  {
   "cell_type": "markdown",
   "metadata": {
    "id": "zy9HgvioEUNC"
   },
   "source": [
    "Find out protein families with most sequences (No. of observations)\n"
   ]
  },
  {
   "cell_type": "code",
   "execution_count": null,
   "metadata": {
    "colab": {
     "base_uri": "https://localhost:8080/"
    },
    "id": "oieCACm0svMu",
    "outputId": "71e6caac-6a6c-4236-e133-357c510c1fab"
   },
   "outputs": [
    {
     "data": {
      "text/plain": [
       "family_id\n",
       "Methyltransf_25    3637\n",
       "LRR_1              1927\n",
       "Acetyltransf_7     1761\n",
       "His_kinase         1537\n",
       "Bac_transf         1528\n",
       "Lum_binding        1504\n",
       "DNA_binding_1      1345\n",
       "Chromate_transp    1265\n",
       "Lipase_GDSL_2      1252\n",
       "DnaJ_CXXCXGXG      1210\n",
       "SRP54_N            1185\n",
       "WD40               1173\n",
       "OTCace_N           1171\n",
       "PEP-utilizers      1147\n",
       "Glycos_trans_3N    1138\n",
       "THF_DHG_CYH        1113\n",
       "Prenyltransf       1104\n",
       "HTH_1              1064\n",
       "Maf                1061\n",
       "DHH                1057\n",
       "dtype: int64"
      ]
     },
     "execution_count": 50,
     "metadata": {},
     "output_type": "execute_result"
    }
   ],
   "source": [
    "train_df.groupby('family_id').size().sort_values(ascending=False).head(20)"
   ]
  },
  {
   "cell_type": "code",
   "execution_count": null,
   "metadata": {
    "colab": {
     "base_uri": "https://localhost:8080/"
    },
    "id": "MGB-BkmKsvH7",
    "outputId": "7b0ef4c8-ef72-479d-8977-108742f7a2c8"
   },
   "outputs": [
    {
     "data": {
      "text/plain": [
       "family_id\n",
       "Methyltransf_25    454\n",
       "LRR_1              240\n",
       "Acetyltransf_7     219\n",
       "His_kinase         192\n",
       "Bac_transf         190\n",
       "Lum_binding        187\n",
       "DNA_binding_1      168\n",
       "Chromate_transp    157\n",
       "Lipase_GDSL_2      156\n",
       "DnaJ_CXXCXGXG      151\n",
       "SRP54_N            148\n",
       "OTCace_N           146\n",
       "WD40               146\n",
       "PEP-utilizers      143\n",
       "Glycos_trans_3N    142\n",
       "THF_DHG_CYH        138\n",
       "Prenyltransf       138\n",
       "HTH_1              133\n",
       "Maf                132\n",
       "DHH                131\n",
       "dtype: int64"
      ]
     },
     "execution_count": 51,
     "metadata": {},
     "output_type": "execute_result"
    }
   ],
   "source": [
    "dev_df.groupby('family_id').size().sort_values(ascending=False).head(20)"
   ]
  },
  {
   "cell_type": "code",
   "execution_count": null,
   "metadata": {
    "colab": {
     "base_uri": "https://localhost:8080/"
    },
    "id": "buL-EGs4svBy",
    "outputId": "7316f68f-57a7-46a6-a1f6-bc29d18a046c"
   },
   "outputs": [
    {
     "data": {
      "text/plain": [
       "family_id\n",
       "Methyltransf_25    454\n",
       "LRR_1              240\n",
       "Acetyltransf_7     219\n",
       "His_kinase         192\n",
       "Bac_transf         190\n",
       "Lum_binding        187\n",
       "DNA_binding_1      168\n",
       "Chromate_transp    157\n",
       "Lipase_GDSL_2      156\n",
       "DnaJ_CXXCXGXG      151\n",
       "SRP54_N            148\n",
       "OTCace_N           146\n",
       "WD40               146\n",
       "PEP-utilizers      143\n",
       "Glycos_trans_3N    142\n",
       "THF_DHG_CYH        138\n",
       "Prenyltransf       138\n",
       "HTH_1              133\n",
       "Maf                132\n",
       "DHH                131\n",
       "dtype: int64"
      ]
     },
     "execution_count": 52,
     "metadata": {},
     "output_type": "execute_result"
    }
   ],
   "source": [
    "test_df.groupby('family_id').size().sort_values(ascending=False).head(20)"
   ]
  },
  {
   "cell_type": "code",
   "execution_count": null,
   "metadata": {
    "colab": {
     "base_uri": "https://localhost:8080/",
     "height": 862
    },
    "id": "-muFCUnuEM6w",
    "outputId": "9cbded88-ed27-4434-d9b3-8a0d2a7dfd62"
   },
   "outputs": [
    {
     "name": "stdout",
     "output_type": "stream",
     "text": [
      "Following are the plots of the most frequent family_ids and their counts\n"
     ]
    },
    {
     "data": {
      "image/png": "[encoded data removed]",
      "text/plain": [
       "<Figure size 1500x800 with 3 Axes>"
      ]
     },
     "metadata": {},
     "output_type": "display_data"
    }
   ],
   "source": [
    "print('Following are the plots of the most frequent family_ids and their counts')\n",
    "plt.figure(figsize=(15,8))\n",
    "\n",
    "plt.subplot(1,3,1)\n",
    "plt.title('Train')\n",
    "train_df.groupby('family_id').size().sort_values(ascending=False).head(20).plot(kind='bar')\n",
    "\n",
    "plt.subplot(1,3,2)\n",
    "plt.title('Dev')\n",
    "dev_df.groupby('family_id').size().sort_values(ascending=False).head(20).plot(kind='bar',color='y')\n",
    "\n",
    "plt.subplot(1,3,3)\n",
    "plt.title('Test')\n",
    "test_df.groupby('family_id').size().sort_values(ascending=False).head(20).plot(kind='bar',color='red')\n",
    "\n",
    "plt.savefig('family_ids_TOP_popular.png', dpi=300, bbox_inches='tight')\n",
    "plt.show()"
   ]
  },
  {
   "cell_type": "markdown",
   "metadata": {
    "id": "natAkRTYtdQw"
   },
   "source": [
    "**Observations**: Top 20 classes are same across all the sets train, test, dev. Test and Dev sets have almost same frequency for the top 20 classes."
   ]
  },
  {
   "cell_type": "markdown",
   "metadata": {
    "id": "wp7n3OYzS0uD"
   },
   "source": [
    "\n",
    "Visualize the number of training samples per family from the most-represented to the least represented family. The y-axis denoting the number of samples is expressed in a logarithmic scale.  \n",
    "\n",
    "The logarithmic scale is useful for plotting data that includes very small numbers and very large numbers because the scale plots the data so you can see all the numbers easily, without the small numbers squeezed too closely."
   ]
  },
  {
   "cell_type": "code",
   "execution_count": null,
   "metadata": {
    "colab": {
     "base_uri": "https://localhost:8080/",
     "height": 340
    },
    "id": "06TgrwpS5SYb",
    "outputId": "ecb5fdef-4617-455e-e54c-cf487282dcba"
   },
   "outputs": [
    {
     "data": {
      "image/png": "[encoded data removed]",
      "text/plain": [
       "<Figure size 640x480 with 3 Axes>"
      ]
     },
     "metadata": {},
     "output_type": "display_data"
    }
   ],
   "source": [
    "plt.subplot(1, 3, 1)\n",
    "plot_class_distribution_hist(train_df, split_name='Train', column_name='true_label')\n",
    "\n",
    "plt.subplot(1, 3, 2)\n",
    "plot_class_distribution_hist(dev_df, split_name='Dev', column_name='true_label')\n",
    "\n",
    "plt.subplot(1, 3, 3)\n",
    "plot_class_distribution_hist(test_df, split_name='Test', column_name='true_label')\n",
    "\n",
    "plt.subplots_adjust(right=3.0)\n",
    "plt.show()"
   ]
  },
  {
   "cell_type": "code",
   "execution_count": null,
   "metadata": {
    "colab": {
     "base_uri": "https://localhost:8080/",
     "height": 458
    },
    "id": "MvKsaW-WC22I",
    "outputId": "37aecbe8-7adf-469c-9b03-b7e28552fbb9"
   },
   "outputs": [
    {
     "data": {
      "image/png": "[encoded data removed]",
      "text/plain": [
       "<Figure size 640x480 with 1 Axes>"
      ]
     },
     "metadata": {},
     "output_type": "display_data"
    }
   ],
   "source": [
    "true_label_counts = train_df.groupby('true_label').size()\n",
    "\n",
    "# Skip N labels that are the most frequent\n",
    "N = 20\n",
    "true_label_counts_sorted = true_label_counts.sort_values(ascending=False)[N:]\n",
    "\n",
    "plt.yscale('log')\n",
    "sns.histplot(true_label_counts_sorted, stat='frequency', bins=50)\n",
    "plt.xlabel('True label occurence')\n",
    "plt.grid(True)"
   ]
  },
  {
   "cell_type": "code",
   "execution_count": null,
   "metadata": {
    "colab": {
     "base_uri": "https://localhost:8080/",
     "height": 458
    },
    "id": "Ddx-4fjbpzg9",
    "outputId": "434388d2-499f-4b0c-f8fc-84506273cbbc"
   },
   "outputs": [
    {
     "data": {
      "image/png": "[encoded data removed]",
      "text/plain": [
       "<Figure size 640x480 with 1 Axes>"
      ]
     },
     "metadata": {},
     "output_type": "display_data"
    }
   ],
   "source": [
    "plot_class_distribution_line(train_df, 'true_label')"
   ]
  },
  {
   "cell_type": "markdown",
   "metadata": {
    "id": "yirDC_wACOBu"
   },
   "source": [
    "**Observations**: \n",
    "- Most of the true_label (target variable) appear < 100 times, meaning there is a 'long-tail' of target labels.  \n",
    "\n",
    "- There are some classes which appear even more than 500 times.  \n",
    "\n",
    "- There is a class imbalance in a way that some labels dominant in occurrences. Potentially those occuring the most could be downsampled."
   ]
  },
  {
   "cell_type": "code",
   "execution_count": null,
   "metadata": {
    "colab": {
     "base_uri": "https://localhost:8080/"
    },
    "id": "eLH3jSWUCquE",
    "outputId": "b99cd4f6-b626-4435-a67e-cbff98a179f4"
   },
   "outputs": [
    {
     "data": {
      "text/plain": [
       "Methyltransf_25    3637\n",
       "LRR_1              1927\n",
       "Acetyltransf_7     1761\n",
       "His_kinase         1537\n",
       "Bac_transf         1528\n",
       "                   ... \n",
       "Ery_res_leader1       1\n",
       "UL20                  1\n",
       "Thx                   1\n",
       "Reo_P9                1\n",
       "SARS_3b               1\n",
       "Name: family_id, Length: 17929, dtype: int64"
      ]
     },
     "execution_count": 58,
     "metadata": {},
     "output_type": "execute_result"
    }
   ],
   "source": [
    "train_df['family_id'].value_counts()"
   ]
  },
  {
   "cell_type": "code",
   "execution_count": null,
   "metadata": {
    "colab": {
     "base_uri": "https://localhost:8080/"
    },
    "id": "5ZaE_epiCqk2",
    "outputId": "941655a4-8b5d-4f95-bcb0-9584c9e9b75f"
   },
   "outputs": [
    {
     "name": "stdout",
     "output_type": "stream",
     "text": [
      "Methyltransf_25    3.346704e-03\n",
      "LRR_1              1.773192e-03\n",
      "Acetyltransf_7     1.620441e-03\n",
      "His_kinase         1.414320e-03\n",
      "Bac_transf         1.406039e-03\n",
      "                       ...     \n",
      "Ery_res_leader1    9.201825e-07\n",
      "UL20               9.201825e-07\n",
      "Thx                9.201825e-07\n",
      "Reo_P9             9.201825e-07\n",
      "SARS_3b            9.201825e-07\n",
      "Name: family_id, Length: 17929, dtype: float64\n"
     ]
    }
   ],
   "source": [
    "# Check for class imbalance\n",
    "print(train_df['family_id'].value_counts(normalize=True))"
   ]
  },
  {
   "cell_type": "markdown",
   "metadata": {
    "id": "qT8ae-C5alu2"
   },
   "source": [
    "Visualize the size of each family in terms of a percentage relative to the full size of the training set."
   ]
  },
  {
   "cell_type": "code",
   "execution_count": null,
   "metadata": {
    "colab": {
     "base_uri": "https://localhost:8080/",
     "height": 513
    },
    "id": "D7K2ikXXakzw",
    "outputId": "73236fb5-810a-48e9-d9a8-b8683d47616b"
   },
   "outputs": [
    {
     "data": {
      "text/plain": [
       "([<matplotlib.axis.XTick at 0x7f9a67d43eb0>,\n",
       "  <matplotlib.axis.XTick at 0x7f9a67d43e20>],\n",
       " [Text(0, 0, 'PF13649'), Text(17929, 0, 'PF04159')])"
      ]
     },
     "execution_count": 61,
     "metadata": {},
     "output_type": "execute_result"
    },
    {
     "data": {
      "image/png": "[encoded data removed]",
      "text/plain": [
       "<Figure size 640x480 with 1 Axes>"
      ]
     },
     "metadata": {},
     "output_type": "display_data"
    }
   ],
   "source": [
    "train_classes = train_df.groupby('true_label').size().sort_values(ascending=False)\n",
    "train_classes_occurs = train_classes.values\n",
    "\n",
    "train_classes_occurs = 100 * train_classes_occurs / train_classes_occurs.sum()\n",
    "\n",
    "plt.plot(train_classes_occurs)\n",
    "plt.yscale('log')\n",
    "\n",
    "ticks = list(10.**(-np.arange(1,5))) + [train_classes_occurs[0]]\n",
    "labels = [f'{p:.5f}%' for p in ticks]\n",
    "plt.yticks(\n",
    "    ticks=ticks,\n",
    "    labels=labels\n",
    ")\n",
    "plt.ylabel('Training set %')\n",
    "plt.xlabel('Family')\n",
    "plt.xticks(\n",
    "    ticks=[0, train_classes_occurs.size],\n",
    "    labels=[train_classes.index[0], train_classes.index[-1]]\n",
    ")"
   ]
  },
  {
   "cell_type": "code",
   "execution_count": null,
   "metadata": {
    "colab": {
     "base_uri": "https://localhost:8080/",
     "height": 458
    },
    "id": "acjouLZC6p_O",
    "outputId": "890f1c40-1f3f-4517-ec6c-fde65950d57c"
   },
   "outputs": [
    {
     "data": {
      "image/png": "[encoded data removed]",
      "text/plain": [
       "<Figure size 640x480 with 1 Axes>"
      ]
     },
     "metadata": {},
     "output_type": "display_data"
    }
   ],
   "source": [
    "plot_class_percentage_distribution_line(train_df, 'true_label')"
   ]
  },
  {
   "cell_type": "markdown",
   "metadata": {
    "id": "dcMoolCwZC_O"
   },
   "source": [
    "**Observations**: \n",
    "\n",
    "- Even most dominant classes in the training dataset, make only a tiny fraction compared to the whole dataset. \n",
    "- The most-represented family makes only ~0.34% of the training set. "
   ]
  },
  {
   "cell_type": "markdown",
   "metadata": {
    "id": "djl1m0TGTniU"
   },
   "source": [
    "\n",
    "\n",
    "---\n",
    "\n",
    "\n",
    "\n",
    "---\n",
    "\n"
   ]
  },
  {
   "cell_type": "markdown",
   "metadata": {
    "id": "niFxOe00T3UL"
   },
   "source": [
    "## Practical considerations"
   ]
  },
  {
   "cell_type": "markdown",
   "metadata": {
    "id": "rPRJIJKR7HGW"
   },
   "source": [
    "**Note**: For the classification task in this project, only a subset of the available dataset will be used to predict the protein domain due to the computation resource limitations on Google Colab. Therefore, the size of the dataset needs to be reduced. \n",
    "\n",
    "However, in real-life settings, it is crucial to utilize all the available data."
   ]
  },
  {
   "cell_type": "markdown",
   "metadata": {
    "id": "yTJlqoi6lriu"
   },
   "source": [
    "## Filtering Dataset\n",
    "\n"
   ]
  },
  {
   "cell_type": "markdown",
   "metadata": {
    "id": "Rn6nmNfRl8Ls"
   },
   "source": [
    "### Keep only the true labels that are present in all 3 partitions"
   ]
  },
  {
   "cell_type": "code",
   "execution_count": 40,
   "metadata": {
    "id": "GsDpXxhLMwLO"
   },
   "outputs": [],
   "source": [
    "train_true_labels = set(train_df.true_label.unique())\n",
    "dev_true_labels = set(dev_df.true_label.unique())    # labels in dev and test - overlap "
   ]
  },
  {
   "cell_type": "code",
   "execution_count": 41,
   "metadata": {
    "id": "Eg7eEux3l7xQ"
   },
   "outputs": [],
   "source": [
    "train_labels_extra = train_true_labels - dev_true_labels"
   ]
  },
  {
   "cell_type": "code",
   "execution_count": 42,
   "metadata": {
    "colab": {
     "base_uri": "https://localhost:8080/"
    },
    "id": "QNMH9M-Xkvi1",
    "outputId": "fb54c611-b63b-40b3-8eab-53e29ac6338b"
   },
   "outputs": [
    {
     "data": {
      "text/plain": [
       "true_label\n",
       "PF00015    9\n",
       "PF11822    9\n",
       "PF04805    9\n",
       "PF04837    9\n",
       "PF17250    9\n",
       "          ..\n",
       "PF03569    1\n",
       "PF10624    1\n",
       "PF10653    1\n",
       "PF10654    1\n",
       "PF10379    1\n",
       "Length: 4858, dtype: int64"
      ]
     },
     "execution_count": 42,
     "metadata": {},
     "output_type": "execute_result"
    }
   ],
   "source": [
    "train_df[train_df.true_label.isin(train_labels_extra)].groupby('true_label').size().sort_values(ascending=False)"
   ]
  },
  {
   "cell_type": "markdown",
   "metadata": {
    "id": "5h6TsdJZlaY4"
   },
   "source": [
    "Families exclusive to the training have at most 9 examples in this dataset. Total number of samples with classes present only in training set is 4858. Therefore, they can be ignored for the rest of this work."
   ]
  },
  {
   "cell_type": "code",
   "execution_count": 43,
   "metadata": {
    "id": "rX8m2OhTlZpQ"
   },
   "outputs": [],
   "source": [
    "train_df = train_df[~train_df.true_label.isin(train_labels_extra)]"
   ]
  },
  {
   "cell_type": "code",
   "execution_count": 44,
   "metadata": {
    "colab": {
     "base_uri": "https://localhost:8080/"
    },
    "id": "A75cWRvYkvgy",
    "outputId": "e1594887-c946-4c56-cafc-4aa5a280c419"
   },
   "outputs": [
    {
     "data": {
      "text/plain": [
       "13071"
      ]
     },
     "execution_count": 44,
     "metadata": {},
     "output_type": "execute_result"
    }
   ],
   "source": [
    "len(train_df.true_label.unique())"
   ]
  },
  {
   "cell_type": "code",
   "execution_count": 45,
   "metadata": {
    "colab": {
     "base_uri": "https://localhost:8080/"
    },
    "id": "Wqn5S54Rkvd3",
    "outputId": "663895fa-b006-4a4c-b34b-77b7683c2c95"
   },
   "outputs": [
    {
     "data": {
      "text/plain": [
       "(1064950, 8)"
      ]
     },
     "execution_count": 45,
     "metadata": {},
     "output_type": "execute_result"
    }
   ],
   "source": [
    "train_df.shape"
   ]
  },
  {
   "cell_type": "markdown",
   "metadata": {
    "id": "mrfvehjElu1N"
   },
   "source": [
    "4858 samples were removed from the training dataset, since their target label is not present in dev/test sets."
   ]
  },
  {
   "cell_type": "code",
   "execution_count": 46,
   "metadata": {
    "colab": {
     "base_uri": "https://localhost:8080/",
     "height": 143
    },
    "id": "XWuoGwfO9rvt",
    "outputId": "ca7b965e-d965-45c4-fc7f-7246e51a7944"
   },
   "outputs": [
    {
     "data": {
      "text/html": [
       "\n",
       "  <div id=\"df-dc46bf57-9422-4c7f-b7b2-f35b9d7f1e36\">\n",
       "    <div class=\"colab-df-container\">\n",
       "      <div>\n",
       "<style scoped>\n",
       "    .dataframe tbody tr th:only-of-type {\n",
       "        vertical-align: middle;\n",
       "    }\n",
       "\n",
       "    .dataframe tbody tr th {\n",
       "        vertical-align: top;\n",
       "    }\n",
       "\n",
       "    .dataframe thead th {\n",
       "        text-align: right;\n",
       "    }\n",
       "</style>\n",
       "<table border=\"1\" class=\"dataframe\">\n",
       "  <thead>\n",
       "    <tr style=\"text-align: right;\">\n",
       "      <th></th>\n",
       "      <th>partition</th>\n",
       "      <th>num_of_samples</th>\n",
       "      <th>num_of_true_class</th>\n",
       "      <th>max_samples_per_class</th>\n",
       "      <th>min_samples_per_class</th>\n",
       "      <th>min_seq_length</th>\n",
       "      <th>max_seq_length</th>\n",
       "      <th>avg_seq_length</th>\n",
       "    </tr>\n",
       "  </thead>\n",
       "  <tbody>\n",
       "    <tr>\n",
       "      <th>0</th>\n",
       "      <td>Train</td>\n",
       "      <td>1064950</td>\n",
       "      <td>13071</td>\n",
       "      <td>3637</td>\n",
       "      <td>8</td>\n",
       "      <td>4</td>\n",
       "      <td>1972</td>\n",
       "      <td>154.774326</td>\n",
       "    </tr>\n",
       "    <tr>\n",
       "      <th>1</th>\n",
       "      <td>Dev</td>\n",
       "      <td>126171</td>\n",
       "      <td>13071</td>\n",
       "      <td>454</td>\n",
       "      <td>1</td>\n",
       "      <td>9</td>\n",
       "      <td>1971</td>\n",
       "      <td>154.222206</td>\n",
       "    </tr>\n",
       "    <tr>\n",
       "      <th>2</th>\n",
       "      <td>Test</td>\n",
       "      <td>126171</td>\n",
       "      <td>13071</td>\n",
       "      <td>454</td>\n",
       "      <td>1</td>\n",
       "      <td>9</td>\n",
       "      <td>1937</td>\n",
       "      <td>154.166845</td>\n",
       "    </tr>\n",
       "  </tbody>\n",
       "</table>\n",
       "</div>\n",
       "      <button class=\"colab-df-convert\" onclick=\"convertToInteractive('df-dc46bf57-9422-4c7f-b7b2-f35b9d7f1e36')\"\n",
       "              title=\"Convert this dataframe to an interactive table.\"\n",
       "              style=\"display:none;\">\n",
       "        \n",
       "  <svg xmlns=\"http://www.w3.org/2000/svg\" height=\"24px\"viewBox=\"0 0 24 24\"\n",
       "       width=\"24px\">\n",
       "    <path d=\"M0 0h24v24H0V0z\" fill=\"none\"/>\n",
       "    <path d=\"M18.56 5.44l.94 2.06.94-2.06 2.06-.94-2.06-.94-.94-2.06-.94 2.06-2.06.94zm-11 1L8.5 8.5l.94-2.06 2.06-.94-2.06-.94L8.5 2.5l-.94 2.06-2.06.94zm10 10l.94 2.06.94-2.06 2.06-.94-2.06-.94-.94-2.06-.94 2.06-2.06.94z\"/><path d=\"M17.41 7.96l-1.37-1.37c-.4-.4-.92-.59-1.43-.59-.52 0-1.04.2-1.43.59L10.3 9.45l-7.72 7.72c-.78.78-.78 2.05 0 2.83L4 21.41c.39.39.9.59 1.41.59.51 0 1.02-.2 1.41-.59l7.78-7.78 2.81-2.81c.8-.78.8-2.07 0-2.86zM5.41 20L4 18.59l7.72-7.72 1.47 1.35L5.41 20z\"/>\n",
       "  </svg>\n",
       "      </button>\n",
       "      \n",
       "  <style>\n",
       "    .colab-df-container {\n",
       "      display:flex;\n",
       "      flex-wrap:wrap;\n",
       "      gap: 12px;\n",
       "    }\n",
       "\n",
       "    .colab-df-convert {\n",
       "      background-color: #E8F0FE;\n",
       "      border: none;\n",
       "      border-radius: 50%;\n",
       "      cursor: pointer;\n",
       "      display: none;\n",
       "      fill: #1967D2;\n",
       "      height: 32px;\n",
       "      padding: 0 0 0 0;\n",
       "      width: 32px;\n",
       "    }\n",
       "\n",
       "    .colab-df-convert:hover {\n",
       "      background-color: #E2EBFA;\n",
       "      box-shadow: 0px 1px 2px rgba(60, 64, 67, 0.3), 0px 1px 3px 1px rgba(60, 64, 67, 0.15);\n",
       "      fill: #174EA6;\n",
       "    }\n",
       "\n",
       "    [theme=dark] .colab-df-convert {\n",
       "      background-color: #3B4455;\n",
       "      fill: #D2E3FC;\n",
       "    }\n",
       "\n",
       "    [theme=dark] .colab-df-convert:hover {\n",
       "      background-color: #434B5C;\n",
       "      box-shadow: 0px 1px 3px 1px rgba(0, 0, 0, 0.15);\n",
       "      filter: drop-shadow(0px 1px 2px rgba(0, 0, 0, 0.3));\n",
       "      fill: #FFFFFF;\n",
       "    }\n",
       "  </style>\n",
       "\n",
       "      <script>\n",
       "        const buttonEl =\n",
       "          document.querySelector('#df-dc46bf57-9422-4c7f-b7b2-f35b9d7f1e36 button.colab-df-convert');\n",
       "        buttonEl.style.display =\n",
       "          google.colab.kernel.accessAllowed ? 'block' : 'none';\n",
       "\n",
       "        async function convertToInteractive(key) {\n",
       "          const element = document.querySelector('#df-dc46bf57-9422-4c7f-b7b2-f35b9d7f1e36');\n",
       "          const dataTable =\n",
       "            await google.colab.kernel.invokeFunction('convertToInteractive',\n",
       "                                                     [key], {});\n",
       "          if (!dataTable) return;\n",
       "\n",
       "          const docLinkHtml = 'Like what you see? Visit the ' +\n",
       "            '<a target=\"_blank\" href=https://colab.research.google.com/notebooks/data_table.ipynb>data table notebook</a>'\n",
       "            + ' to learn more about interactive tables.';\n",
       "          element.innerHTML = '';\n",
       "          dataTable['output_type'] = 'display_data';\n",
       "          await google.colab.output.renderOutput(dataTable, element);\n",
       "          const docLink = document.createElement('div');\n",
       "          docLink.innerHTML = docLinkHtml;\n",
       "          element.appendChild(docLink);\n",
       "        }\n",
       "      </script>\n",
       "    </div>\n",
       "  </div>\n",
       "  "
      ],
      "text/plain": [
       "  partition  num_of_samples  num_of_true_class  max_samples_per_class  \\\n",
       "0     Train         1064950              13071                   3637   \n",
       "1       Dev          126171              13071                    454   \n",
       "2      Test          126171              13071                    454   \n",
       "\n",
       "   min_samples_per_class  min_seq_length  max_seq_length  avg_seq_length  \n",
       "0                      8               4            1972      154.774326  \n",
       "1                      1               9            1971      154.222206  \n",
       "2                      1               9            1937      154.166845  "
      ]
     },
     "execution_count": 46,
     "metadata": {},
     "output_type": "execute_result"
    }
   ],
   "source": [
    "get_partitions_info([train_df, dev_df, test_df], ['Train', 'Dev', 'Test'])"
   ]
  },
  {
   "cell_type": "markdown",
   "metadata": {
    "id": "dz_sq9hWmU69"
   },
   "source": [
    "### Only consider sequences with length in range [30 : 300]"
   ]
  },
  {
   "cell_type": "markdown",
   "metadata": {
    "id": "LOp_vTvO74Qw"
   },
   "source": [
    "\n",
    "Only consider sequences with lengths between 30 and 300 to accelerate experimentation.  "
   ]
  },
  {
   "cell_type": "code",
   "execution_count": 47,
   "metadata": {
    "id": "Odf0r_9Om9fr"
   },
   "outputs": [],
   "source": [
    "MIN_SEQ_LEN, MAX_SEQ_LEN = 30, 300"
   ]
  },
  {
   "cell_type": "code",
   "execution_count": 48,
   "metadata": {
    "id": "iQEAGNDQmyJr"
   },
   "outputs": [],
   "source": [
    "train_df = train_df[train_df.sequence_len.between(MIN_SEQ_LEN, MAX_SEQ_LEN, inclusive='both')]\n",
    "dev_df = dev_df[dev_df.sequence_len.between(MIN_SEQ_LEN, MAX_SEQ_LEN, inclusive='both')]\n",
    "test_df = test_df[test_df.sequence_len.between(MIN_SEQ_LEN, MAX_SEQ_LEN, inclusive='both')]"
   ]
  },
  {
   "cell_type": "code",
   "execution_count": 49,
   "metadata": {
    "colab": {
     "base_uri": "https://localhost:8080/",
     "height": 143
    },
    "id": "sno0zxKgneWE",
    "outputId": "03df8da7-782c-4d65-c0af-42015bf3e4ef"
   },
   "outputs": [
    {
     "data": {
      "text/html": [
       "\n",
       "  <div id=\"df-5115d9e0-0ab8-4dcd-a48b-3fdf40e46127\">\n",
       "    <div class=\"colab-df-container\">\n",
       "      <div>\n",
       "<style scoped>\n",
       "    .dataframe tbody tr th:only-of-type {\n",
       "        vertical-align: middle;\n",
       "    }\n",
       "\n",
       "    .dataframe tbody tr th {\n",
       "        vertical-align: top;\n",
       "    }\n",
       "\n",
       "    .dataframe thead th {\n",
       "        text-align: right;\n",
       "    }\n",
       "</style>\n",
       "<table border=\"1\" class=\"dataframe\">\n",
       "  <thead>\n",
       "    <tr style=\"text-align: right;\">\n",
       "      <th></th>\n",
       "      <th>partition</th>\n",
       "      <th>num_of_samples</th>\n",
       "      <th>num_of_true_class</th>\n",
       "      <th>max_samples_per_class</th>\n",
       "      <th>min_samples_per_class</th>\n",
       "      <th>min_seq_length</th>\n",
       "      <th>max_seq_length</th>\n",
       "      <th>avg_seq_length</th>\n",
       "    </tr>\n",
       "  </thead>\n",
       "  <tbody>\n",
       "    <tr>\n",
       "      <th>0</th>\n",
       "      <td>Train</td>\n",
       "      <td>931088</td>\n",
       "      <td>11585</td>\n",
       "      <td>3637</td>\n",
       "      <td>1</td>\n",
       "      <td>30</td>\n",
       "      <td>300</td>\n",
       "      <td>125.716726</td>\n",
       "    </tr>\n",
       "    <tr>\n",
       "      <th>1</th>\n",
       "      <td>Dev</td>\n",
       "      <td>110382</td>\n",
       "      <td>11398</td>\n",
       "      <td>454</td>\n",
       "      <td>1</td>\n",
       "      <td>30</td>\n",
       "      <td>300</td>\n",
       "      <td>125.534082</td>\n",
       "    </tr>\n",
       "    <tr>\n",
       "      <th>2</th>\n",
       "      <td>Test</td>\n",
       "      <td>110383</td>\n",
       "      <td>11403</td>\n",
       "      <td>454</td>\n",
       "      <td>1</td>\n",
       "      <td>30</td>\n",
       "      <td>300</td>\n",
       "      <td>125.392932</td>\n",
       "    </tr>\n",
       "  </tbody>\n",
       "</table>\n",
       "</div>\n",
       "      <button class=\"colab-df-convert\" onclick=\"convertToInteractive('df-5115d9e0-0ab8-4dcd-a48b-3fdf40e46127')\"\n",
       "              title=\"Convert this dataframe to an interactive table.\"\n",
       "              style=\"display:none;\">\n",
       "        \n",
       "  <svg xmlns=\"http://www.w3.org/2000/svg\" height=\"24px\"viewBox=\"0 0 24 24\"\n",
       "       width=\"24px\">\n",
       "    <path d=\"M0 0h24v24H0V0z\" fill=\"none\"/>\n",
       "    <path d=\"M18.56 5.44l.94 2.06.94-2.06 2.06-.94-2.06-.94-.94-2.06-.94 2.06-2.06.94zm-11 1L8.5 8.5l.94-2.06 2.06-.94-2.06-.94L8.5 2.5l-.94 2.06-2.06.94zm10 10l.94 2.06.94-2.06 2.06-.94-2.06-.94-.94-2.06-.94 2.06-2.06.94z\"/><path d=\"M17.41 7.96l-1.37-1.37c-.4-.4-.92-.59-1.43-.59-.52 0-1.04.2-1.43.59L10.3 9.45l-7.72 7.72c-.78.78-.78 2.05 0 2.83L4 21.41c.39.39.9.59 1.41.59.51 0 1.02-.2 1.41-.59l7.78-7.78 2.81-2.81c.8-.78.8-2.07 0-2.86zM5.41 20L4 18.59l7.72-7.72 1.47 1.35L5.41 20z\"/>\n",
       "  </svg>\n",
       "      </button>\n",
       "      \n",
       "  <style>\n",
       "    .colab-df-container {\n",
       "      display:flex;\n",
       "      flex-wrap:wrap;\n",
       "      gap: 12px;\n",
       "    }\n",
       "\n",
       "    .colab-df-convert {\n",
       "      background-color: #E8F0FE;\n",
       "      border: none;\n",
       "      border-radius: 50%;\n",
       "      cursor: pointer;\n",
       "      display: none;\n",
       "      fill: #1967D2;\n",
       "      height: 32px;\n",
       "      padding: 0 0 0 0;\n",
       "      width: 32px;\n",
       "    }\n",
       "\n",
       "    .colab-df-convert:hover {\n",
       "      background-color: #E2EBFA;\n",
       "      box-shadow: 0px 1px 2px rgba(60, 64, 67, 0.3), 0px 1px 3px 1px rgba(60, 64, 67, 0.15);\n",
       "      fill: #174EA6;\n",
       "    }\n",
       "\n",
       "    [theme=dark] .colab-df-convert {\n",
       "      background-color: #3B4455;\n",
       "      fill: #D2E3FC;\n",
       "    }\n",
       "\n",
       "    [theme=dark] .colab-df-convert:hover {\n",
       "      background-color: #434B5C;\n",
       "      box-shadow: 0px 1px 3px 1px rgba(0, 0, 0, 0.15);\n",
       "      filter: drop-shadow(0px 1px 2px rgba(0, 0, 0, 0.3));\n",
       "      fill: #FFFFFF;\n",
       "    }\n",
       "  </style>\n",
       "\n",
       "      <script>\n",
       "        const buttonEl =\n",
       "          document.querySelector('#df-5115d9e0-0ab8-4dcd-a48b-3fdf40e46127 button.colab-df-convert');\n",
       "        buttonEl.style.display =\n",
       "          google.colab.kernel.accessAllowed ? 'block' : 'none';\n",
       "\n",
       "        async function convertToInteractive(key) {\n",
       "          const element = document.querySelector('#df-5115d9e0-0ab8-4dcd-a48b-3fdf40e46127');\n",
       "          const dataTable =\n",
       "            await google.colab.kernel.invokeFunction('convertToInteractive',\n",
       "                                                     [key], {});\n",
       "          if (!dataTable) return;\n",
       "\n",
       "          const docLinkHtml = 'Like what you see? Visit the ' +\n",
       "            '<a target=\"_blank\" href=https://colab.research.google.com/notebooks/data_table.ipynb>data table notebook</a>'\n",
       "            + ' to learn more about interactive tables.';\n",
       "          element.innerHTML = '';\n",
       "          dataTable['output_type'] = 'display_data';\n",
       "          await google.colab.output.renderOutput(dataTable, element);\n",
       "          const docLink = document.createElement('div');\n",
       "          docLink.innerHTML = docLinkHtml;\n",
       "          element.appendChild(docLink);\n",
       "        }\n",
       "      </script>\n",
       "    </div>\n",
       "  </div>\n",
       "  "
      ],
      "text/plain": [
       "  partition  num_of_samples  num_of_true_class  max_samples_per_class  \\\n",
       "0     Train          931088              11585                   3637   \n",
       "1       Dev          110382              11398                    454   \n",
       "2      Test          110383              11403                    454   \n",
       "\n",
       "   min_samples_per_class  min_seq_length  max_seq_length  avg_seq_length  \n",
       "0                      1              30             300      125.716726  \n",
       "1                      1              30             300      125.534082  \n",
       "2                      1              30             300      125.392932  "
      ]
     },
     "execution_count": 49,
     "metadata": {},
     "output_type": "execute_result"
    }
   ],
   "source": [
    "get_partitions_info([train_df, dev_df, test_df], ['Train', 'Dev', 'Test'])"
   ]
  },
  {
   "cell_type": "markdown",
   "metadata": {
    "id": "7wWZtL2G-mcW"
   },
   "source": [
    "### Remove sequences with rare amino acids"
   ]
  },
  {
   "cell_type": "code",
   "execution_count": 50,
   "metadata": {
    "id": "sxNmjikz_GA7"
   },
   "outputs": [],
   "source": [
    "rare_amino_acids = ['X', 'U', 'B', 'O', 'Z']"
   ]
  },
  {
   "cell_type": "code",
   "execution_count": 51,
   "metadata": {
    "id": "G50g406k_Y-g"
   },
   "outputs": [],
   "source": [
    "dev_df = dev_df[ ~ dev_df['sequence'].str.contains('|'.join(rare_amino_acids))]\n",
    "test_df = test_df[ ~ test_df['sequence'].str.contains('|'.join(rare_amino_acids))]\n",
    "train_df = train_df[ ~ train_df['sequence'].str.contains('|'.join(rare_amino_acids))]"
   ]
  },
  {
   "cell_type": "code",
   "execution_count": 52,
   "metadata": {
    "colab": {
     "base_uri": "https://localhost:8080/",
     "height": 143
    },
    "id": "uATHvNw-A98t",
    "outputId": "5cf5c1c3-aa5e-42c6-ec72-9262d38410d8"
   },
   "outputs": [
    {
     "data": {
      "text/html": [
       "\n",
       "  <div id=\"df-ded1ad94-9c5e-4941-b63c-fbdffee7012e\">\n",
       "    <div class=\"colab-df-container\">\n",
       "      <div>\n",
       "<style scoped>\n",
       "    .dataframe tbody tr th:only-of-type {\n",
       "        vertical-align: middle;\n",
       "    }\n",
       "\n",
       "    .dataframe tbody tr th {\n",
       "        vertical-align: top;\n",
       "    }\n",
       "\n",
       "    .dataframe thead th {\n",
       "        text-align: right;\n",
       "    }\n",
       "</style>\n",
       "<table border=\"1\" class=\"dataframe\">\n",
       "  <thead>\n",
       "    <tr style=\"text-align: right;\">\n",
       "      <th></th>\n",
       "      <th>partition</th>\n",
       "      <th>num_of_samples</th>\n",
       "      <th>num_of_true_class</th>\n",
       "      <th>max_samples_per_class</th>\n",
       "      <th>min_samples_per_class</th>\n",
       "      <th>min_seq_length</th>\n",
       "      <th>max_seq_length</th>\n",
       "      <th>avg_seq_length</th>\n",
       "    </tr>\n",
       "  </thead>\n",
       "  <tbody>\n",
       "    <tr>\n",
       "      <th>0</th>\n",
       "      <td>Train</td>\n",
       "      <td>930503</td>\n",
       "      <td>11585</td>\n",
       "      <td>3637</td>\n",
       "      <td>1</td>\n",
       "      <td>30</td>\n",
       "      <td>300</td>\n",
       "      <td>125.708591</td>\n",
       "    </tr>\n",
       "    <tr>\n",
       "      <th>1</th>\n",
       "      <td>Dev</td>\n",
       "      <td>110311</td>\n",
       "      <td>11391</td>\n",
       "      <td>454</td>\n",
       "      <td>1</td>\n",
       "      <td>30</td>\n",
       "      <td>300</td>\n",
       "      <td>125.525025</td>\n",
       "    </tr>\n",
       "    <tr>\n",
       "      <th>2</th>\n",
       "      <td>Test</td>\n",
       "      <td>110305</td>\n",
       "      <td>11394</td>\n",
       "      <td>454</td>\n",
       "      <td>1</td>\n",
       "      <td>30</td>\n",
       "      <td>300</td>\n",
       "      <td>125.379665</td>\n",
       "    </tr>\n",
       "  </tbody>\n",
       "</table>\n",
       "</div>\n",
       "      <button class=\"colab-df-convert\" onclick=\"convertToInteractive('df-ded1ad94-9c5e-4941-b63c-fbdffee7012e')\"\n",
       "              title=\"Convert this dataframe to an interactive table.\"\n",
       "              style=\"display:none;\">\n",
       "        \n",
       "  <svg xmlns=\"http://www.w3.org/2000/svg\" height=\"24px\"viewBox=\"0 0 24 24\"\n",
       "       width=\"24px\">\n",
       "    <path d=\"M0 0h24v24H0V0z\" fill=\"none\"/>\n",
       "    <path d=\"M18.56 5.44l.94 2.06.94-2.06 2.06-.94-2.06-.94-.94-2.06-.94 2.06-2.06.94zm-11 1L8.5 8.5l.94-2.06 2.06-.94-2.06-.94L8.5 2.5l-.94 2.06-2.06.94zm10 10l.94 2.06.94-2.06 2.06-.94-2.06-.94-.94-2.06-.94 2.06-2.06.94z\"/><path d=\"M17.41 7.96l-1.37-1.37c-.4-.4-.92-.59-1.43-.59-.52 0-1.04.2-1.43.59L10.3 9.45l-7.72 7.72c-.78.78-.78 2.05 0 2.83L4 21.41c.39.39.9.59 1.41.59.51 0 1.02-.2 1.41-.59l7.78-7.78 2.81-2.81c.8-.78.8-2.07 0-2.86zM5.41 20L4 18.59l7.72-7.72 1.47 1.35L5.41 20z\"/>\n",
       "  </svg>\n",
       "      </button>\n",
       "      \n",
       "  <style>\n",
       "    .colab-df-container {\n",
       "      display:flex;\n",
       "      flex-wrap:wrap;\n",
       "      gap: 12px;\n",
       "    }\n",
       "\n",
       "    .colab-df-convert {\n",
       "      background-color: #E8F0FE;\n",
       "      border: none;\n",
       "      border-radius: 50%;\n",
       "      cursor: pointer;\n",
       "      display: none;\n",
       "      fill: #1967D2;\n",
       "      height: 32px;\n",
       "      padding: 0 0 0 0;\n",
       "      width: 32px;\n",
       "    }\n",
       "\n",
       "    .colab-df-convert:hover {\n",
       "      background-color: #E2EBFA;\n",
       "      box-shadow: 0px 1px 2px rgba(60, 64, 67, 0.3), 0px 1px 3px 1px rgba(60, 64, 67, 0.15);\n",
       "      fill: #174EA6;\n",
       "    }\n",
       "\n",
       "    [theme=dark] .colab-df-convert {\n",
       "      background-color: #3B4455;\n",
       "      fill: #D2E3FC;\n",
       "    }\n",
       "\n",
       "    [theme=dark] .colab-df-convert:hover {\n",
       "      background-color: #434B5C;\n",
       "      box-shadow: 0px 1px 3px 1px rgba(0, 0, 0, 0.15);\n",
       "      filter: drop-shadow(0px 1px 2px rgba(0, 0, 0, 0.3));\n",
       "      fill: #FFFFFF;\n",
       "    }\n",
       "  </style>\n",
       "\n",
       "      <script>\n",
       "        const buttonEl =\n",
       "          document.querySelector('#df-ded1ad94-9c5e-4941-b63c-fbdffee7012e button.colab-df-convert');\n",
       "        buttonEl.style.display =\n",
       "          google.colab.kernel.accessAllowed ? 'block' : 'none';\n",
       "\n",
       "        async function convertToInteractive(key) {\n",
       "          const element = document.querySelector('#df-ded1ad94-9c5e-4941-b63c-fbdffee7012e');\n",
       "          const dataTable =\n",
       "            await google.colab.kernel.invokeFunction('convertToInteractive',\n",
       "                                                     [key], {});\n",
       "          if (!dataTable) return;\n",
       "\n",
       "          const docLinkHtml = 'Like what you see? Visit the ' +\n",
       "            '<a target=\"_blank\" href=https://colab.research.google.com/notebooks/data_table.ipynb>data table notebook</a>'\n",
       "            + ' to learn more about interactive tables.';\n",
       "          element.innerHTML = '';\n",
       "          dataTable['output_type'] = 'display_data';\n",
       "          await google.colab.output.renderOutput(dataTable, element);\n",
       "          const docLink = document.createElement('div');\n",
       "          docLink.innerHTML = docLinkHtml;\n",
       "          element.appendChild(docLink);\n",
       "        }\n",
       "      </script>\n",
       "    </div>\n",
       "  </div>\n",
       "  "
      ],
      "text/plain": [
       "  partition  num_of_samples  num_of_true_class  max_samples_per_class  \\\n",
       "0     Train          930503              11585                   3637   \n",
       "1       Dev          110311              11391                    454   \n",
       "2      Test          110305              11394                    454   \n",
       "\n",
       "   min_samples_per_class  min_seq_length  max_seq_length  avg_seq_length  \n",
       "0                      1              30             300      125.708591  \n",
       "1                      1              30             300      125.525025  \n",
       "2                      1              30             300      125.379665  "
      ]
     },
     "execution_count": 52,
     "metadata": {},
     "output_type": "execute_result"
    }
   ],
   "source": [
    "get_partitions_info([train_df, dev_df, test_df], ['Train', 'Dev', 'Test'])"
   ]
  },
  {
   "cell_type": "code",
   "execution_count": 60,
   "metadata": {
    "colab": {
     "base_uri": "https://localhost:8080/"
    },
    "id": "TZ1ITsdY-lho",
    "outputId": "f112eec6-7575-4ece-a628-b3e821b2befc"
   },
   "outputs": [
    {
     "name": "stdout",
     "output_type": "stream",
     "text": [
      "Num. of sequences containing rare amino acids: 0\n"
     ]
    }
   ],
   "source": [
    "# Sanity Check\n",
    "total_sequences = pd.concat([dev_df, test_df, train_df], ignore_index=True)['sequence']\n",
    "\n",
    "count_seq_rare_amino_acids = {}\n",
    "\n",
    "for seq in total_sequences:\n",
    "    for rare_amino_acid in rare_amino_acids:\n",
    "        if rare_amino_acid in seq:\n",
    "            count_seq_rare_amino_acids[rare_amino_acid] = 1 + count_seq_rare_amino_acids.get(rare_amino_acid, 0)\n",
    "\n",
    "print(f'Num. of sequences containing rare amino acids: {len(count_seq_rare_amino_acids)}')"
   ]
  },
  {
   "cell_type": "code",
   "execution_count": 62,
   "metadata": {
    "colab": {
     "base_uri": "https://localhost:8080/"
    },
    "id": "p0owem-8sxnL",
    "outputId": "10921f2d-68bf-457f-e18a-193358bad242"
   },
   "outputs": [
    {
     "name": "stdout",
     "output_type": "stream",
     "text": [
      "\t##### Total\n",
      "Total unique Amino Acids: 20\n"
     ]
    }
   ],
   "source": [
    "# Get the frequency of each amino acid in the sequences of a given DataFrame\n",
    "filtered_amino_acid_freq = get_amino_acid_freq(pd.concat([dev_df, test_df, train_df]), 'Total')"
   ]
  },
  {
   "cell_type": "code",
   "execution_count": 64,
   "metadata": {
    "id": "vKUMGmZns6Kb"
   },
   "outputs": [],
   "source": [
    "amino_acids_dict = {amino_acid: ind for ind, amino_acid in enumerate(filtered_amino_acid_freq['amino_acid'].unique(), start=1)}"
   ]
  },
  {
   "cell_type": "code",
   "execution_count": 65,
   "metadata": {
    "id": "DZnOxD1VyRr-"
   },
   "outputs": [],
   "source": [
    "assert len(amino_acids_dict) == len(filtered_amino_acid_freq)"
   ]
  },
  {
   "cell_type": "code",
   "execution_count": 68,
   "metadata": {
    "id": "8I5Wwvt1ybLK"
   },
   "outputs": [],
   "source": [
    "amino_acids_dict['UNK'] = 0"
   ]
  },
  {
   "cell_type": "code",
   "execution_count": 69,
   "metadata": {
    "colab": {
     "base_uri": "https://localhost:8080/"
    },
    "id": "Ij3GnGOZyx3x",
    "outputId": "36d67753-85ef-4e66-cbff-8036af99537c"
   },
   "outputs": [
    {
     "data": {
      "text/plain": [
       "{'L': 1,\n",
       " 'A': 2,\n",
       " 'V': 3,\n",
       " 'G': 4,\n",
       " 'E': 5,\n",
       " 'I': 6,\n",
       " 'S': 7,\n",
       " 'R': 8,\n",
       " 'D': 9,\n",
       " 'K': 10,\n",
       " 'T': 11,\n",
       " 'P': 12,\n",
       " 'F': 13,\n",
       " 'N': 14,\n",
       " 'Q': 15,\n",
       " 'Y': 16,\n",
       " 'M': 17,\n",
       " 'H': 18,\n",
       " 'C': 19,\n",
       " 'W': 20,\n",
       " 'UNK': 0}"
      ]
     },
     "execution_count": 69,
     "metadata": {},
     "output_type": "execute_result"
    }
   ],
   "source": [
    "# Get the mapping from Amino Acid to an integer for encoding purposes \n",
    "amino_acids_dict"
   ]
  },
  {
   "cell_type": "markdown",
   "metadata": {
    "id": "tyoh37Bkmpv4"
   },
   "source": [
    "### Consider only 10% of (original) target labels (most frequent ones)\n",
    "\n",
    "To accelerate experimentation and compare different approaches with each other."
   ]
  },
  {
   "cell_type": "code",
   "execution_count": 53,
   "metadata": {
    "colab": {
     "base_uri": "https://localhost:8080/"
    },
    "id": "39TLN51apf3q",
    "outputId": "e4f89c27-c945-49da-fa69-06f7b109bc8d"
   },
   "outputs": [
    {
     "data": {
      "text/plain": [
       "1792"
      ]
     },
     "execution_count": 53,
     "metadata": {},
     "output_type": "execute_result"
    }
   ],
   "source": [
    "# Take 10% of the total number of classes existing in Pfam dataset\n",
    "num_target_classes = int(0.1 * 17929)\n",
    "\n",
    "num_target_classes"
   ]
  },
  {
   "cell_type": "code",
   "execution_count": 54,
   "metadata": {
    "id": "onCPlp9eofTo"
   },
   "outputs": [],
   "source": [
    "most_freq_classes = set(\n",
    "    (train_df.groupby('true_label').size()\n",
    "                                   .sort_values(ascending=False)\n",
    "                                   .head(num_target_classes)\n",
    "                                   .keys())\n",
    ")"
   ]
  },
  {
   "cell_type": "code",
   "execution_count": 55,
   "metadata": {
    "id": "KOjM23F6XxOp"
   },
   "outputs": [],
   "source": [
    "assert len(most_freq_classes) == num_target_classes"
   ]
  },
  {
   "cell_type": "code",
   "execution_count": 56,
   "metadata": {
    "id": "w1U1t-abofNH"
   },
   "outputs": [],
   "source": [
    "train_df = train_df[train_df.true_label.isin(most_freq_classes)]\n",
    "dev_df = dev_df[dev_df.true_label.isin(most_freq_classes)]\n",
    "test_df = test_df[test_df.true_label.isin(most_freq_classes)]"
   ]
  },
  {
   "cell_type": "code",
   "execution_count": 57,
   "metadata": {
    "colab": {
     "base_uri": "https://localhost:8080/",
     "height": 143
    },
    "id": "UTJcjbI5p5wa",
    "outputId": "75ebd4c4-69a3-4101-acb1-f8d7109ff7c1"
   },
   "outputs": [
    {
     "data": {
      "text/html": [
       "\n",
       "  <div id=\"df-f9cbf8da-bc42-4019-a518-48968a1a6a18\">\n",
       "    <div class=\"colab-df-container\">\n",
       "      <div>\n",
       "<style scoped>\n",
       "    .dataframe tbody tr th:only-of-type {\n",
       "        vertical-align: middle;\n",
       "    }\n",
       "\n",
       "    .dataframe tbody tr th {\n",
       "        vertical-align: top;\n",
       "    }\n",
       "\n",
       "    .dataframe thead th {\n",
       "        text-align: right;\n",
       "    }\n",
       "</style>\n",
       "<table border=\"1\" class=\"dataframe\">\n",
       "  <thead>\n",
       "    <tr style=\"text-align: right;\">\n",
       "      <th></th>\n",
       "      <th>partition</th>\n",
       "      <th>num_of_samples</th>\n",
       "      <th>num_of_true_class</th>\n",
       "      <th>max_samples_per_class</th>\n",
       "      <th>min_samples_per_class</th>\n",
       "      <th>min_seq_length</th>\n",
       "      <th>max_seq_length</th>\n",
       "      <th>avg_seq_length</th>\n",
       "    </tr>\n",
       "  </thead>\n",
       "  <tbody>\n",
       "    <tr>\n",
       "      <th>0</th>\n",
       "      <td>train</td>\n",
       "      <td>535321</td>\n",
       "      <td>1792</td>\n",
       "      <td>3637</td>\n",
       "      <td>127</td>\n",
       "      <td>30</td>\n",
       "      <td>300</td>\n",
       "      <td>121.757697</td>\n",
       "    </tr>\n",
       "    <tr>\n",
       "      <th>1</th>\n",
       "      <td>dev</td>\n",
       "      <td>65908</td>\n",
       "      <td>1792</td>\n",
       "      <td>454</td>\n",
       "      <td>14</td>\n",
       "      <td>30</td>\n",
       "      <td>300</td>\n",
       "      <td>121.778540</td>\n",
       "    </tr>\n",
       "    <tr>\n",
       "      <th>2</th>\n",
       "      <td>test</td>\n",
       "      <td>65884</td>\n",
       "      <td>1792</td>\n",
       "      <td>454</td>\n",
       "      <td>12</td>\n",
       "      <td>30</td>\n",
       "      <td>300</td>\n",
       "      <td>121.622230</td>\n",
       "    </tr>\n",
       "  </tbody>\n",
       "</table>\n",
       "</div>\n",
       "      <button class=\"colab-df-convert\" onclick=\"convertToInteractive('df-f9cbf8da-bc42-4019-a518-48968a1a6a18')\"\n",
       "              title=\"Convert this dataframe to an interactive table.\"\n",
       "              style=\"display:none;\">\n",
       "        \n",
       "  <svg xmlns=\"http://www.w3.org/2000/svg\" height=\"24px\"viewBox=\"0 0 24 24\"\n",
       "       width=\"24px\">\n",
       "    <path d=\"M0 0h24v24H0V0z\" fill=\"none\"/>\n",
       "    <path d=\"M18.56 5.44l.94 2.06.94-2.06 2.06-.94-2.06-.94-.94-2.06-.94 2.06-2.06.94zm-11 1L8.5 8.5l.94-2.06 2.06-.94-2.06-.94L8.5 2.5l-.94 2.06-2.06.94zm10 10l.94 2.06.94-2.06 2.06-.94-2.06-.94-.94-2.06-.94 2.06-2.06.94z\"/><path d=\"M17.41 7.96l-1.37-1.37c-.4-.4-.92-.59-1.43-.59-.52 0-1.04.2-1.43.59L10.3 9.45l-7.72 7.72c-.78.78-.78 2.05 0 2.83L4 21.41c.39.39.9.59 1.41.59.51 0 1.02-.2 1.41-.59l7.78-7.78 2.81-2.81c.8-.78.8-2.07 0-2.86zM5.41 20L4 18.59l7.72-7.72 1.47 1.35L5.41 20z\"/>\n",
       "  </svg>\n",
       "      </button>\n",
       "      \n",
       "  <style>\n",
       "    .colab-df-container {\n",
       "      display:flex;\n",
       "      flex-wrap:wrap;\n",
       "      gap: 12px;\n",
       "    }\n",
       "\n",
       "    .colab-df-convert {\n",
       "      background-color: #E8F0FE;\n",
       "      border: none;\n",
       "      border-radius: 50%;\n",
       "      cursor: pointer;\n",
       "      display: none;\n",
       "      fill: #1967D2;\n",
       "      height: 32px;\n",
       "      padding: 0 0 0 0;\n",
       "      width: 32px;\n",
       "    }\n",
       "\n",
       "    .colab-df-convert:hover {\n",
       "      background-color: #E2EBFA;\n",
       "      box-shadow: 0px 1px 2px rgba(60, 64, 67, 0.3), 0px 1px 3px 1px rgba(60, 64, 67, 0.15);\n",
       "      fill: #174EA6;\n",
       "    }\n",
       "\n",
       "    [theme=dark] .colab-df-convert {\n",
       "      background-color: #3B4455;\n",
       "      fill: #D2E3FC;\n",
       "    }\n",
       "\n",
       "    [theme=dark] .colab-df-convert:hover {\n",
       "      background-color: #434B5C;\n",
       "      box-shadow: 0px 1px 3px 1px rgba(0, 0, 0, 0.15);\n",
       "      filter: drop-shadow(0px 1px 2px rgba(0, 0, 0, 0.3));\n",
       "      fill: #FFFFFF;\n",
       "    }\n",
       "  </style>\n",
       "\n",
       "      <script>\n",
       "        const buttonEl =\n",
       "          document.querySelector('#df-f9cbf8da-bc42-4019-a518-48968a1a6a18 button.colab-df-convert');\n",
       "        buttonEl.style.display =\n",
       "          google.colab.kernel.accessAllowed ? 'block' : 'none';\n",
       "\n",
       "        async function convertToInteractive(key) {\n",
       "          const element = document.querySelector('#df-f9cbf8da-bc42-4019-a518-48968a1a6a18');\n",
       "          const dataTable =\n",
       "            await google.colab.kernel.invokeFunction('convertToInteractive',\n",
       "                                                     [key], {});\n",
       "          if (!dataTable) return;\n",
       "\n",
       "          const docLinkHtml = 'Like what you see? Visit the ' +\n",
       "            '<a target=\"_blank\" href=https://colab.research.google.com/notebooks/data_table.ipynb>data table notebook</a>'\n",
       "            + ' to learn more about interactive tables.';\n",
       "          element.innerHTML = '';\n",
       "          dataTable['output_type'] = 'display_data';\n",
       "          await google.colab.output.renderOutput(dataTable, element);\n",
       "          const docLink = document.createElement('div');\n",
       "          docLink.innerHTML = docLinkHtml;\n",
       "          element.appendChild(docLink);\n",
       "        }\n",
       "      </script>\n",
       "    </div>\n",
       "  </div>\n",
       "  "
      ],
      "text/plain": [
       "  partition  num_of_samples  num_of_true_class  max_samples_per_class  \\\n",
       "0     train          535321               1792                   3637   \n",
       "1       dev           65908               1792                    454   \n",
       "2      test           65884               1792                    454   \n",
       "\n",
       "   min_samples_per_class  min_seq_length  max_seq_length  avg_seq_length  \n",
       "0                    127              30             300      121.757697  \n",
       "1                     14              30             300      121.778540  \n",
       "2                     12              30             300      121.622230  "
      ]
     },
     "execution_count": 57,
     "metadata": {},
     "output_type": "execute_result"
    }
   ],
   "source": [
    "get_partitions_info([train_df, dev_df, test_df], partition_names)"
   ]
  },
  {
   "cell_type": "code",
   "execution_count": 58,
   "metadata": {
    "colab": {
     "base_uri": "https://localhost:8080/"
    },
    "id": "7QNKwRzKU4ly",
    "outputId": "d1aee363-05cf-4098-f43e-d591a5b924c6"
   },
   "outputs": [
    {
     "name": "stdout",
     "output_type": "stream",
     "text": [
      "Number of overlapping labels Train -- Test: 1792\n",
      "Number of overlapping labels Train -- Dev: 1792\n",
      "Number of overlapping labels Dev -- Test: 1792\n"
     ]
    }
   ],
   "source": [
    "## Sanity Check\n",
    "# Are there overlaps between sets in 'true_label'?\n",
    "overlapping_vals = compute_overlap(train_df, test_df, 'true_label')\n",
    "print(f'Number of overlapping labels Train -- Test: {len(overlapping_vals)}')\n",
    "\n",
    "overlapping_vals = compute_overlap(train_df, dev_df, 'true_label')\n",
    "print(f'Number of overlapping labels Train -- Dev: {len(overlapping_vals)}')\n",
    "\n",
    "overlapping_vals = compute_overlap(dev_df, test_df, 'true_label')\n",
    "print(f'Number of overlapping labels Dev -- Test: {len(overlapping_vals)}')"
   ]
  },
  {
   "cell_type": "markdown",
   "metadata": {
    "id": "Zb9eh-jgqYhS"
   },
   "source": [
    "### Add the encoded 'true_label' to datasets"
   ]
  },
  {
   "cell_type": "code",
   "execution_count": 59,
   "metadata": {
    "id": "YK0ysRcWqXqT"
   },
   "outputs": [],
   "source": [
    "from sklearn import preprocessing\n",
    "from utils import save_label_encoder"
   ]
  },
  {
   "cell_type": "code",
   "execution_count": 39,
   "metadata": {
    "id": "HCVipKFJqoJ6"
   },
   "outputs": [],
   "source": [
    "# Get labels \n",
    "train_labels = train_df[\"true_label\"].tolist()\n",
    "test_labels = test_df[\"true_label\"].tolist()\n",
    "dev_labels = dev_df[\"true_label\"].tolist()\n",
    "\n",
    "all_labels = train_labels + test_labels + dev_labels"
   ]
  },
  {
   "cell_type": "code",
   "execution_count": 40,
   "metadata": {
    "id": "t4GFJqbE6Dgs"
   },
   "outputs": [],
   "source": [
    "le = preprocessing.LabelEncoder()"
   ]
  },
  {
   "cell_type": "code",
   "execution_count": 41,
   "metadata": {
    "colab": {
     "base_uri": "https://localhost:8080/",
     "height": 75
    },
    "id": "YVWFSsUE3o_T",
    "outputId": "fe0f4de5-1465-451a-c81a-7000371495bb"
   },
   "outputs": [
    {
     "data": {
      "text/html": [
       "<style>#sk-container-id-1 {color: black;background-color: white;}#sk-container-id-1 pre{padding: 0;}#sk-container-id-1 div.sk-toggleable {background-color: white;}#sk-container-id-1 label.sk-toggleable__label {cursor: pointer;display: block;width: 100%;margin-bottom: 0;padding: 0.3em;box-sizing: border-box;text-align: center;}#sk-container-id-1 label.sk-toggleable__label-arrow:before {content: \"▸\";float: left;margin-right: 0.25em;color: #696969;}#sk-container-id-1 label.sk-toggleable__label-arrow:hover:before {color: black;}#sk-container-id-1 div.sk-estimator:hover label.sk-toggleable__label-arrow:before {color: black;}#sk-container-id-1 div.sk-toggleable__content {max-height: 0;max-width: 0;overflow: hidden;text-align: left;background-color: #f0f8ff;}#sk-container-id-1 div.sk-toggleable__content pre {margin: 0.2em;color: black;border-radius: 0.25em;background-color: #f0f8ff;}#sk-container-id-1 input.sk-toggleable__control:checked~div.sk-toggleable__content {max-height: 200px;max-width: 100%;overflow: auto;}#sk-container-id-1 input.sk-toggleable__control:checked~label.sk-toggleable__label-arrow:before {content: \"▾\";}#sk-container-id-1 div.sk-estimator input.sk-toggleable__control:checked~label.sk-toggleable__label {background-color: #d4ebff;}#sk-container-id-1 div.sk-label input.sk-toggleable__control:checked~label.sk-toggleable__label {background-color: #d4ebff;}#sk-container-id-1 input.sk-hidden--visually {border: 0;clip: rect(1px 1px 1px 1px);clip: rect(1px, 1px, 1px, 1px);height: 1px;margin: -1px;overflow: hidden;padding: 0;position: absolute;width: 1px;}#sk-container-id-1 div.sk-estimator {font-family: monospace;background-color: #f0f8ff;border: 1px dotted black;border-radius: 0.25em;box-sizing: border-box;margin-bottom: 0.5em;}#sk-container-id-1 div.sk-estimator:hover {background-color: #d4ebff;}#sk-container-id-1 div.sk-parallel-item::after {content: \"\";width: 100%;border-bottom: 1px solid gray;flex-grow: 1;}#sk-container-id-1 div.sk-label:hover label.sk-toggleable__label {background-color: #d4ebff;}#sk-container-id-1 div.sk-serial::before {content: \"\";position: absolute;border-left: 1px solid gray;box-sizing: border-box;top: 0;bottom: 0;left: 50%;z-index: 0;}#sk-container-id-1 div.sk-serial {display: flex;flex-direction: column;align-items: center;background-color: white;padding-right: 0.2em;padding-left: 0.2em;position: relative;}#sk-container-id-1 div.sk-item {position: relative;z-index: 1;}#sk-container-id-1 div.sk-parallel {display: flex;align-items: stretch;justify-content: center;background-color: white;position: relative;}#sk-container-id-1 div.sk-item::before, #sk-container-id-1 div.sk-parallel-item::before {content: \"\";position: absolute;border-left: 1px solid gray;box-sizing: border-box;top: 0;bottom: 0;left: 50%;z-index: -1;}#sk-container-id-1 div.sk-parallel-item {display: flex;flex-direction: column;z-index: 1;position: relative;background-color: white;}#sk-container-id-1 div.sk-parallel-item:first-child::after {align-self: flex-end;width: 50%;}#sk-container-id-1 div.sk-parallel-item:last-child::after {align-self: flex-start;width: 50%;}#sk-container-id-1 div.sk-parallel-item:only-child::after {width: 0;}#sk-container-id-1 div.sk-dashed-wrapped {border: 1px dashed gray;margin: 0 0.4em 0.5em 0.4em;box-sizing: border-box;padding-bottom: 0.4em;background-color: white;}#sk-container-id-1 div.sk-label label {font-family: monospace;font-weight: bold;display: inline-block;line-height: 1.2em;}#sk-container-id-1 div.sk-label-container {text-align: center;}#sk-container-id-1 div.sk-container {/* jupyter's `normalize.less` sets `[hidden] { display: none; }` but bootstrap.min.css set `[hidden] { display: none !important; }` so we also need the `!important` here to be able to override the default hidden behavior on the sphinx rendered scikit-learn.org. See: https://github.com/scikit-learn/scikit-learn/issues/21755 */display: inline-block !important;position: relative;}#sk-container-id-1 div.sk-text-repr-fallback {display: none;}</style><div id=\"sk-container-id-1\" class=\"sk-top-container\"><div class=\"sk-text-repr-fallback\"><pre>LabelEncoder()</pre><b>In a Jupyter environment, please rerun this cell to show the HTML representation or trust the notebook. <br />On GitHub, the HTML representation is unable to render, please try loading this page with nbviewer.org.</b></div><div class=\"sk-container\" hidden><div class=\"sk-item\"><div class=\"sk-estimator sk-toggleable\"><input class=\"sk-toggleable__control sk-hidden--visually\" id=\"sk-estimator-id-1\" type=\"checkbox\" checked><label for=\"sk-estimator-id-1\" class=\"sk-toggleable__label sk-toggleable__label-arrow\">LabelEncoder</label><div class=\"sk-toggleable__content\"><pre>LabelEncoder()</pre></div></div></div></div></div>"
      ],
      "text/plain": [
       "LabelEncoder()"
      ]
     },
     "execution_count": 41,
     "metadata": {},
     "output_type": "execute_result"
    }
   ],
   "source": [
    "le.fit(all_labels)"
   ]
  },
  {
   "cell_type": "code",
   "execution_count": 42,
   "metadata": {
    "id": "vdnR1w0b4KBc"
   },
   "outputs": [],
   "source": [
    "train_labels = le.transform(train_labels)\n",
    "test_labels = le.transform(test_labels)\n",
    "dev_labels = le.transform(dev_labels)"
   ]
  },
  {
   "cell_type": "code",
   "execution_count": 43,
   "metadata": {
    "colab": {
     "base_uri": "https://localhost:8080/"
    },
    "id": "J2FpQnVr4ru6",
    "outputId": "f4d9cf12-5c59-47b0-a7ca-4f1236082323"
   },
   "outputs": [
    {
     "data": {
      "text/plain": [
       "1792"
      ]
     },
     "execution_count": 43,
     "metadata": {},
     "output_type": "execute_result"
    }
   ],
   "source": [
    "num_classes = len(list(le.classes_))\n",
    "num_classes"
   ]
  },
  {
   "cell_type": "code",
   "execution_count": 44,
   "metadata": {
    "colab": {
     "base_uri": "https://localhost:8080/"
    },
    "id": "M9cRLful5CzS",
    "outputId": "d5092e2c-99f5-4be3-ca21-d9b50e647e4d"
   },
   "outputs": [
    {
     "data": {
      "text/plain": [
       "array(['PF00003'], dtype='<U7')"
      ]
     },
     "execution_count": 44,
     "metadata": {},
     "output_type": "execute_result"
    }
   ],
   "source": [
    "le.inverse_transform([0])"
   ]
  },
  {
   "cell_type": "code",
   "execution_count": 45,
   "metadata": {
    "colab": {
     "base_uri": "https://localhost:8080/"
    },
    "id": "5zI2mmdi5ZzE",
    "outputId": "b632eba3-b38c-426e-8a2d-8ff90c8f4303"
   },
   "outputs": [
    {
     "name": "stdout",
     "output_type": "stream",
     "text": [
      "1792\n"
     ]
    }
   ],
   "source": [
    "le_name_mapping = dict(zip(le.classes_, le.transform(le.classes_)))\n",
    "print(len(le_name_mapping))"
   ]
  },
  {
   "cell_type": "code",
   "execution_count": 46,
   "metadata": {
    "colab": {
     "base_uri": "https://localhost:8080/"
    },
    "id": "Vw2UwpRA5eQ6",
    "outputId": "55ed203a-6bcc-4f57-c439-f1d50f0d2515"
   },
   "outputs": [
    {
     "data": {
      "text/plain": [
       "0"
      ]
     },
     "execution_count": 46,
     "metadata": {},
     "output_type": "execute_result"
    }
   ],
   "source": [
    "le_name_mapping['PF00003']"
   ]
  },
  {
   "cell_type": "code",
   "execution_count": 47,
   "metadata": {
    "id": "uIG7bhF-qoFV"
   },
   "outputs": [],
   "source": [
    "train_df[\"true_label_encoded\"] = train_labels\n",
    "test_df[\"true_label_encoded\"] = test_labels\n",
    "dev_df[\"true_label_encoded\"] = dev_labels"
   ]
  },
  {
   "cell_type": "code",
   "execution_count": 48,
   "metadata": {
    "colab": {
     "base_uri": "https://localhost:8080/"
    },
    "id": "Vf4WXg8gbQGg",
    "outputId": "9e6b3b9c-4b5f-4fef-c0b7-80bc1511467f"
   },
   "outputs": [
    {
     "data": {
      "text/plain": [
       "0"
      ]
     },
     "execution_count": 48,
     "metadata": {},
     "output_type": "execute_result"
    }
   ],
   "source": [
    "# Save the LabelEncoder as a Dict\n",
    "save_label_encoder(le, './')"
   ]
  },
  {
   "cell_type": "code",
   "execution_count": 49,
   "metadata": {
    "id": "oQ43jJbwcBdE"
   },
   "outputs": [],
   "source": [
    "# Save to Drive\n",
    "# !mv ./label_encoder_mapping.json /content/drive/MyDrive/colabProteinProject/data/"
   ]
  },
  {
   "cell_type": "markdown",
   "metadata": {
    "id": "akTgWrFgqxvv"
   },
   "source": [
    "\n",
    "\n",
    "---\n",
    "\n",
    "\n",
    "\n",
    "---\n",
    "\n"
   ]
  },
  {
   "cell_type": "code",
   "execution_count": 51,
   "metadata": {
    "id": "HgwJFK02ofHK"
   },
   "outputs": [],
   "source": [
    "# Save Filtered Datasets \n",
    "train_df.to_csv('/content/drive/MyDrive/colabProteinProject/data/train_filtered.csv', index=False)\n",
    "dev_df.to_csv('/content/drive/MyDrive/colabProteinProject/data/dev_filtered.csv', index=False)\n",
    "test_df.to_csv('/content/drive/MyDrive/colabProteinProject/data/test_filtered.csv', index=False)"
   ]
  },
  {
   "cell_type": "code",
   "execution_count": null,
   "metadata": {
    "id": "E7HsmFN8mFCj"
   },
   "outputs": [],
   "source": []
  }
 ],
 "metadata": {
  "colab": {
   "provenance": []
  },
  "kernelspec": {
   "display_name": "Python 3 (ipykernel)",
   "language": "python",
   "name": "python3"
  },
  "language_info": {
   "codemirror_mode": {
    "name": "ipython",
    "version": 3
   },
   "file_extension": ".py",
   "mimetype": "text/x-python",
   "name": "python",
   "nbconvert_exporter": "python",
   "pygments_lexer": "ipython3",
   "version": "3.7.4"
  }
 },
 "nbformat": 4,
 "nbformat_minor": 1
}
