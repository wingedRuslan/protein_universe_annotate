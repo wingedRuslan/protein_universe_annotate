{
 "cells": [
  {
   "cell_type": "markdown",
   "metadata": {},
   "source": [
    "## Make predictions using KNN\n",
    "\n",
    "Load embeddings produced by trained ProtCNN model. Use KNN to make predictions on the test dataset."
   ]
  },
  {
   "cell_type": "code",
   "execution_count": 1,
   "metadata": {
    "colab": {
     "base_uri": "https://localhost:8080/"
    },
    "id": "AD5c2vGZaPDe",
    "outputId": "705eb72f-ed3b-4673-8ba9-db47c32d5f7c"
   },
   "outputs": [
    {
     "name": "stdout",
     "output_type": "stream",
     "text": [
      "Mounted at /content/drive\n"
     ]
    }
   ],
   "source": [
    "# from google.colab import drive\n",
    "# drive.mount('/content/drive')"
   ]
  },
  {
   "cell_type": "code",
   "execution_count": 13,
   "metadata": {
    "id": "0StLKT4xZw86"
   },
   "outputs": [],
   "source": [
    "import argparse\n",
    "import os\n",
    "import numpy as np\n",
    "import pandas as pd\n",
    "from collections import defaultdict\n",
    "from sklearn.neighbors import KNeighborsClassifier\n",
    "from sklearn.preprocessing import StandardScaler\n",
    "from sklearn.decomposition import PCA"
   ]
  },
  {
   "cell_type": "code",
   "execution_count": null,
   "metadata": {},
   "outputs": [],
   "source": [
    "from protein_universe_annotate.data_processing import read_pfam_dataset"
   ]
  },
  {
   "cell_type": "code",
   "execution_count": 3,
   "metadata": {
    "id": "jUbHETyA9S9G"
   },
   "outputs": [],
   "source": [
    "train_embeddings_path = '/content/drive/MyDrive/_ruslan_project/training_embeddings.npy'\n",
    "test_embeddings_path = '/content/drive/MyDrive/_ruslan_project/testset_embeddings.npy'"
   ]
  },
  {
   "cell_type": "code",
   "execution_count": 4,
   "metadata": {
    "id": "HH8GQk5OaGVH"
   },
   "outputs": [],
   "source": [
    "train_embeddings = np.load(train_embeddings_path, allow_pickle=True)"
   ]
  },
  {
   "cell_type": "code",
   "execution_count": 5,
   "metadata": {
    "id": "6nFYQopYabkm"
   },
   "outputs": [],
   "source": [
    "test_embeddings = np.load(test_embeddings_path, allow_pickle=True)"
   ]
  },
  {
   "cell_type": "code",
   "execution_count": 8,
   "metadata": {
    "colab": {
     "base_uri": "https://localhost:8080/"
    },
    "id": "Gl08wW23a3va",
    "outputId": "b4c5299a-fe44-4d3c-8485-71ae33505c39"
   },
   "outputs": [
    {
     "name": "stdout",
     "output_type": "stream",
     "text": [
      "Available dataset partitions:  ['test', 'train']\n"
     ]
    }
   ],
   "source": [
    "data_partitions_dirpath = '../data/'\n",
    "print('Available dataset partitions: ', os.listdir(data_partitions_dirpath))"
   ]
  },
  {
   "cell_type": "code",
   "execution_count": 14,
   "metadata": {
    "id": "5980NINVbAhY"
   },
   "outputs": [],
   "source": [
    "train_df = read_pfam_dataset('train')"
   ]
  },
  {
   "cell_type": "code",
   "execution_count": 15,
   "metadata": {
    "id": "MKqA_F-cbDrL"
   },
   "outputs": [],
   "source": [
    "test_df = read_pfam_dataset('test')"
   ]
  },
  {
   "cell_type": "code",
   "execution_count": 16,
   "metadata": {
    "id": "bd0ZZZKQbInY"
   },
   "outputs": [],
   "source": [
    "test_df = test_df.sort_values('sequence', key=lambda col: [len(c) for c in col])\n",
    "train_df = train_df.sort_values('sequence', key=lambda col: [len(c) for c in col])"
   ]
  },
  {
   "cell_type": "code",
   "execution_count": 17,
   "metadata": {
    "id": "to8p67dIbrKx"
   },
   "outputs": [],
   "source": [
    "test_df['true_label'] = test_df.family_accession.apply(lambda s: s.split('.')[0])\n",
    "train_df['true_label'] = train_df.family_accession.apply(lambda s: s.split('.')[0])"
   ]
  },
  {
   "cell_type": "code",
   "execution_count": 18,
   "metadata": {
    "colab": {
     "base_uri": "https://localhost:8080/"
    },
    "id": "qYJAhNmGbsdC",
    "outputId": "1509a0f8-7372-4ad7-f3e3-541b3aea5ec7"
   },
   "outputs": [
    {
     "data": {
      "text/plain": [
       "(1086741,)"
      ]
     },
     "execution_count": 18,
     "metadata": {},
     "output_type": "execute_result"
    }
   ],
   "source": [
    "train_df['true_label'].shape"
   ]
  },
  {
   "cell_type": "code",
   "execution_count": 19,
   "metadata": {
    "colab": {
     "base_uri": "https://localhost:8080/"
    },
    "id": "YoZ6P3dkbwX-",
    "outputId": "b1ce8b7d-91b4-4447-8a63-d1a6256a4ac3"
   },
   "outputs": [
    {
     "data": {
      "text/plain": [
       "(1086741, 1100)"
      ]
     },
     "execution_count": 19,
     "metadata": {},
     "output_type": "execute_result"
    }
   ],
   "source": [
    "train_embeddings.shape"
   ]
  },
  {
   "cell_type": "code",
   "execution_count": 20,
   "metadata": {
    "id": "s5k_fr81hCV7"
   },
   "outputs": [],
   "source": [
    "train_labels = train_df['true_label'].values"
   ]
  },
  {
   "cell_type": "code",
   "execution_count": 21,
   "metadata": {
    "id": "0dEArZQhhGh0"
   },
   "outputs": [],
   "source": [
    "test_labels = test_df['true_label'].values"
   ]
  },
  {
   "cell_type": "code",
   "execution_count": 22,
   "metadata": {
    "colab": {
     "base_uri": "https://localhost:8080/"
    },
    "id": "4kg4-n1n8qAA",
    "outputId": "4c3d3f0b-f28c-4d5e-a097-de008b3727a8"
   },
   "outputs": [
    {
     "data": {
      "text/plain": [
       "True"
      ]
     },
     "execution_count": 22,
     "metadata": {},
     "output_type": "execute_result"
    }
   ],
   "source": [
    "len(train_labels) == len(train_embeddings)"
   ]
  },
  {
   "cell_type": "markdown",
   "metadata": {
    "id": "oJM0zqX18k_x"
   },
   "source": [
    "As in paper - \"for ProtREP, we compute the average learned representation for each family across its training sequences, yielding a sentinel family representation.\""
   ]
  },
  {
   "cell_type": "code",
   "execution_count": 23,
   "metadata": {
    "id": "PLBHkQdb9wE_"
   },
   "outputs": [],
   "source": [
    "# Group train embeddings by label to calculate the mean(embeddings) for a label\n",
    "label_grouped_embeddings = defaultdict(list)\n",
    "for sample in zip(train_embeddings, train_labels):\n",
    "    embed, label = sample[0], sample[1]\n",
    "    label_grouped_embeddings[label].append(embed)"
   ]
  },
  {
   "cell_type": "code",
   "execution_count": 24,
   "metadata": {
    "id": "8FIUWBfM9xkY"
   },
   "outputs": [],
   "source": [
    "# Get label learned representation by taking the mean of the grouped embeddings\n",
    "label_learned_representation = dict()\n",
    "for label, embeddings in label_grouped_embeddings.items():\n",
    "    label_learned_representation[label] = np.mean(embeddings, axis=0)"
   ]
  },
  {
   "cell_type": "code",
   "execution_count": 25,
   "metadata": {
    "colab": {
     "base_uri": "https://localhost:8080/"
    },
    "id": "h2Xra852-GDd",
    "outputId": "7334dd23-2414-4eed-fdae-9241461fbe5f"
   },
   "outputs": [
    {
     "data": {
      "text/plain": [
       "17929"
      ]
     },
     "execution_count": 25,
     "metadata": {},
     "output_type": "execute_result"
    }
   ],
   "source": [
    "len(label_grouped_embeddings)"
   ]
  },
  {
   "cell_type": "code",
   "execution_count": 26,
   "metadata": {
    "colab": {
     "base_uri": "https://localhost:8080/"
    },
    "id": "JOKvva5v-F63",
    "outputId": "ada8780f-d7ca-4c6f-ed97-dba78f25053d"
   },
   "outputs": [
    {
     "data": {
      "text/plain": [
       "[array([-17.643982 , -36.26096  ,  18.781805 , ..., -22.631489 ,\n",
       "        -46.473953 ,  -1.1414888], dtype=float32),\n",
       " array([  1.7974054, -10.713331 ,  13.108027 , ..., -39.11196  ,\n",
       "        -51.62787  ,   3.652741 ], dtype=float32),\n",
       " array([-13.460838 , -33.77893  ,  -7.4814425, ..., -24.550732 ,\n",
       "        -29.308111 , -23.83563  ], dtype=float32)]"
      ]
     },
     "execution_count": 26,
     "metadata": {},
     "output_type": "execute_result"
    }
   ],
   "source": [
    "label_grouped_embeddings['PF08260']"
   ]
  },
  {
   "cell_type": "code",
   "execution_count": 27,
   "metadata": {
    "colab": {
     "base_uri": "https://localhost:8080/"
    },
    "id": "KT-7fWyH-3gR",
    "outputId": "3088c295-fea2-4b2d-a63d-c74417a670d3"
   },
   "outputs": [
    {
     "data": {
      "text/plain": [
       "array([ -9.769138, -26.91774 ,   8.13613 , ..., -28.764727, -42.46998 ,\n",
       "        -7.108126], dtype=float32)"
      ]
     },
     "execution_count": 27,
     "metadata": {},
     "output_type": "execute_result"
    }
   ],
   "source": [
    "label_learned_representation['PF08260']"
   ]
  },
  {
   "cell_type": "code",
   "execution_count": 28,
   "metadata": {
    "colab": {
     "base_uri": "https://localhost:8080/"
    },
    "id": "eIN5yWRY-3TM",
    "outputId": "f16b5be8-ed20-4930-b14c-333187786948"
   },
   "outputs": [
    {
     "data": {
      "text/plain": [
       "17929"
      ]
     },
     "execution_count": 28,
     "metadata": {},
     "output_type": "execute_result"
    }
   ],
   "source": [
    "len(label_learned_representation)"
   ]
  },
  {
   "cell_type": "code",
   "execution_count": 29,
   "metadata": {
    "id": "ggyMPp_7AGcI"
   },
   "outputs": [],
   "source": [
    "# Get labels and representations as lists - input to KNN\n",
    "labels = list(label_learned_representation.keys())\n",
    "representations = list(label_learned_representation.values())"
   ]
  },
  {
   "cell_type": "code",
   "execution_count": 30,
   "metadata": {
    "colab": {
     "base_uri": "https://localhost:8080/"
    },
    "id": "hYHCIMG_AGXe",
    "outputId": "4af8a332-2739-4b85-b023-ebe782f6896e"
   },
   "outputs": [
    {
     "data": {
      "text/plain": [
       "array([  4.1850615,  12.385813 , -31.41682  , ..., -10.160907 ,\n",
       "       -37.876625 ,  31.235952 ], dtype=float32)"
      ]
     },
     "execution_count": 30,
     "metadata": {},
     "output_type": "execute_result"
    }
   ],
   "source": [
    "representations[0]"
   ]
  },
  {
   "cell_type": "code",
   "execution_count": 31,
   "metadata": {
    "id": "kKGF9KZ2-PPf"
   },
   "outputs": [],
   "source": [
    "sc = StandardScaler()\n",
    "sc.fit(representations)\n",
    "representations = sc.transform(representations)\n",
    "test_embeddings = sc.transform(test_embeddings)"
   ]
  },
  {
   "cell_type": "code",
   "execution_count": null,
   "metadata": {
    "id": "Q_3B_RS5-PFu"
   },
   "outputs": [],
   "source": [
    "# pca = PCA(n_components=target_dim)\n",
    "# representations = pca.fit_transform(representations)\n",
    "# test_embeddings = pca.transform(test_embeddings)"
   ]
  },
  {
   "cell_type": "code",
   "execution_count": 32,
   "metadata": {
    "id": "PUQt6_c3AGSn"
   },
   "outputs": [],
   "source": [
    "knn = KNeighborsClassifier(n_neighbors=10, n_jobs=-1)"
   ]
  },
  {
   "cell_type": "code",
   "execution_count": 33,
   "metadata": {
    "colab": {
     "base_uri": "https://localhost:8080/",
     "height": 75
    },
    "id": "KT-irdD8AGM2",
    "outputId": "79fdb7c2-9c42-40dd-a088-f42db470f1e7"
   },
   "outputs": [
    {
     "data": {
      "text/html": [
       "<style>#sk-container-id-1 {color: black;background-color: white;}#sk-container-id-1 pre{padding: 0;}#sk-container-id-1 div.sk-toggleable {background-color: white;}#sk-container-id-1 label.sk-toggleable__label {cursor: pointer;display: block;width: 100%;margin-bottom: 0;padding: 0.3em;box-sizing: border-box;text-align: center;}#sk-container-id-1 label.sk-toggleable__label-arrow:before {content: \"▸\";float: left;margin-right: 0.25em;color: #696969;}#sk-container-id-1 label.sk-toggleable__label-arrow:hover:before {color: black;}#sk-container-id-1 div.sk-estimator:hover label.sk-toggleable__label-arrow:before {color: black;}#sk-container-id-1 div.sk-toggleable__content {max-height: 0;max-width: 0;overflow: hidden;text-align: left;background-color: #f0f8ff;}#sk-container-id-1 div.sk-toggleable__content pre {margin: 0.2em;color: black;border-radius: 0.25em;background-color: #f0f8ff;}#sk-container-id-1 input.sk-toggleable__control:checked~div.sk-toggleable__content {max-height: 200px;max-width: 100%;overflow: auto;}#sk-container-id-1 input.sk-toggleable__control:checked~label.sk-toggleable__label-arrow:before {content: \"▾\";}#sk-container-id-1 div.sk-estimator input.sk-toggleable__control:checked~label.sk-toggleable__label {background-color: #d4ebff;}#sk-container-id-1 div.sk-label input.sk-toggleable__control:checked~label.sk-toggleable__label {background-color: #d4ebff;}#sk-container-id-1 input.sk-hidden--visually {border: 0;clip: rect(1px 1px 1px 1px);clip: rect(1px, 1px, 1px, 1px);height: 1px;margin: -1px;overflow: hidden;padding: 0;position: absolute;width: 1px;}#sk-container-id-1 div.sk-estimator {font-family: monospace;background-color: #f0f8ff;border: 1px dotted black;border-radius: 0.25em;box-sizing: border-box;margin-bottom: 0.5em;}#sk-container-id-1 div.sk-estimator:hover {background-color: #d4ebff;}#sk-container-id-1 div.sk-parallel-item::after {content: \"\";width: 100%;border-bottom: 1px solid gray;flex-grow: 1;}#sk-container-id-1 div.sk-label:hover label.sk-toggleable__label {background-color: #d4ebff;}#sk-container-id-1 div.sk-serial::before {content: \"\";position: absolute;border-left: 1px solid gray;box-sizing: border-box;top: 0;bottom: 0;left: 50%;z-index: 0;}#sk-container-id-1 div.sk-serial {display: flex;flex-direction: column;align-items: center;background-color: white;padding-right: 0.2em;padding-left: 0.2em;position: relative;}#sk-container-id-1 div.sk-item {position: relative;z-index: 1;}#sk-container-id-1 div.sk-parallel {display: flex;align-items: stretch;justify-content: center;background-color: white;position: relative;}#sk-container-id-1 div.sk-item::before, #sk-container-id-1 div.sk-parallel-item::before {content: \"\";position: absolute;border-left: 1px solid gray;box-sizing: border-box;top: 0;bottom: 0;left: 50%;z-index: -1;}#sk-container-id-1 div.sk-parallel-item {display: flex;flex-direction: column;z-index: 1;position: relative;background-color: white;}#sk-container-id-1 div.sk-parallel-item:first-child::after {align-self: flex-end;width: 50%;}#sk-container-id-1 div.sk-parallel-item:last-child::after {align-self: flex-start;width: 50%;}#sk-container-id-1 div.sk-parallel-item:only-child::after {width: 0;}#sk-container-id-1 div.sk-dashed-wrapped {border: 1px dashed gray;margin: 0 0.4em 0.5em 0.4em;box-sizing: border-box;padding-bottom: 0.4em;background-color: white;}#sk-container-id-1 div.sk-label label {font-family: monospace;font-weight: bold;display: inline-block;line-height: 1.2em;}#sk-container-id-1 div.sk-label-container {text-align: center;}#sk-container-id-1 div.sk-container {/* jupyter's `normalize.less` sets `[hidden] { display: none; }` but bootstrap.min.css set `[hidden] { display: none !important; }` so we also need the `!important` here to be able to override the default hidden behavior on the sphinx rendered scikit-learn.org. See: https://github.com/scikit-learn/scikit-learn/issues/21755 */display: inline-block !important;position: relative;}#sk-container-id-1 div.sk-text-repr-fallback {display: none;}</style><div id=\"sk-container-id-1\" class=\"sk-top-container\"><div class=\"sk-text-repr-fallback\"><pre>KNeighborsClassifier(n_jobs=-1, n_neighbors=10)</pre><b>In a Jupyter environment, please rerun this cell to show the HTML representation or trust the notebook. <br />On GitHub, the HTML representation is unable to render, please try loading this page with nbviewer.org.</b></div><div class=\"sk-container\" hidden><div class=\"sk-item\"><div class=\"sk-estimator sk-toggleable\"><input class=\"sk-toggleable__control sk-hidden--visually\" id=\"sk-estimator-id-1\" type=\"checkbox\" checked><label for=\"sk-estimator-id-1\" class=\"sk-toggleable__label sk-toggleable__label-arrow\">KNeighborsClassifier</label><div class=\"sk-toggleable__content\"><pre>KNeighborsClassifier(n_jobs=-1, n_neighbors=10)</pre></div></div></div></div></div>"
      ],
      "text/plain": [
       "KNeighborsClassifier(n_jobs=-1, n_neighbors=10)"
      ]
     },
     "execution_count": 33,
     "metadata": {},
     "output_type": "execute_result"
    }
   ],
   "source": [
    "knn.fit(representations, labels)"
   ]
  },
  {
   "cell_type": "code",
   "execution_count": 34,
   "metadata": {
    "colab": {
     "base_uri": "https://localhost:8080/"
    },
    "id": "zxcsUeRS8p0b",
    "outputId": "bcb513b2-7b5d-4516-84fa-73121f64f82f"
   },
   "outputs": [
    {
     "name": "stdout",
     "output_type": "stream",
     "text": [
      "CPU times: user 6min 40s, sys: 28.4 s, total: 7min 9s\n",
      "Wall time: 5min 27s\n"
     ]
    }
   ],
   "source": [
    "%%time\n",
    "preds = knn.predict(test_embeddings)"
   ]
  },
  {
   "cell_type": "code",
   "execution_count": 35,
   "metadata": {
    "id": "VjLlto94B6GX"
   },
   "outputs": [],
   "source": [
    "test_df[f'predicted_label_KNN'] = preds"
   ]
  },
  {
   "cell_type": "code",
   "execution_count": null,
   "metadata": {
    "id": "VoQbRQr4A2GJ"
   },
   "outputs": [],
   "source": [
    "# Save predictions\n",
    "test_df.to_csv('/content/test_preds_KNN.csv', index=True)"
   ]
  },
  {
   "cell_type": "code",
   "execution_count": null,
   "metadata": {
    "id": "4rDez22YCUW9"
   },
   "outputs": [],
   "source": []
  }
 ],
 "metadata": {
  "colab": {
   "provenance": []
  },
  "kernelspec": {
   "display_name": "Python 3 (ipykernel)",
   "language": "python",
   "name": "python3"
  },
  "language_info": {
   "codemirror_mode": {
    "name": "ipython",
    "version": 3
   },
   "file_extension": ".py",
   "mimetype": "text/x-python",
   "name": "python",
   "nbconvert_exporter": "python",
   "pygments_lexer": "ipython3",
   "version": "3.7.4"
  }
 },
 "nbformat": 4,
 "nbformat_minor": 1
}
