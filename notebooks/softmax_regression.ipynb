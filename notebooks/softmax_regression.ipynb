{
  "nbformat": 4,
  "nbformat_minor": 0,
  "metadata": {
    "colab": {
      "provenance": [],
      "gpuType": "T4"
    },
    "kernelspec": {
      "name": "python3",
      "display_name": "Python 3"
    },
    "language_info": {
      "name": "python"
    },
    "gpuClass": "standard",
    "accelerator": "GPU"
  },
  "cells": [
    {
      "cell_type": "markdown",
      "source": [
        "# Softmax Regression | BoW sequence representation\n",
        "\n",
        "Training a Bag-of-Words (BoW) based Softmax Regression model.  \n",
        "\n",
        "Bag-of-Words Model used to represent the Feature Vector - numeric representation of the protein sequence. "
      ],
      "metadata": {
        "id": "1tGxwf0fp96S"
      }
    },
    {
      "cell_type": "code",
      "source": [
        "# Jupyter caches all library imports and only loads them once, unless restart the kernel\n",
        "# when you update the .py files in src/, the changes are not picked up by Jupyter.\n",
        "# to solve this, you just add these 2 lines at the beginning of your notebook.\n",
        "%load_ext autoreload\n",
        "%autoreload 2"
      ],
      "metadata": {
        "id": "2DwIwZD5dUtp"
      },
      "execution_count": 1,
      "outputs": []
    },
    {
      "cell_type": "code",
      "source": [
        "%matplotlib inline"
      ],
      "metadata": {
        "id": "JBbrcN9Zczrz"
      },
      "execution_count": 2,
      "outputs": []
    },
    {
      "cell_type": "code",
      "source": [
        "import pandas as pd\n",
        "import numpy as np\n",
        "import argparse\n",
        "import time\n",
        "import torch\n",
        "from torch.utils.data import Dataset, DataLoader"
      ],
      "metadata": {
        "id": "ixZIkvE9j1v5"
      },
      "execution_count": 3,
      "outputs": []
    },
    {
      "cell_type": "code",
      "source": [
        "# Colab - connect Google Drive \n",
        "from google.colab import drive\n",
        "drive.mount('/content/drive')"
      ],
      "metadata": {
        "colab": {
          "base_uri": "https://localhost:8080/"
        },
        "id": "m-8rOS4bjnBc",
        "outputId": "acd98d5c-4f7d-47a4-e0b2-52c005d7bf28"
      },
      "execution_count": 4,
      "outputs": [
        {
          "output_type": "stream",
          "name": "stdout",
          "text": [
            "Mounted at /content/drive\n"
          ]
        }
      ]
    },
    {
      "cell_type": "code",
      "source": [
        "import sys\n",
        "sys.path.append('/content/drive/MyDrive/colabProteinProject/src/protein_universe_annotate')"
      ],
      "metadata": {
        "id": "FZxHeW9VwxOm"
      },
      "execution_count": 5,
      "outputs": []
    },
    {
      "cell_type": "code",
      "source": [
        "from data_exploration import get_partitions_info"
      ],
      "metadata": {
        "id": "Q1pVA-b6wyMn"
      },
      "execution_count": 6,
      "outputs": []
    },
    {
      "cell_type": "code",
      "source": [
        "from data_processing import fit_count_vectorizer\n",
        "from ProteinDataset import ProteinDataset\n",
        "from ProteinModel import SoftmaxRegression, ProteinModel\n",
        "from viz_tools import plot_loss_and_accuracy_curves"
      ],
      "metadata": {
        "id": "Io2F5a_gZFGW"
      },
      "execution_count": 7,
      "outputs": []
    },
    {
      "cell_type": "code",
      "source": [
        "# Hyperparameters\n",
        "learning_rate = 0.001\n",
        "num_epochs = 10\n",
        "batch_size = 128\n",
        "max_features = 1000"
      ],
      "metadata": {
        "id": "4jOQ5HDPa8RH"
      },
      "execution_count": 8,
      "outputs": []
    },
    {
      "cell_type": "markdown",
      "source": [
        "## Read filtered dataset"
      ],
      "metadata": {
        "id": "pggyi6GVsLwb"
      }
    },
    {
      "cell_type": "code",
      "source": [
        "train_data_path = '/content/drive/MyDrive/colabProteinProject/data/train_filtered.csv'\n",
        "test_data_path = '/content/drive/MyDrive/colabProteinProject/data/test_filtered.csv'\n",
        "dev_data_path = '/content/drive/MyDrive/colabProteinProject/data/dev_filtered.csv'\n",
        "\n",
        "output_dir = '/content/drive/MyDrive/colabProteinProject/outputs/softmax_reg'"
      ],
      "metadata": {
        "id": "Mbm7OJN6ZeEB"
      },
      "execution_count": 9,
      "outputs": []
    },
    {
      "cell_type": "code",
      "source": [
        "# Read the data\n",
        "train_df = pd.read_csv(train_data_path)\n",
        "test_df = pd.read_csv(test_data_path)\n",
        "dev_df = pd.read_csv(dev_data_path)"
      ],
      "metadata": {
        "id": "3qkCwUUTZcrm"
      },
      "execution_count": 10,
      "outputs": []
    },
    {
      "cell_type": "code",
      "source": [
        "get_partitions_info([train_df, dev_df, test_df], ['Train', 'Dev', 'Test'])"
      ],
      "metadata": {
        "colab": {
          "base_uri": "https://localhost:8080/",
          "height": 207
        },
        "id": "7ebaoKr4w2fo",
        "outputId": "4033cb4f-6e63-4f23-e24b-dba65a1513f5"
      },
      "execution_count": 11,
      "outputs": [
        {
          "output_type": "execute_result",
          "data": {
            "text/plain": [
              "  partition  num_of_samples  num_of_true_class  max_samples_per_class  \\\n",
              "0     Train          535614               1792                   3637   \n",
              "1       Dev           65939               1792                    454   \n",
              "2      Test           65913               1792                    454   \n",
              "\n",
              "   min_samples_per_class  min_seq_length  max_seq_length  avg_seq_length  \n",
              "0                    127              30             300      121.708271  \n",
              "1                     12              30             300      121.743339  \n",
              "2                     12              30             300      121.577382  "
            ],
            "text/html": [
              "\n",
              "  <div id=\"df-23b5b9f7-6606-4faf-9364-b91b34da6be8\">\n",
              "    <div class=\"colab-df-container\">\n",
              "      <div>\n",
              "<style scoped>\n",
              "    .dataframe tbody tr th:only-of-type {\n",
              "        vertical-align: middle;\n",
              "    }\n",
              "\n",
              "    .dataframe tbody tr th {\n",
              "        vertical-align: top;\n",
              "    }\n",
              "\n",
              "    .dataframe thead th {\n",
              "        text-align: right;\n",
              "    }\n",
              "</style>\n",
              "<table border=\"1\" class=\"dataframe\">\n",
              "  <thead>\n",
              "    <tr style=\"text-align: right;\">\n",
              "      <th></th>\n",
              "      <th>partition</th>\n",
              "      <th>num_of_samples</th>\n",
              "      <th>num_of_true_class</th>\n",
              "      <th>max_samples_per_class</th>\n",
              "      <th>min_samples_per_class</th>\n",
              "      <th>min_seq_length</th>\n",
              "      <th>max_seq_length</th>\n",
              "      <th>avg_seq_length</th>\n",
              "    </tr>\n",
              "  </thead>\n",
              "  <tbody>\n",
              "    <tr>\n",
              "      <th>0</th>\n",
              "      <td>Train</td>\n",
              "      <td>535614</td>\n",
              "      <td>1792</td>\n",
              "      <td>3637</td>\n",
              "      <td>127</td>\n",
              "      <td>30</td>\n",
              "      <td>300</td>\n",
              "      <td>121.708271</td>\n",
              "    </tr>\n",
              "    <tr>\n",
              "      <th>1</th>\n",
              "      <td>Dev</td>\n",
              "      <td>65939</td>\n",
              "      <td>1792</td>\n",
              "      <td>454</td>\n",
              "      <td>12</td>\n",
              "      <td>30</td>\n",
              "      <td>300</td>\n",
              "      <td>121.743339</td>\n",
              "    </tr>\n",
              "    <tr>\n",
              "      <th>2</th>\n",
              "      <td>Test</td>\n",
              "      <td>65913</td>\n",
              "      <td>1792</td>\n",
              "      <td>454</td>\n",
              "      <td>12</td>\n",
              "      <td>30</td>\n",
              "      <td>300</td>\n",
              "      <td>121.577382</td>\n",
              "    </tr>\n",
              "  </tbody>\n",
              "</table>\n",
              "</div>\n",
              "      <button class=\"colab-df-convert\" onclick=\"convertToInteractive('df-23b5b9f7-6606-4faf-9364-b91b34da6be8')\"\n",
              "              title=\"Convert this dataframe to an interactive table.\"\n",
              "              style=\"display:none;\">\n",
              "        \n",
              "  <svg xmlns=\"http://www.w3.org/2000/svg\" height=\"24px\"viewBox=\"0 0 24 24\"\n",
              "       width=\"24px\">\n",
              "    <path d=\"M0 0h24v24H0V0z\" fill=\"none\"/>\n",
              "    <path d=\"M18.56 5.44l.94 2.06.94-2.06 2.06-.94-2.06-.94-.94-2.06-.94 2.06-2.06.94zm-11 1L8.5 8.5l.94-2.06 2.06-.94-2.06-.94L8.5 2.5l-.94 2.06-2.06.94zm10 10l.94 2.06.94-2.06 2.06-.94-2.06-.94-.94-2.06-.94 2.06-2.06.94z\"/><path d=\"M17.41 7.96l-1.37-1.37c-.4-.4-.92-.59-1.43-.59-.52 0-1.04.2-1.43.59L10.3 9.45l-7.72 7.72c-.78.78-.78 2.05 0 2.83L4 21.41c.39.39.9.59 1.41.59.51 0 1.02-.2 1.41-.59l7.78-7.78 2.81-2.81c.8-.78.8-2.07 0-2.86zM5.41 20L4 18.59l7.72-7.72 1.47 1.35L5.41 20z\"/>\n",
              "  </svg>\n",
              "      </button>\n",
              "      \n",
              "  <style>\n",
              "    .colab-df-container {\n",
              "      display:flex;\n",
              "      flex-wrap:wrap;\n",
              "      gap: 12px;\n",
              "    }\n",
              "\n",
              "    .colab-df-convert {\n",
              "      background-color: #E8F0FE;\n",
              "      border: none;\n",
              "      border-radius: 50%;\n",
              "      cursor: pointer;\n",
              "      display: none;\n",
              "      fill: #1967D2;\n",
              "      height: 32px;\n",
              "      padding: 0 0 0 0;\n",
              "      width: 32px;\n",
              "    }\n",
              "\n",
              "    .colab-df-convert:hover {\n",
              "      background-color: #E2EBFA;\n",
              "      box-shadow: 0px 1px 2px rgba(60, 64, 67, 0.3), 0px 1px 3px 1px rgba(60, 64, 67, 0.15);\n",
              "      fill: #174EA6;\n",
              "    }\n",
              "\n",
              "    [theme=dark] .colab-df-convert {\n",
              "      background-color: #3B4455;\n",
              "      fill: #D2E3FC;\n",
              "    }\n",
              "\n",
              "    [theme=dark] .colab-df-convert:hover {\n",
              "      background-color: #434B5C;\n",
              "      box-shadow: 0px 1px 3px 1px rgba(0, 0, 0, 0.15);\n",
              "      filter: drop-shadow(0px 1px 2px rgba(0, 0, 0, 0.3));\n",
              "      fill: #FFFFFF;\n",
              "    }\n",
              "  </style>\n",
              "\n",
              "      <script>\n",
              "        const buttonEl =\n",
              "          document.querySelector('#df-23b5b9f7-6606-4faf-9364-b91b34da6be8 button.colab-df-convert');\n",
              "        buttonEl.style.display =\n",
              "          google.colab.kernel.accessAllowed ? 'block' : 'none';\n",
              "\n",
              "        async function convertToInteractive(key) {\n",
              "          const element = document.querySelector('#df-23b5b9f7-6606-4faf-9364-b91b34da6be8');\n",
              "          const dataTable =\n",
              "            await google.colab.kernel.invokeFunction('convertToInteractive',\n",
              "                                                     [key], {});\n",
              "          if (!dataTable) return;\n",
              "\n",
              "          const docLinkHtml = 'Like what you see? Visit the ' +\n",
              "            '<a target=\"_blank\" href=https://colab.research.google.com/notebooks/data_table.ipynb>data table notebook</a>'\n",
              "            + ' to learn more about interactive tables.';\n",
              "          element.innerHTML = '';\n",
              "          dataTable['output_type'] = 'display_data';\n",
              "          await google.colab.output.renderOutput(dataTable, element);\n",
              "          const docLink = document.createElement('div');\n",
              "          docLink.innerHTML = docLinkHtml;\n",
              "          element.appendChild(docLink);\n",
              "        }\n",
              "      </script>\n",
              "    </div>\n",
              "  </div>\n",
              "  "
            ]
          },
          "metadata": {},
          "execution_count": 11
        }
      ]
    },
    {
      "cell_type": "code",
      "source": [
        "# Get all input protein sequences to learn BoW feature representation\n",
        "all_sequences = train_df['sequence'].tolist() + dev_df['sequence'].tolist() + test_df['sequence'].tolist()"
      ],
      "metadata": {
        "id": "xZy8jWlXZqGX"
      },
      "execution_count": 12,
      "outputs": []
    },
    {
      "cell_type": "code",
      "source": [
        "# Fit CountVectorizer to learn the vocabulary and set indices for amino acids\n",
        "ngrams_bow_model = fit_count_vectorizer(ngram_range=(1, 3), max_features=max_features,\n",
        "                                        input_sequences=all_sequences)"
      ],
      "metadata": {
        "id": "jHcb1p-2Zy93"
      },
      "execution_count": 13,
      "outputs": []
    },
    {
      "cell_type": "code",
      "source": [
        "num_features = len(ngrams_bow_model.vocabulary_)\n",
        "num_classes = len(np.unique(np.concatenate((train_df[\"true_label_encoded\"].values,\n",
        "                                            test_df[\"true_label_encoded\"].values,\n",
        "                                            dev_df[\"true_label_encoded\"].values))))"
      ],
      "metadata": {
        "id": "CInnjIJiZ_Sm"
      },
      "execution_count": 14,
      "outputs": []
    },
    {
      "cell_type": "code",
      "source": [
        "# Define a custom dataset class to be used with data loader object\n",
        "datasets = {\n",
        "    name: ProteinDataset(raw_seqs=data_df['sequence'],\n",
        "                            seq_encoder=ngrams_bow_model,\n",
        "                            labels=data_df[\"true_label_encoded\"].values)\n",
        "    for name, data_df in zip(['train', 'dev', 'test'], [train_df, dev_df, test_df])\n",
        "}"
      ],
      "metadata": {
        "id": "WEeAE-zRZ_L9"
      },
      "execution_count": 15,
      "outputs": []
    },
    {
      "cell_type": "code",
      "source": [
        "# Create a data loader object for each partition\n",
        "# Set shuffle parameter to True only for the training data loader\n",
        "dataloaders = {\n",
        "    name: DataLoader(datasets[name],\n",
        "                        batch_size=batch_size,\n",
        "                        shuffle=(name == 'train'))\n",
        "    for name in datasets\n",
        "}"
      ],
      "metadata": {
        "id": "puhk4M6BZ_E3"
      },
      "execution_count": 16,
      "outputs": []
    },
    {
      "cell_type": "code",
      "source": [
        "# Checking the dataset\n",
        "for seqs, labels in dataloaders['train']:  \n",
        "    print('Batch *sequences* dimensions:', seqs.shape)\n",
        "    print('Batch *labels* dimensions:', labels.shape)\n",
        "    break"
      ],
      "metadata": {
        "colab": {
          "base_uri": "https://localhost:8080/"
        },
        "id": "to3h2r2a2tU6",
        "outputId": "4de1be13-9b79-42c0-f22b-5ca8cc65bf17"
      },
      "execution_count": 17,
      "outputs": [
        {
          "output_type": "stream",
          "name": "stdout",
          "text": [
            "Batch *sequences* dimensions: torch.Size([128, 1000])\n",
            "Batch *labels* dimensions: torch.Size([128])\n"
          ]
        }
      ]
    },
    {
      "cell_type": "markdown",
      "source": [
        "## Softmax Regression Classifier\n",
        "\n",
        "## Softmax regression\n",
        "\n",
        "Softmax regression is a **linear** model that **generalizes logistic regression** to account for **multi-class problems**. It is used to establish a **baseline**.\n",
        "\n",
        "\\begin{align}\n",
        "f_\\theta(x) &= \\text{Softmax}(xW+b)\n",
        "\\end{align}\n",
        "\n",
        "Where:\n",
        "\n",
        "* $f_\\theta$ is the model with parameters $\\theta = {W,b}$. \n",
        "* $x$ is the **bag-of-ngrams** input vector of size $q$ - size of BoW vocabulary.\n",
        "* $W$ is the weight paremeters matrix of size $q \\times c$ with $c$ being the number of classes.\n",
        "* $b$ is the bias parameters vector of size $c$.\n",
        "\n",
        "**Why softmax regression?** \n",
        "* Natural fit for multi-class classification with the softmax non-linearity enforcing the output to be a probability distribution over mutually exclusive classes."
      ],
      "metadata": {
        "id": "VegwdFof9SBS"
      }
    },
    {
      "cell_type": "code",
      "source": [
        "# Architecture\n",
        "num_features = num_features\n",
        "num_classes = num_classes\n",
        "\n",
        "device = torch.device(\"cuda:0\" if torch.cuda.is_available() else \"cpu\")"
      ],
      "metadata": {
        "id": "_8RSyFli2Qj7"
      },
      "execution_count": 18,
      "outputs": []
    },
    {
      "cell_type": "code",
      "source": [
        "# Initialize softmax regression model, loss function, and optimizer\n",
        "softmax_regression_model = SoftmaxRegression(num_features=num_features,\n",
        "                                             num_classes=num_classes)"
      ],
      "metadata": {
        "id": "k-RVCq7abQFI"
      },
      "execution_count": 19,
      "outputs": []
    },
    {
      "cell_type": "code",
      "source": [
        "loss_fn = torch.nn.CrossEntropyLoss()\n",
        "optimizer = torch.optim.Adam(softmax_regression_model.parameters(), lr=learning_rate)"
      ],
      "metadata": {
        "id": "FMTMXzLabSSq"
      },
      "execution_count": 20,
      "outputs": []
    },
    {
      "cell_type": "code",
      "source": [
        "# Initialize ProteinModel with softmax regression model as a backbone for training and evaluation\n",
        "model = ProteinModel(softmax_regression_model)"
      ],
      "metadata": {
        "id": "C5r4BLTcbUG2"
      },
      "execution_count": 21,
      "outputs": []
    },
    {
      "cell_type": "code",
      "source": [
        "start_time = time.time()\n",
        "epoch_loss = {'train': [], 'val': []}\n",
        "epoch_acc = {'train': [], 'val': []}\n",
        "\n",
        "for epoch in range(num_epochs):\n",
        "    train_loss_avg, train_acc_total = model.train(dataloaders['train'], loss_fn, optimizer)\n",
        "    val_loss_avg, val_acc_total = model.evaluate(dataloaders['dev'], loss_fn)\n",
        "\n",
        "    epoch_loss['train'].append(train_loss_avg)\n",
        "    epoch_loss['val'].append(val_loss_avg)\n",
        "    epoch_acc['train'].append(train_acc_total)\n",
        "    epoch_acc['val'].append(val_acc_total)\n",
        "\n",
        "    print(f'\\n[EPOCH:{epoch + 1:3d}/{num_epochs}]',\n",
        "            f'train.loss: {train_loss_avg:.4f}',\n",
        "            f'train.acc: {100 * train_acc_total:3.2f}%',\n",
        "            f'val.loss: {val_loss_avg:.4f}',\n",
        "            f'val.acc: {100 * val_acc_total:3.2f}%')\n",
        "    print(f'Time elapsed: {((time.time() - start_time) / 60):.2f} mins \\n')"
      ],
      "metadata": {
        "colab": {
          "base_uri": "https://localhost:8080/"
        },
        "id": "eo3iLE0gbT9e",
        "outputId": "0c307bb3-84ab-4999-ac84-0d7ba989a852"
      },
      "execution_count": 22,
      "outputs": [
        {
          "output_type": "stream",
          "name": "stdout",
          "text": [
            "Batch 0/4185, Loss: 7.8992, Accuracy: 0.00%\n",
            "Batch 250/4185, Loss: 3.9775, Accuracy: 26.80%\n",
            "Batch 500/4185, Loss: 2.1168, Accuracy: 42.99%\n",
            "Batch 750/4185, Loss: 2.2189, Accuracy: 51.66%\n",
            "Batch 1000/4185, Loss: 1.5289, Accuracy: 57.41%\n",
            "Batch 1250/4185, Loss: 1.3306, Accuracy: 61.49%\n",
            "Batch 1500/4185, Loss: 1.2321, Accuracy: 64.52%\n",
            "Batch 1750/4185, Loss: 1.2007, Accuracy: 66.92%\n",
            "Batch 2000/4185, Loss: 1.0828, Accuracy: 68.91%\n",
            "Batch 2250/4185, Loss: 1.0258, Accuracy: 70.53%\n",
            "Batch 2500/4185, Loss: 0.5884, Accuracy: 71.96%\n",
            "Batch 2750/4185, Loss: 0.7321, Accuracy: 73.18%\n",
            "Batch 3000/4185, Loss: 0.7033, Accuracy: 74.29%\n",
            "Batch 3250/4185, Loss: 0.5942, Accuracy: 75.25%\n",
            "Batch 3500/4185, Loss: 0.7214, Accuracy: 76.11%\n",
            "Batch 3750/4185, Loss: 0.8157, Accuracy: 76.86%\n",
            "Batch 4000/4185, Loss: 0.7333, Accuracy: 77.55%\n",
            "\n",
            "[EPOCH:  1/10] train.loss: 0.0118 train.acc: 78.02% val.loss: 0.0049 val.acc: 88.44%\n",
            "Time elapsed: 0.30 mins \n",
            "\n",
            "Batch 0/4185, Loss: 0.4047, Accuracy: 94.53%\n",
            "Batch 250/4185, Loss: 0.4149, Accuracy: 94.46%\n",
            "Batch 500/4185, Loss: 0.4145, Accuracy: 94.43%\n",
            "Batch 750/4185, Loss: 0.2262, Accuracy: 94.41%\n",
            "Batch 1000/4185, Loss: 0.4037, Accuracy: 94.45%\n",
            "Batch 1250/4185, Loss: 0.2771, Accuracy: 94.46%\n",
            "Batch 1500/4185, Loss: 0.3328, Accuracy: 94.51%\n",
            "Batch 1750/4185, Loss: 0.2539, Accuracy: 94.48%\n",
            "Batch 2000/4185, Loss: 0.2772, Accuracy: 94.49%\n",
            "Batch 2250/4185, Loss: 0.2997, Accuracy: 94.49%\n",
            "Batch 2500/4185, Loss: 0.2229, Accuracy: 94.51%\n",
            "Batch 2750/4185, Loss: 0.2328, Accuracy: 94.51%\n",
            "Batch 3000/4185, Loss: 0.3565, Accuracy: 94.52%\n",
            "Batch 3250/4185, Loss: 0.2446, Accuracy: 94.51%\n",
            "Batch 3500/4185, Loss: 0.1522, Accuracy: 94.51%\n",
            "Batch 3750/4185, Loss: 0.2311, Accuracy: 94.51%\n",
            "Batch 4000/4185, Loss: 0.1969, Accuracy: 94.52%\n",
            "\n",
            "[EPOCH:  2/10] train.loss: 0.0024 train.acc: 94.51% val.loss: 0.0036 val.acc: 90.33%\n",
            "Time elapsed: 0.51 mins \n",
            "\n",
            "Batch 0/4185, Loss: 0.1493, Accuracy: 98.44%\n",
            "Batch 250/4185, Loss: 0.1088, Accuracy: 97.75%\n",
            "Batch 500/4185, Loss: 0.0559, Accuracy: 97.70%\n",
            "Batch 750/4185, Loss: 0.1188, Accuracy: 97.66%\n",
            "Batch 1000/4185, Loss: 0.1916, Accuracy: 97.66%\n",
            "Batch 1250/4185, Loss: 0.1999, Accuracy: 97.63%\n",
            "Batch 1500/4185, Loss: 0.1021, Accuracy: 97.62%\n",
            "Batch 1750/4185, Loss: 0.1953, Accuracy: 97.59%\n",
            "Batch 2000/4185, Loss: 0.1672, Accuracy: 97.56%\n",
            "Batch 2250/4185, Loss: 0.1457, Accuracy: 97.51%\n",
            "Batch 2500/4185, Loss: 0.2280, Accuracy: 97.48%\n",
            "Batch 2750/4185, Loss: 0.1259, Accuracy: 97.46%\n",
            "Batch 3000/4185, Loss: 0.1037, Accuracy: 97.44%\n",
            "Batch 3250/4185, Loss: 0.1345, Accuracy: 97.42%\n",
            "Batch 3500/4185, Loss: 0.0967, Accuracy: 97.40%\n",
            "Batch 3750/4185, Loss: 0.0866, Accuracy: 97.36%\n",
            "Batch 4000/4185, Loss: 0.1260, Accuracy: 97.33%\n",
            "\n",
            "[EPOCH:  3/10] train.loss: 0.0011 train.acc: 97.31% val.loss: 0.0033 val.acc: 90.60%\n",
            "Time elapsed: 0.71 mins \n",
            "\n",
            "Batch 0/4185, Loss: 0.0800, Accuracy: 98.44%\n",
            "Batch 250/4185, Loss: 0.0490, Accuracy: 98.89%\n",
            "Batch 500/4185, Loss: 0.1290, Accuracy: 98.90%\n",
            "Batch 750/4185, Loss: 0.1683, Accuracy: 98.88%\n",
            "Batch 1000/4185, Loss: 0.0413, Accuracy: 98.87%\n",
            "Batch 1250/4185, Loss: 0.0650, Accuracy: 98.86%\n",
            "Batch 1500/4185, Loss: 0.0356, Accuracy: 98.83%\n",
            "Batch 1750/4185, Loss: 0.0753, Accuracy: 98.80%\n",
            "Batch 2000/4185, Loss: 0.0760, Accuracy: 98.77%\n",
            "Batch 2250/4185, Loss: 0.0448, Accuracy: 98.74%\n",
            "Batch 2500/4185, Loss: 0.1407, Accuracy: 98.70%\n",
            "Batch 2750/4185, Loss: 0.0273, Accuracy: 98.68%\n",
            "Batch 3000/4185, Loss: 0.1029, Accuracy: 98.64%\n",
            "Batch 3250/4185, Loss: 0.1482, Accuracy: 98.62%\n",
            "Batch 3500/4185, Loss: 0.1002, Accuracy: 98.60%\n",
            "Batch 3750/4185, Loss: 0.0845, Accuracy: 98.57%\n",
            "Batch 4000/4185, Loss: 0.1095, Accuracy: 98.54%\n",
            "\n",
            "[EPOCH:  4/10] train.loss: 0.0007 train.acc: 98.53% val.loss: 0.0032 val.acc: 90.87%\n",
            "Time elapsed: 0.92 mins \n",
            "\n",
            "Batch 0/4185, Loss: 0.0549, Accuracy: 100.00%\n",
            "Batch 250/4185, Loss: 0.0393, Accuracy: 99.39%\n",
            "Batch 500/4185, Loss: 0.0146, Accuracy: 99.41%\n",
            "Batch 750/4185, Loss: 0.0628, Accuracy: 99.40%\n",
            "Batch 1000/4185, Loss: 0.0242, Accuracy: 99.38%\n",
            "Batch 1250/4185, Loss: 0.0930, Accuracy: 99.35%\n",
            "Batch 1500/4185, Loss: 0.0742, Accuracy: 99.34%\n",
            "Batch 1750/4185, Loss: 0.0799, Accuracy: 99.33%\n",
            "Batch 2000/4185, Loss: 0.0308, Accuracy: 99.30%\n",
            "Batch 2250/4185, Loss: 0.0806, Accuracy: 99.28%\n",
            "Batch 2500/4185, Loss: 0.0638, Accuracy: 99.26%\n",
            "Batch 2750/4185, Loss: 0.0514, Accuracy: 99.23%\n",
            "Batch 3000/4185, Loss: 0.0523, Accuracy: 99.21%\n",
            "Batch 3250/4185, Loss: 0.0494, Accuracy: 99.19%\n",
            "Batch 3500/4185, Loss: 0.0795, Accuracy: 99.17%\n",
            "Batch 3750/4185, Loss: 0.0803, Accuracy: 99.16%\n",
            "Batch 4000/4185, Loss: 0.0315, Accuracy: 99.14%\n",
            "\n",
            "[EPOCH:  5/10] train.loss: 0.0004 train.acc: 99.12% val.loss: 0.0032 val.acc: 90.81%\n",
            "Time elapsed: 1.12 mins \n",
            "\n",
            "Batch 0/4185, Loss: 0.0197, Accuracy: 100.00%\n",
            "Batch 250/4185, Loss: 0.0351, Accuracy: 99.67%\n",
            "Batch 500/4185, Loss: 0.0249, Accuracy: 99.65%\n",
            "Batch 750/4185, Loss: 0.0246, Accuracy: 99.63%\n",
            "Batch 1000/4185, Loss: 0.0257, Accuracy: 99.61%\n",
            "Batch 1250/4185, Loss: 0.0206, Accuracy: 99.61%\n",
            "Batch 1500/4185, Loss: 0.0354, Accuracy: 99.61%\n",
            "Batch 1750/4185, Loss: 0.0312, Accuracy: 99.60%\n",
            "Batch 2000/4185, Loss: 0.0507, Accuracy: 99.58%\n",
            "Batch 2250/4185, Loss: 0.0255, Accuracy: 99.56%\n",
            "Batch 2500/4185, Loss: 0.0245, Accuracy: 99.54%\n",
            "Batch 2750/4185, Loss: 0.0395, Accuracy: 99.53%\n",
            "Batch 3000/4185, Loss: 0.0480, Accuracy: 99.51%\n",
            "Batch 3250/4185, Loss: 0.0297, Accuracy: 99.50%\n",
            "Batch 3500/4185, Loss: 0.0748, Accuracy: 99.48%\n",
            "Batch 3750/4185, Loss: 0.0239, Accuracy: 99.47%\n",
            "Batch 4000/4185, Loss: 0.0527, Accuracy: 99.46%\n",
            "\n",
            "[EPOCH:  6/10] train.loss: 0.0003 train.acc: 99.45% val.loss: 0.0032 val.acc: 90.68%\n",
            "Time elapsed: 1.31 mins \n",
            "\n",
            "Batch 0/4185, Loss: 0.0181, Accuracy: 100.00%\n",
            "Batch 250/4185, Loss: 0.0131, Accuracy: 99.79%\n",
            "Batch 500/4185, Loss: 0.0168, Accuracy: 99.80%\n",
            "Batch 750/4185, Loss: 0.0218, Accuracy: 99.77%\n",
            "Batch 1000/4185, Loss: 0.0111, Accuracy: 99.77%\n",
            "Batch 1250/4185, Loss: 0.0243, Accuracy: 99.77%\n",
            "Batch 1500/4185, Loss: 0.0313, Accuracy: 99.75%\n",
            "Batch 1750/4185, Loss: 0.0380, Accuracy: 99.74%\n",
            "Batch 2000/4185, Loss: 0.0245, Accuracy: 99.72%\n",
            "Batch 2250/4185, Loss: 0.0113, Accuracy: 99.72%\n",
            "Batch 2500/4185, Loss: 0.0120, Accuracy: 99.71%\n",
            "Batch 2750/4185, Loss: 0.0176, Accuracy: 99.70%\n",
            "Batch 3000/4185, Loss: 0.0131, Accuracy: 99.69%\n",
            "Batch 3250/4185, Loss: 0.0319, Accuracy: 99.68%\n",
            "Batch 3500/4185, Loss: 0.0141, Accuracy: 99.67%\n",
            "Batch 3750/4185, Loss: 0.0277, Accuracy: 99.65%\n",
            "Batch 4000/4185, Loss: 0.0495, Accuracy: 99.64%\n",
            "\n",
            "[EPOCH:  7/10] train.loss: 0.0002 train.acc: 99.62% val.loss: 0.0034 val.acc: 90.56%\n",
            "Time elapsed: 1.53 mins \n",
            "\n",
            "Batch 0/4185, Loss: 0.0123, Accuracy: 100.00%\n",
            "Batch 250/4185, Loss: 0.0065, Accuracy: 99.86%\n",
            "Batch 500/4185, Loss: 0.0256, Accuracy: 99.88%\n",
            "Batch 750/4185, Loss: 0.0057, Accuracy: 99.88%\n",
            "Batch 1000/4185, Loss: 0.0208, Accuracy: 99.87%\n",
            "Batch 1250/4185, Loss: 0.0185, Accuracy: 99.86%\n",
            "Batch 1500/4185, Loss: 0.0408, Accuracy: 99.85%\n",
            "Batch 1750/4185, Loss: 0.0069, Accuracy: 99.84%\n",
            "Batch 2000/4185, Loss: 0.0126, Accuracy: 99.83%\n",
            "Batch 2250/4185, Loss: 0.0083, Accuracy: 99.83%\n",
            "Batch 2500/4185, Loss: 0.0293, Accuracy: 99.81%\n",
            "Batch 2750/4185, Loss: 0.0528, Accuracy: 99.80%\n",
            "Batch 3000/4185, Loss: 0.0448, Accuracy: 99.80%\n",
            "Batch 3250/4185, Loss: 0.0112, Accuracy: 99.78%\n",
            "Batch 3500/4185, Loss: 0.0228, Accuracy: 99.77%\n",
            "Batch 3750/4185, Loss: 0.0212, Accuracy: 99.76%\n",
            "Batch 4000/4185, Loss: 0.0288, Accuracy: 99.75%\n",
            "\n",
            "[EPOCH:  8/10] train.loss: 0.0001 train.acc: 99.74% val.loss: 0.0034 val.acc: 90.68%\n",
            "Time elapsed: 1.74 mins \n",
            "\n",
            "Batch 0/4185, Loss: 0.0057, Accuracy: 100.00%\n",
            "Batch 250/4185, Loss: 0.0058, Accuracy: 99.89%\n",
            "Batch 500/4185, Loss: 0.0040, Accuracy: 99.91%\n",
            "Batch 750/4185, Loss: 0.0052, Accuracy: 99.91%\n",
            "Batch 1000/4185, Loss: 0.0044, Accuracy: 99.91%\n",
            "Batch 1250/4185, Loss: 0.0800, Accuracy: 99.91%\n",
            "Batch 1500/4185, Loss: 0.0147, Accuracy: 99.91%\n",
            "Batch 1750/4185, Loss: 0.0068, Accuracy: 99.90%\n",
            "Batch 2000/4185, Loss: 0.0058, Accuracy: 99.90%\n",
            "Batch 2250/4185, Loss: 0.0140, Accuracy: 99.89%\n",
            "Batch 2500/4185, Loss: 0.0226, Accuracy: 99.88%\n",
            "Batch 2750/4185, Loss: 0.0096, Accuracy: 99.87%\n",
            "Batch 3000/4185, Loss: 0.0117, Accuracy: 99.86%\n",
            "Batch 3250/4185, Loss: 0.0085, Accuracy: 99.86%\n",
            "Batch 3500/4185, Loss: 0.0053, Accuracy: 99.85%\n",
            "Batch 3750/4185, Loss: 0.0265, Accuracy: 99.84%\n",
            "Batch 4000/4185, Loss: 0.0121, Accuracy: 99.83%\n",
            "\n",
            "[EPOCH:  9/10] train.loss: 0.0001 train.acc: 99.83% val.loss: 0.0035 val.acc: 90.66%\n",
            "Time elapsed: 1.94 mins \n",
            "\n",
            "Batch 0/4185, Loss: 0.0029, Accuracy: 100.00%\n",
            "Batch 250/4185, Loss: 0.0126, Accuracy: 99.92%\n",
            "Batch 500/4185, Loss: 0.0098, Accuracy: 99.94%\n",
            "Batch 750/4185, Loss: 0.0095, Accuracy: 99.94%\n",
            "Batch 1000/4185, Loss: 0.0071, Accuracy: 99.94%\n",
            "Batch 1250/4185, Loss: 0.0048, Accuracy: 99.94%\n",
            "Batch 1500/4185, Loss: 0.0114, Accuracy: 99.94%\n",
            "Batch 1750/4185, Loss: 0.0165, Accuracy: 99.93%\n",
            "Batch 2000/4185, Loss: 0.0504, Accuracy: 99.92%\n",
            "Batch 2250/4185, Loss: 0.0126, Accuracy: 99.92%\n",
            "Batch 2500/4185, Loss: 0.0084, Accuracy: 99.91%\n",
            "Batch 2750/4185, Loss: 0.0014, Accuracy: 99.90%\n",
            "Batch 3000/4185, Loss: 0.0656, Accuracy: 99.90%\n",
            "Batch 3250/4185, Loss: 0.0083, Accuracy: 99.89%\n",
            "Batch 3500/4185, Loss: 0.0096, Accuracy: 99.89%\n",
            "Batch 3750/4185, Loss: 0.0075, Accuracy: 99.88%\n",
            "Batch 4000/4185, Loss: 0.0174, Accuracy: 99.88%\n",
            "\n",
            "[EPOCH: 10/10] train.loss: 0.0001 train.acc: 99.87% val.loss: 0.0036 val.acc: 90.67%\n",
            "Time elapsed: 2.14 mins \n",
            "\n"
          ]
        }
      ]
    },
    {
      "cell_type": "code",
      "source": [
        "# Plot loss and accuracy curves\n",
        "plot_loss_and_accuracy_curves(epoch_loss=epoch_loss, epoch_acc=epoch_acc, \n",
        "                              save_path=output_dir)"
      ],
      "metadata": {
        "colab": {
          "base_uri": "https://localhost:8080/",
          "height": 361
        },
        "id": "t9dJ6YaObfUa",
        "outputId": "14802cd9-0b9d-49ec-e83c-51419fb58ce4"
      },
      "execution_count": 23,
      "outputs": [
        {
          "output_type": "display_data",
          "data": {
            "text/plain": [
              "<Figure size 1200x400 with 2 Axes>"
            ],
            "image/png": "[encoded data removed]"
          },
          "metadata": {}
        }
      ]
    },
    {
      "cell_type": "code",
      "source": [
        "# Evaluate performance on the held-out test dataset\n",
        "test_loss_total, test_acc_total = model.evaluate(dataloaders['test'], loss_fn)\n",
        "print(f'[Test set performance]',\n",
        "        f'test.loss: {test_loss_total:.4f}',\n",
        "        f'test.acc: {100 * test_acc_total:3.2f}%')"
      ],
      "metadata": {
        "colab": {
          "base_uri": "https://localhost:8080/"
        },
        "id": "jq4zlZNdch96",
        "outputId": "416dedce-5b72-4b93-a425-dd94fb9d5b93"
      },
      "execution_count": 24,
      "outputs": [
        {
          "output_type": "stream",
          "name": "stdout",
          "text": [
            "[Test set performance] test.loss: 0.0037 test.acc: 90.56%\n"
          ]
        }
      ]
    },
    {
      "cell_type": "code",
      "source": [
        "# Save the trained model\n",
        "model.save_model(state_dict_model_path=f'{output_dir}/softmax_state_dict_model.pt')"
      ],
      "metadata": {
        "id": "K9qJNOO1bfK5"
      },
      "execution_count": 25,
      "outputs": []
    },
    {
      "cell_type": "code",
      "source": [
        "# Predict the labels on the test dataset\n",
        "test_predictions, test_acc = model.predict(dataloaders['test'])"
      ],
      "metadata": {
        "id": "9IAbK2fbch1F"
      },
      "execution_count": 26,
      "outputs": []
    },
    {
      "cell_type": "code",
      "source": [
        "# Save predicted labels\n",
        "test_df['softmaxreg_preds'] = test_predictions\n",
        "test_df.to_csv(f'{output_dir}/softmaxreg_test_preds.csv', index=False)"
      ],
      "metadata": {
        "id": "-sgZZzTOeayB"
      },
      "execution_count": 27,
      "outputs": []
    },
    {
      "cell_type": "code",
      "source": [
        "# Generate prediction for a random seq\n",
        "# idx = np.random.randint(0, 100)\n",
        "idx = 65\n",
        "test_seq = test_df['sequence'].tolist()[idx]\n",
        "test_label = test_df['true_label_encoded'].tolist()[idx]"
      ],
      "metadata": {
        "id": "80KU9ZiBfMBi"
      },
      "execution_count": 28,
      "outputs": []
    },
    {
      "cell_type": "code",
      "source": [
        "# Encode the test seq and convert to tensor\n",
        "test_encoded = ngrams_bow_model.transform([test_seq]).todense()\n",
        "test_encoded = torch.tensor(test_encoded, dtype=torch.float32)"
      ],
      "metadata": {
        "id": "RJHkfnYFfwE0"
      },
      "execution_count": 29,
      "outputs": []
    },
    {
      "cell_type": "code",
      "source": [
        "test_encoded.shape"
      ],
      "metadata": {
        "colab": {
          "base_uri": "https://localhost:8080/"
        },
        "id": "TVOxC4vcgK17",
        "outputId": "5bb4eac0-d31a-4b3c-85ed-82a9f66407da"
      },
      "execution_count": 30,
      "outputs": [
        {
          "output_type": "execute_result",
          "data": {
            "text/plain": [
              "torch.Size([1, 1000])"
            ]
          },
          "metadata": {},
          "execution_count": 30
        }
      ]
    },
    {
      "cell_type": "code",
      "source": [
        "_, prediction = model.forward(test_encoded.to(device))\n",
        "prediction = torch.argmax(prediction, dim=1).item()"
      ],
      "metadata": {
        "id": "3Hvex5gAfL9s"
      },
      "execution_count": 31,
      "outputs": []
    },
    {
      "cell_type": "code",
      "source": [
        "print(f'Predicted label:{prediction} - True Label:{test_label}')"
      ],
      "metadata": {
        "colab": {
          "base_uri": "https://localhost:8080/"
        },
        "id": "XkmLhKtMfL1a",
        "outputId": "faf9c5de-d769-4589-9f6f-af4fae2a02e8"
      },
      "execution_count": 32,
      "outputs": [
        {
          "output_type": "stream",
          "name": "stdout",
          "text": [
            "Predicted label:1618 - True Label:1618\n"
          ]
        }
      ]
    },
    {
      "cell_type": "code",
      "source": [
        "# Generate prediction with the loaded model\n",
        "softmax_model = SoftmaxRegression(num_features=num_features,\n",
        "                                  num_classes=num_classes)\n",
        "\n",
        "loaded_model = ProteinModel(softmax_model)\n",
        "loaded_model.load_model(f'{output_dir}/softmax_state_dict_model.pt')\n",
        "\n",
        "_, prediction = loaded_model.forward(test_encoded.to(device))\n",
        "prediction = torch.argmax(prediction, dim=1).item()\n",
        "print(f'Predicted label:{prediction} - True Label:{test_label}')"
      ],
      "metadata": {
        "colab": {
          "base_uri": "https://localhost:8080/"
        },
        "id": "4-cuhGl86NSZ",
        "outputId": "a7ea5ea9-eaa8-422f-f566-b8c119750c15"
      },
      "execution_count": 33,
      "outputs": [
        {
          "output_type": "stream",
          "name": "stdout",
          "text": [
            "Predicted label:1618 - True Label:1618\n"
          ]
        }
      ]
    },
    {
      "cell_type": "markdown",
      "source": [
        "**Observation**: \n",
        "- softmax regression achieves the accuracy on the test dataset: `test.acc: 90.63%`\n",
        "- after 4 epochs, the improvement in performance is small. To prevent potential overfitting, the model is selected after 4 epochs using the early stopping technique\n",
        "- n-grams BoW feature representation yields quite meaning encoding of protein sequence\n",
        "\n",
        "\n",
        "Next steps to do / experiment with:\n",
        "- Increase complexity of the model (add more FC layers prior to softmax)\n",
        "- Have better hand-crafted feature representations (longer feature vector, different encoding technique) of the protein sequence \n",
        "- Switch to sequence models (to learn features without applying domain knowledge)"
      ],
      "metadata": {
        "id": "_7S1xJi3XNPZ"
      }
    },
    {
      "cell_type": "markdown",
      "source": [
        "\n",
        "\n",
        "---\n",
        "\n",
        "\n",
        "\n",
        "---\n",
        "\n"
      ],
      "metadata": {
        "id": "D6uZAFjhq0tx"
      }
    },
    {
      "cell_type": "code",
      "source": [
        "## Save the sklearn.feature_extraction.text.CountVectorizer"
      ],
      "metadata": {
        "id": "i2vEiVGW77kk"
      },
      "execution_count": null,
      "outputs": []
    },
    {
      "cell_type": "code",
      "source": [
        "from utils import save_count_vectorizer_params, save_count_vectorizer_vocab, load_count_vectorizer"
      ],
      "metadata": {
        "id": "ZyzNQ8QSq29Y"
      },
      "execution_count": 34,
      "outputs": []
    },
    {
      "cell_type": "code",
      "source": [
        "save_count_vectorizer_params(ngrams_bow_model, output_dir)"
      ],
      "metadata": {
        "colab": {
          "base_uri": "https://localhost:8080/"
        },
        "id": "29qaNVGpq9El",
        "outputId": "b4d5f8f3-dd99-445f-df81-64ff5a62aba0"
      },
      "execution_count": 35,
      "outputs": [
        {
          "output_type": "stream",
          "name": "stdout",
          "text": [
            "CountVectorizer parameters saved at: /content/drive/MyDrive/colabProteinProject/outputs/softmax_reg/count_vectorizer_params.json\n"
          ]
        }
      ]
    },
    {
      "cell_type": "code",
      "source": [
        "save_count_vectorizer_vocab(ngrams_bow_model, output_dir)"
      ],
      "metadata": {
        "colab": {
          "base_uri": "https://localhost:8080/"
        },
        "id": "IwwRoPY2q869",
        "outputId": "d12b5576-f99f-4d39-a497-beb887a9f32e"
      },
      "execution_count": 36,
      "outputs": [
        {
          "output_type": "stream",
          "name": "stdout",
          "text": [
            "CountVectorizer vocabulary saved at: /content/drive/MyDrive/colabProteinProject/outputs/softmax_reg/count_vectorizer_vocab.json\n"
          ]
        }
      ]
    },
    {
      "cell_type": "code",
      "source": [
        "# load the CountVectorizer\n",
        "loaded_ngram_bow_model = load_count_vectorizer(cv_params_path='/content/drive/MyDrive/colabProteinProject/outputs/softmax_reg/count_vectorizer_params.json',\n",
        "                                               cv_vocab_path='/content/drive/MyDrive/colabProteinProject/outputs/softmax_reg/count_vectorizer_vocab.json')"
      ],
      "metadata": {
        "id": "RZ5s0sNBrSHp"
      },
      "execution_count": 37,
      "outputs": []
    },
    {
      "cell_type": "code",
      "source": [
        "if loaded_ngram_bow_model.vocabulary_ == ngrams_bow_model.vocabulary_:\n",
        "    print(\"The dictionaries have the same contents.\")"
      ],
      "metadata": {
        "colab": {
          "base_uri": "https://localhost:8080/"
        },
        "id": "3RxLxJrSrjig",
        "outputId": "06670a4e-bdcc-4f1c-d463-b1125e66ece8"
      },
      "execution_count": 39,
      "outputs": [
        {
          "output_type": "stream",
          "name": "stdout",
          "text": [
            "The dictionaries have the same contents.\n"
          ]
        }
      ]
    },
    {
      "cell_type": "code",
      "source": [
        "# Encode the test seq and convert to tensor\n",
        "test_encoded_loaded = loaded_ngram_bow_model.transform([test_seq]).todense()\n",
        "test_encoded_loaded = torch.tensor(test_encoded_loaded, dtype=torch.float32)\n",
        "\n",
        "_, prediction = model.forward(test_encoded_loaded.to(device))\n",
        "prediction = torch.argmax(prediction, dim=1).item()\n",
        "\n",
        "print(f'Predicted label:{prediction} - True Label:{test_label}')"
      ],
      "metadata": {
        "colab": {
          "base_uri": "https://localhost:8080/"
        },
        "outputId": "4c3be93b-8da0-4dfb-a05d-884ea9d6e2f5",
        "id": "i1h6T2KxrvYl"
      },
      "execution_count": 40,
      "outputs": [
        {
          "output_type": "stream",
          "name": "stdout",
          "text": [
            "Predicted label:1618 - True Label:1618\n"
          ]
        }
      ]
    },
    {
      "cell_type": "code",
      "source": [
        "# Use loaded ngrams bow model to define test dataset\n",
        "test_dataset = ProteinDataset(raw_seqs=test_df['sequence'],\n",
        "                              seq_encoder=loaded_ngram_bow_model,\n",
        "                              labels=test_df[\"true_label_encoded\"].values)"
      ],
      "metadata": {
        "id": "8qEE-vMyrvYm"
      },
      "execution_count": 41,
      "outputs": []
    },
    {
      "cell_type": "code",
      "source": [
        "test_loader = DataLoader(test_dataset,\n",
        "                        batch_size=batch_size,\n",
        "                        shuffle=False\n",
        "                        )"
      ],
      "metadata": {
        "id": "c1VXxQuArvYn"
      },
      "execution_count": 42,
      "outputs": []
    },
    {
      "cell_type": "code",
      "source": [
        "# Evaluate performance on the held-out test dataset\n",
        "test_loss_total, test_acc_total = model.evaluate(dataloaders['test'], loss_fn)\n",
        "test_acc_total"
      ],
      "metadata": {
        "colab": {
          "base_uri": "https://localhost:8080/"
        },
        "outputId": "c7375dfb-f314-472b-fdba-d99b776f0ff1",
        "id": "x_2SpTGGrvYn"
      },
      "execution_count": 43,
      "outputs": [
        {
          "output_type": "execute_result",
          "data": {
            "text/plain": [
              "0.9056483546493105"
            ]
          },
          "metadata": {},
          "execution_count": 43
        }
      ]
    },
    {
      "cell_type": "markdown",
      "source": [
        "\n",
        "\n",
        "---\n",
        "\n",
        "\n",
        "\n",
        "---\n",
        "\n"
      ],
      "metadata": {
        "id": "CFt4y9BYsV-U"
      }
    },
    {
      "cell_type": "code",
      "source": [
        "## Learning how to save the CountVectorizer"
      ],
      "metadata": {
        "id": "J1uJDzlPsSVt"
      },
      "execution_count": null,
      "outputs": []
    },
    {
      "cell_type": "code",
      "source": [
        "type(ngrams_bow_model)"
      ],
      "metadata": {
        "colab": {
          "base_uri": "https://localhost:8080/"
        },
        "id": "VQBpeFzjk_CU",
        "outputId": "5e9ec4fd-3e66-48a4-b6bd-446ce571d887"
      },
      "execution_count": null,
      "outputs": [
        {
          "output_type": "execute_result",
          "data": {
            "text/plain": [
              "sklearn.feature_extraction.text.CountVectorizer"
            ]
          },
          "metadata": {},
          "execution_count": 60
        }
      ]
    },
    {
      "cell_type": "code",
      "source": [
        "# Save a pickle - security risks\n",
        "import pickle\n",
        "\n",
        "with open(f'{output_dir}/ngrams_bow_model.pkl', 'wb') as fout:\n",
        "    pickle.dump(ngrams_bow_model, fout)"
      ],
      "metadata": {
        "id": "VXnjZtXbk-53"
      },
      "execution_count": null,
      "outputs": []
    },
    {
      "cell_type": "code",
      "source": [
        "with open(f'{output_dir}/ngrams_bow_model.pkl', 'rb') as f:\n",
        "    loaded_ngrams_bow_model_pickle = pickle.load(f)"
      ],
      "metadata": {
        "id": "ECdvpKGs8B9A"
      },
      "execution_count": null,
      "outputs": []
    },
    {
      "cell_type": "code",
      "source": [
        "# Encode the test seq and convert to tensor\n",
        "test_encoded_pickle = loaded_ngrams_bow_model_pickle.transform([test_seq]).todense()\n",
        "test_encoded_pickle = torch.tensor(test_encoded_pickle, dtype=torch.float32)\n",
        "\n",
        "_, prediction = model.forward(test_encoded_pickle.to(device))\n",
        "prediction = torch.argmax(prediction, dim=1).item()\n",
        "\n",
        "print(f'Predicted label:{prediction} - True Label:{test_label}')"
      ],
      "metadata": {
        "colab": {
          "base_uri": "https://localhost:8080/"
        },
        "id": "JMrNcm8c8O4r",
        "outputId": "bd4afa9b-a6be-4dcd-ca5e-37963f400952"
      },
      "execution_count": null,
      "outputs": [
        {
          "output_type": "stream",
          "name": "stdout",
          "text": [
            "Predicted label:1618 - True Label:1618\n"
          ]
        }
      ]
    },
    {
      "cell_type": "code",
      "source": [
        "if loaded_ngrams_bow_model_pickle.vocabulary_ == ngrams_bow_model.vocabulary_:\n",
        "    print(\"The dictionaries have the same contents.\")"
      ],
      "metadata": {
        "colab": {
          "base_uri": "https://localhost:8080/"
        },
        "id": "sCEDNkx_8B0J",
        "outputId": "10ec1b1e-3fbe-4cd4-c8c6-0d50985f1579"
      },
      "execution_count": null,
      "outputs": [
        {
          "output_type": "stream",
          "name": "stdout",
          "text": [
            "The dictionaries have the same contents.\n"
          ]
        }
      ]
    },
    {
      "cell_type": "code",
      "source": [],
      "metadata": {
        "id": "WrWgZ2_A-G1U"
      },
      "execution_count": null,
      "outputs": []
    },
    {
      "cell_type": "code",
      "source": [
        "### Save the parameters of the vectorizer\n",
        "\n",
        "# Get the parameters of the CountVectorizer\n",
        "ngrams_bow_model_params = ngrams_bow_model.get_params()\n",
        "\n",
        "# Convert non-serializable values to JSON serializable types\n",
        "for key, value in ngrams_bow_model_params.items():\n",
        "    if isinstance(value, type):\n",
        "        ngrams_bow_model_params[key] = str(value)\n",
        "\n",
        "# Save the parameters to a JSON file\n",
        "with open(f'{output_dir}/ngrams_bow_model_params.json', 'w') as f:\n",
        "    json.dump(ngrams_bow_model_params, f, indent=4)"
      ],
      "metadata": {
        "id": "nZgeao269M0S"
      },
      "execution_count": null,
      "outputs": []
    },
    {
      "cell_type": "code",
      "source": [],
      "metadata": {
        "id": "UuSb5UMk_V6C"
      },
      "execution_count": null,
      "outputs": []
    },
    {
      "cell_type": "code",
      "source": [],
      "metadata": {
        "id": "qOzA93o4-ppa"
      },
      "execution_count": null,
      "outputs": []
    },
    {
      "cell_type": "code",
      "source": [
        "# Just the vocabulary to avoid security risks (associated with pickle)\n",
        "vocabulary = ngrams_bow_model.vocabulary_\n",
        "vocabulary = {key: int(value) for key, value in vocabulary.items()}\n",
        "\n",
        "with open(f'{output_dir}/ngrams_bow_model_vocab.json', 'w') as file:\n",
        "    json.dump(vocabulary, file, indent=4)"
      ],
      "metadata": {
        "id": "pMIC6kNJqNGZ"
      },
      "execution_count": null,
      "outputs": []
    },
    {
      "cell_type": "code",
      "source": [
        "with open(f'{output_dir}/ngrams_bow_model_vocab.json', 'r') as file:\n",
        "    vocabulary = json.load(file)\n",
        "\n",
        "loaded_ngrams_bow_model = CountVectorizer(lowercase=False, analyzer='char', \n",
        "                                          ngram_range=(1, 3), max_features=max_features, \n",
        "                                          vocabulary=vocabulary)"
      ],
      "metadata": {
        "id": "lVrZHsjFqMwX"
      },
      "execution_count": null,
      "outputs": []
    },
    {
      "cell_type": "code",
      "source": [
        "len(loaded_ngrams_bow_model.get_feature_names_out())"
      ],
      "metadata": {
        "colab": {
          "base_uri": "https://localhost:8080/"
        },
        "id": "gds3NOP-rfWU",
        "outputId": "3467bd28-c222-487a-b1ce-d013a3d42a40"
      },
      "execution_count": null,
      "outputs": [
        {
          "output_type": "execute_result",
          "data": {
            "text/plain": [
              "1000"
            ]
          },
          "metadata": {},
          "execution_count": 82
        }
      ]
    },
    {
      "cell_type": "code",
      "source": [
        "len(loaded_ngrams_bow_model.vocabulary_)"
      ],
      "metadata": {
        "colab": {
          "base_uri": "https://localhost:8080/"
        },
        "id": "tPWtoQs9Il0z",
        "outputId": "edc647c8-51d8-4e90-a2b0-6caaed51e302"
      },
      "execution_count": null,
      "outputs": [
        {
          "output_type": "execute_result",
          "data": {
            "text/plain": [
              "1000"
            ]
          },
          "metadata": {},
          "execution_count": 83
        }
      ]
    },
    {
      "cell_type": "code",
      "source": [
        "if loaded_ngrams_bow_model.vocabulary_ == ngrams_bow_model.vocabulary_:\n",
        "    print(\"The dictionaries have the same contents.\")"
      ],
      "metadata": {
        "colab": {
          "base_uri": "https://localhost:8080/"
        },
        "id": "XnY9ca_7rZ0x",
        "outputId": "d16ac8ae-f012-4a03-9776-84bd03545bb8"
      },
      "execution_count": null,
      "outputs": [
        {
          "output_type": "stream",
          "name": "stdout",
          "text": [
            "The dictionaries have the same contents.\n"
          ]
        }
      ]
    },
    {
      "cell_type": "code",
      "source": [
        "# Encode the test seq and convert to tensor\n",
        "test_encoded_vocab = loaded_ngrams_bow_model.transform([test_seq]).todense()\n",
        "test_encoded_vocab = torch.tensor(test_encoded_vocab, dtype=torch.float32)\n",
        "\n",
        "_, prediction = model.forward(test_encoded_vocab.to(device))\n",
        "prediction = torch.argmax(prediction, dim=1).item()\n",
        "\n",
        "print(f'Predicted label:{prediction} - True Label:{test_label}')"
      ],
      "metadata": {
        "colab": {
          "base_uri": "https://localhost:8080/"
        },
        "id": "-0SZj9PRI_0h",
        "outputId": "189b1ad8-7f5e-463f-cc51-1f512b3dee1c"
      },
      "execution_count": null,
      "outputs": [
        {
          "output_type": "stream",
          "name": "stdout",
          "text": [
            "Predicted label:1618 - True Label:1618\n"
          ]
        }
      ]
    },
    {
      "cell_type": "code",
      "source": [
        "# Use loaded ngrams bow model to define test dataset\n",
        "test_dataset = ProteinDataset(raw_seqs=test_df['sequence'],\n",
        "                              seq_encoder=loaded_ngrams_bow_model,\n",
        "                              labels=test_df[\"true_label_encoded\"].values)"
      ],
      "metadata": {
        "id": "A_S0SGwxI_u7"
      },
      "execution_count": null,
      "outputs": []
    },
    {
      "cell_type": "code",
      "source": [
        "test_loader = DataLoader(test_dataset,\n",
        "                        batch_size=batch_size,\n",
        "                        shuffle=False\n",
        "                        )"
      ],
      "metadata": {
        "id": "lQolLUGtNRdL"
      },
      "execution_count": null,
      "outputs": []
    },
    {
      "cell_type": "code",
      "source": [
        "# Evaluate performance on the held-out test dataset\n",
        "test_loss_total, test_acc_total = model.evaluate(dataloaders['test'], loss_fn)\n",
        "test_acc_total"
      ],
      "metadata": {
        "colab": {
          "base_uri": "https://localhost:8080/"
        },
        "id": "wXfygEOKr5eM",
        "outputId": "7c26f10f-17dc-432e-edbe-d2b97aa5b074"
      },
      "execution_count": null,
      "outputs": [
        {
          "output_type": "execute_result",
          "data": {
            "text/plain": [
              "0.9053297528560375"
            ]
          },
          "metadata": {},
          "execution_count": 90
        }
      ]
    },
    {
      "cell_type": "code",
      "source": [],
      "metadata": {
        "id": "1VKCPaXmSjSC"
      },
      "execution_count": null,
      "outputs": []
    }
  ]
}